{
 "cells": [
  {
   "cell_type": "markdown",
   "metadata": {
    "id": "m7XG8hej5D3V"
   },
   "source": [
    "<center>\n",
    "<img src=\"imagenes/logo-FCEN.png\" alt=\"FCEN\" style=\"width:1200px;\"/>\n",
    "</center>\n",
    "\n",
    "<font size= \"6\">Curso de posgrado y materia optativa     \n",
    "**Introducción a la programación en R en Biología** </font>\n",
    "\n",
    "**Docentes:**\n",
    "\n",
    "*   Dra. Melisa Olave\n",
    "*   Dra. Laura García\n",
    "*   Lic. Leonardo Gatica\n",
    "*   Lic. María Virginia Chirilá\n",
    "*   Belén Battistela\n",
    "\n",
    "Material elaborado por María Virginia Chirilá\n",
    "\n",
    "---\n",
    "<font size= \"6\">**Clase 1 - Introducción a R**</font>\n",
    "\n",
    "# 🚀Objetivos de esta clase\n",
    "*   Entender que es R y que es RStudio.\n",
    "*   Aprender que ventajas tiene R sobre Excel y otros lenguajes de programación\n",
    "*   Familiarizarse con la interfaz de Rstudio.\n",
    "*   Aprender a descargar R y Rstudio.\n",
    "*   Conocer los diferentes tipos de datos (integrer, numeric, character, logical y complex).\n",
    "*   Conocer los tipos de objetos básicos en R (vectores, matrices, listas, tablas, data frames).\n",
    "*   Conocer los diferentes operadores lógicos y realizar operaciones con ellos.\n"
   ]
  },
  {
   "cell_type": "markdown",
   "metadata": {
    "id": "lXATfJ91P5NB"
   },
   "source": [
    "# Índice\n",
    "<p style=\"text-align: justify; line-height: 1.6; font-size:16px\">\n",
    "\n",
    "- [1 - ¿Qué es R?](#1)\n",
    "- [2 - ¿Qué ventajas tiene R sobre Excel y otros lenguajes de programación?](#2)\n",
    "- [3 - ¿Qué es RStudio?:](#3)\n",
    "- [4 - ¿Cómo descargar R y RStudio](#4)\n",
    "- [5 - Interfaz de RStudio](#5)\n",
    "- [6 - Primeros pasos programando en R](#6)\n",
    "    - [6.1 - Variables](#6.1)\n",
    "    - [6.2 - Reglas para definir variables](#6.2)\n",
    "- [7 - Tipos de datos en R](#7)\n",
    "    - [7.1 - Datos numéricos (numeric)](#7.1)\n",
    "    - [7.2 - Enteros (integer)](#7.2)\n",
    "    - [7.3 - Complejos (complex)](#7.3)\n",
    "    - [7.4 - Caracteres (character o string)](#7.4)\n",
    "    - [7.5 - Lógicos (logic o boolean)](#7.5)\n",
    "    - [7.6 - Factores (factor)](#7.6)\n",
    "    - [7.7 - Datos especiales](#7.7)\n",
    "    - [7.8 - Conversión de tipos de datos](#7.8)\n",
    "- [8 - Tipos de estructuras de datos en R](#8)\n",
    "    - [8.1 - Vectores](#8.1)\n",
    "        - [8.1.1 - Conocer la estructura de un vector](#8.1.1)\n",
    "        - [8.1.2 - Crear vectores ](#8.1.2)\n",
    "        - [8.1.3 - Combinar vectores](#8.1.3)\n",
    "        - [8.1.4 - Repetir vectores](#8.1.4)\n",
    "        - [8.1.5 - Trabajar con indices](#8.1.5)\n",
    "        - [8.1.6 - Trabajar con operadores](#8.1.6)\n",
    "        - [8.1.7 - Operaciones matemáticas con vectores](#8.1.7)  \n",
    "    - [8.2 - Matrices](#8.2)\n",
    "    - [8.3 - Data frames](#8.3)\n",
    "        - [8.3.1 - Crear data frames](#8.3.1)\n",
    "        - [8.3.2 - Conocer la estructura de un data frames](#8.3.2)\n",
    "        - [8.3.3 - Extraer datos de un data frame](#8.3.3)\n",
    "        - [8.3.4 - Unir data frames por columnas](#8.3.4)\n",
    "        - [8.3.5 - Agregar o modificar datos en un data frame](#8.3.5)\n",
    "        - [8.3.6 - Utilizar operadores lógicos para filtrar datos](#8.3.6)\n",
    "    - [8.4 - Listas](#8.4)\n",
    "- [9 - Referencias](#9)\n",
    "</p>"
   ]
  },
  {
   "cell_type": "markdown",
   "metadata": {
    "id": "3ZSYRBF5mbdH"
   },
   "source": [
    "# **Antes de empezar**\n",
    "Google Colab primeramente trabaja con Pyhton como entorno de ejecución. Por eso, para poder correr las celdas de código de este notebook tenemos que cambiar el entorno de ejecución en el menú que esta arriba a la derecha. Ver imagen.\n",
    "<center>\n",
    "<img src=\"imagenes/entorno1.png\" alt=\"FCEN\" style=\"width:400px;\"/>\n",
    "</center>\n",
    "\n",
    "\n",
    "Seleccionar R como entorno de ejecución \n",
    "\n",
    "<center>\n",
    "<img src=\"imagenes/entorno2.png\" alt=\"entorno\" style=\"width:400px;\"/>\n",
    "</center>\n"
   ]
  },
  {
   "cell_type": "markdown",
   "metadata": {
    "id": "ejoskVDSIxLQ"
   },
   "source": [
    "<a name='1'></a>\n",
    "#  **1) ¿Qué es R?** 💻📈\n",
    "R es un lenguaje de programación orientado a la manipulación y al análisis estadístico. Su diseño estuvo fuertemente influenciado por el lenguaje estadístico S, desarrollado por AT&T (una multinacional estadounidense), y es en gran medida compatible con él. El nombre S, de estadística, aludía a otro lenguaje de programación de una sola letra desarrollado en AT&T: el famoso lenguaje C.\n",
    "Podemos decir que R tiene numerosas ventajas sobre otros software estadísticos, entre ellas:\n",
    "\n",
    "* Es un lenguaje de programación **gratuito y open source**.\n",
    "* Tiene gran **potencia** para todo tipo de **procesamiento y manipulación de datos**.\n",
    "* Es utilizado por una amplia **comunidad** de programadores, académicos y profesionales.\n",
    "* Permite la creación de todo tipo de **gráficos y visualizaciones** de datos con calidad de publicación.\n",
    "* Tiene una gran colección de **paquetes complementarios** de distribución gratuita.\n",
    "* Permite la **automatización** del trabajo.\n",
    "* Es **multiplataforma**, esta disponible para los sistemas operativos Windows, Mac y Linux.\n",
    "* Además de proporcionar operaciones estadísticas, R es un lenguaje de programación de **propósito general**, por lo que puede utilizarse para crear nuevas funciones que amplíen las características existentes del lenguaje.\n",
    "* Incorpora características de **programación orientada a objetos y funcional**.\n",
    "* El sistema guarda los conjuntos de datos entre sesiones, por lo que no es necesario recargarlos cada vez. También guarda el **historial de comandos**.\n",
    "* Dado que R es un software de código abierto, es **fácil obtener ayuda** de la comunidad de usuarios.\n",
    "* La generación de nuevas funciones o paquetes surgen del **aporte de los usuarios**, muchos de los cuales son destacados estadísticos.\n"
   ]
  },
  {
   "cell_type": "markdown",
   "metadata": {
    "id": "4gNGa3VERGCT"
   },
   "source": [
    "<a name='2'></a>\n",
    "# **2) ¿Qué ventajas tiene R sobre Excel y otros lenguajes de programación?** 💪📊  \n",
    "\n",
    "## Ventajas de R sobre Excel\n",
    "|        Excel\t|     R            |\n",
    "|---------------|------------------|\n",
    "|Interfaz gráfica intuitiva |\tBasado en código (más reproducible)|\n",
    "|Difícil trabajar con grandes datasets|Escalable a grandes datasets|\n",
    "|Limitado en análisis estadístico|\tLibrerías y funciones estadísticas avanzadas|\n",
    "|Poco automatizable\t|Fácil de automatizar y crear reportes dinámicos|\n",
    "\n",
    "## Ventajas de R sobre otros lenguajes (Python, SPSS, etc.)\n",
    "* R tiene una enorme cantidad de paquetes estadísticos.\n",
    "* Paquetes específicos para análisis biológicos, ecología, bioestadística.\n",
    "* La comunidad académica usa R, muchos papers en biología reproducen análisis en R.\n",
    "* Aunque Python es mejor en análisis como machine learning, R es mejor en análisis estadístico.\n"
   ]
  },
  {
   "cell_type": "markdown",
   "metadata": {
    "id": "xCUOphkZXNxZ"
   },
   "source": [
    "<a name='3'></a>\n",
    "#  **3) ¿Qué es RStudio?** 💻\n",
    "RStudio es un entorno de desarrollo integrado (IDE, Integrated Drive Electronics) que hace más amigable trabajar con R. Facilita la escritura de código, la visualización de gráficos y el manejo de archivos.  Si bien podemos utilizar R desde la terminal de usuario, resulta mucho más fácil trabajar en la interfaz de RStudio que entre otras cosas tiene como ventajas que:\n",
    "* Resalta partes de código, asignando diferentes colores a palabras clave y variables, lo que facilita la lectura\n",
    "* Permite coincidencia automática de corchetes y paréntesis\n",
    "* Tiene auto-completado de código: evita tener que escribir todos los comandos\n",
    "* Permite carga de datos intuitiva.\n",
    "* Permite fácil acceso a la Ayuda de R, con funciones útiles para explorar funciones y sus parámetros.\n",
    "* Permite fácil exploración de variables y valores"
   ]
  },
  {
   "cell_type": "markdown",
   "metadata": {
    "id": "YcSiuCU0aZoI"
   },
   "source": [
    "<a name='4'></a>\n",
    "#  **4) ¿Cómo descargar R y RStudio?** 💾\n",
    "Para este curso vamos a utilizar R y RStudio. Se puede trabajar desde la consola en R, pero recomendamos utilizar RStudio como interfaz para que el proceso de aprendizaje sea mas amigable.\n",
    "Entonces, si queres trabajar desde la consola de R sin utilizar RStudio, deberás descargar sólo R.\n",
    "Si querés trabajar con R en RStudio tendrás que descargarte ambos.   \n",
    "\n",
    "**⚠  Atención!** Para trabajar en RStudio, si o si necesitas tener R descargado en la computadora. Recordemos que RStudio es solo la interfaz, R es el que realiza los análisis, así que si o si necesitas ambos en tu computadora para poder trabajar.\n",
    "\n",
    "<font size= \"5\" color= \"black\">**Descarga R**</font>\n",
    "\n",
    "* **Descarga Windows:** https://cran.r-project.org/bin/windows/\n",
    "* **Descarga Linux:** https://cran.r-project.org/bin/linux/\n",
    "* **Descarga Mac:** https://cran.r-project.org/bin/macosx/\n",
    "\n",
    "<font size= \"5\" color= \"black\">**Descarga RStudio**</font>\n",
    "\n",
    " https://posit.co/download/rstudio-desktop/ (Buscar la versión y el sistema operativo en la página)"
   ]
  },
  {
   "cell_type": "markdown",
   "metadata": {
    "id": "MnXc-lyky0lT"
   },
   "source": [
    "<a name='5'></a>\n",
    "#  **5) Interfaz de RStudio** 💻\n",
    "Cuando abrimos RStudio podemos ver 4 ventanas además de la barra de opciones en la parte superior.\n",
    "* **1. Escritor de código (scripts):** en esta ventana editamos y escribimos nuestro código. Sirve como un borrador ya que lo que se escribe aquí no se ejecuta (a no ser que se cliquee el botón **run** (correr)). En esta ventana podemos crear o editar nuestros scripts y luego guardarlos.\n",
    "\n",
    "* **2. Consola:** Corresponde a lo que sería la consola de R (es lo que veríamos si trabajaramos en R sin RStudio). En esta parte se ejecuta el script contenido en el escritor de código (ventana uno). Aunque conviene trabajar sobre el escritor de código y luego ejecutar, es posible también trabajar directamente en la consola, en este caso todo lo que escribamos se ejecutará cuando demos Enter sin emabrgo, no quedará guardado en el script.\n",
    "\n",
    "*  **3. Entorno:** en esta ventana podemos ver todos los objetos que estan en nuestro ambiente de trabajo. Los objetos que aparecen en el entorno solo corresponden a objetos que fueron guardados como variables. Las variables son elementos que permiten guardar datos e información. Las variables reciben un nombre (el que queramos) al que se le asigna un elemento específico que puede ser desde números hasta tablas o gráficos *(Ejemplo: En la imagen podemos ver que la variable X contenida en el entorno, continene un elemento de tipo character \"Hola mundo\" y que esa variable se creo en la primera línea de código del script al ejecutar X <- \"Hola mundo\")*.\n",
    "\n",
    "* **4. Archivos, gráficos, ayuda, etc:** en esta ventana tenemos varias solapas de las cuales las más importantes son: (1) Files: permite ver los archivos dentro de nuestro directorio de trabajo, (2) Plots: proyecta los gráficos cuando se ejecutan en la consola, (3) Packages: permite instalar paquetes nuevos y actualizar y activar los paquetes ya instalados en nuestra computadora así como acceder a la información del número de versión y una descripción de estos, (4) Help: en esta solapa podemos acceder de manera sencilla a la información sobre determinados paquetes o funciones que nos interesen.\n",
    "\n",
    "\n",
    "\n",
    "<center>\n",
    "<img src=\"imagenes/interfaz-RStudio.jpg\" alt=\"interfaz\" style=\"width:600px;\"/>\n",
    "</center>\n",
    "\n"
   ]
  },
  {
   "cell_type": "markdown",
   "metadata": {
    "id": "e-KYcjMQauQP"
   },
   "source": [
    "<a name='6'></a>\n",
    "# **6) Primeros pasos programando en R** 🍼"
   ]
  },
  {
   "cell_type": "markdown",
   "metadata": {
    "id": "hx_gaKIoZSCW"
   },
   "source": [
    "<a name='6.1'></a>\n",
    "## 6.1) Variables\n",
    "Una variable en términos simples es un espacio de memoria que contiene información (números, caracteres, tablas, etc).\n",
    "\n",
    "Podemos definir una variable en R utilizando esta combinación de caracteres **<-** o el signo igual **=**, así:\n",
    "\n",
    "      mi_variable <- dato\n",
    "      mi_variable2 = dato\n"
   ]
  },
  {
   "cell_type": "code",
   "execution_count": 6,
   "metadata": {
    "colab": {
     "base_uri": "https://localhost:8080/"
    },
    "executionInfo": {
     "elapsed": 61,
     "status": "ok",
     "timestamp": 1743049617092,
     "user": {
      "displayName": "María Virginia Chirilá",
      "userId": "09177795132827406328"
     },
     "user_tz": 180
    },
    "id": "nTWoCcN-UqDY",
    "outputId": "deb73c48-f6b7-47db-c092-5f76ae15fab5"
   },
   "outputs": [
    {
     "name": "stdout",
     "output_type": "stream",
     "text": [
      "[1] \"Hola\"\n"
     ]
    }
   ],
   "source": [
    "# En R los # permiten dejar comentarios en el codigo sin que se ejecuten\n",
    "\n",
    "# Por ejemplo, podemos definir una variable de nombre x que contenga el texto \"Hola\"\n",
    "x <- \"Hola\"\n",
    "print(x) # La función print permite imprimir en pantalla la variable."
   ]
  },
  {
   "cell_type": "markdown",
   "metadata": {
    "id": "NIFnyHeLU4GU"
   },
   "source": [
    "Asignar un valor a una variable significa que ese nombre hará referencia a un objeto específico, permitiendo acceder y manipular su contenido a través de él.\n",
    "En nuestro ejemplo x contiene la palabra \"Hola\". Por ejemplo, si alguna vez necesito escribir \"Hola\" de nuevo simplemente puedo imprimir x, que se contiene esta palabra.\n"
   ]
  },
  {
   "cell_type": "code",
   "execution_count": 7,
   "metadata": {
    "colab": {
     "base_uri": "https://localhost:8080/"
    },
    "executionInfo": {
     "elapsed": 18,
     "status": "ok",
     "timestamp": 1743049617109,
     "user": {
      "displayName": "María Virginia Chirilá",
      "userId": "09177795132827406328"
     },
     "user_tz": 180
    },
    "id": "8yo1ChuEiezF",
    "outputId": "1397001d-b145-4358-c231-b6b7ab810dad"
   },
   "outputs": [
    {
     "name": "stdout",
     "output_type": "stream",
     "text": [
      "Hola a todos"
     ]
    }
   ],
   "source": [
    "cat(x, \"a todos\") # cat es una función que se usa para imprimir texto y valores en la consola de manera más controlada que print"
   ]
  },
  {
   "cell_type": "markdown",
   "metadata": {
    "id": "4IOJb5b5jEWd"
   },
   "source": [
    "Las variables pueden cambiar de valor. Por ejemplo"
   ]
  },
  {
   "cell_type": "code",
   "execution_count": 8,
   "metadata": {
    "colab": {
     "base_uri": "https://localhost:8080/"
    },
    "executionInfo": {
     "elapsed": 9,
     "status": "ok",
     "timestamp": 1743049617120,
     "user": {
      "displayName": "María Virginia Chirilá",
      "userId": "09177795132827406328"
     },
     "user_tz": 180
    },
    "id": "pLsbU5K3jCwT",
    "outputId": "f9d0d712-e8e1-415e-abc3-846b76a6dbc0"
   },
   "outputs": [
    {
     "name": "stdout",
     "output_type": "stream",
     "text": [
      "[1] \"Hola\"\n"
     ]
    }
   ],
   "source": [
    "print(x) # Aquí x es = a \"Hola\"\n"
   ]
  },
  {
   "cell_type": "code",
   "execution_count": 9,
   "metadata": {
    "colab": {
     "base_uri": "https://localhost:8080/"
    },
    "executionInfo": {
     "elapsed": 8,
     "status": "ok",
     "timestamp": 1743049617130,
     "user": {
      "displayName": "María Virginia Chirilá",
      "userId": "09177795132827406328"
     },
     "user_tz": 180
    },
    "id": "IZ3cNVVYjovx",
    "outputId": "c0824286-8666-4cb3-bce9-748298c8d0b2"
   },
   "outputs": [
    {
     "name": "stdout",
     "output_type": "stream",
     "text": [
      "Hola, como están todos?"
     ]
    }
   ],
   "source": [
    "#Cambio el valor de x\n",
    "x <- \"Hola, como están\"\n",
    "cat(x, \"todos?\") #Aquí x cambio a \"Hola, como están\""
   ]
  },
  {
   "cell_type": "markdown",
   "metadata": {
    "id": "_dbrte8Di96T"
   },
   "source": [
    "<font size= 4 color=\"firebrick\"> **⚠ No todos los carácteres, palabras o valores son válidos como variables. Existen reglas para definirlas** </font>"
   ]
  },
  {
   "cell_type": "markdown",
   "metadata": {
    "id": "94hMncJ2aJoF"
   },
   "source": [
    "<a name='6.2'></a>\n",
    "## 6.2) Reglas para definir variables\n",
    "\n",
    "* R diferencia entre mayúsculas y minúsculas. Es decir, por ejemplo las variables Variable_1 y variable_1 son **DOS variables DISTINTAS**."
   ]
  },
  {
   "cell_type": "code",
   "execution_count": 10,
   "metadata": {
    "colab": {
     "base_uri": "https://localhost:8080/",
     "height": 236
    },
    "executionInfo": {
     "elapsed": 8,
     "status": "error",
     "timestamp": 1743049617136,
     "user": {
      "displayName": "María Virginia Chirilá",
      "userId": "09177795132827406328"
     },
     "user_tz": 180
    },
    "id": "mEHwYCQ8bF2y",
    "outputId": "459f2cf1-be35-4832-cec8-cf291f7589f1"
   },
   "outputs": [
    {
     "ename": "ERROR",
     "evalue": "Error in eval(expr, envir, enclos): objeto 'variable' no encontrado\n",
     "output_type": "error",
     "traceback": [
      "Error in eval(expr, envir, enclos): objeto 'variable' no encontrado\nTraceback:\n",
      "1. print(variable)"
     ]
    }
   ],
   "source": [
    "# Por ejemplo\n",
    "Variable <- 10  # Definimos una variable llamada \"Variable\" con mayúscula al principio\n",
    "\n",
    "# Imprimimos variable (con minúscula en vez de mayúscula)\n",
    "print(variable)  # Esto generará un error porque \"variable\" no existe en nuestro entorno de trabajo"
   ]
  },
  {
   "cell_type": "markdown",
   "metadata": {
    "id": "JeLGVRMfbz-Q"
   },
   "source": [
    "* Los nombre de las variables sólo pueden contener letras, dígitos, puntos y guión bajo (_). Pero no pueden tener guión alto (-)\n"
   ]
  },
  {
   "cell_type": "code",
   "execution_count": 11,
   "metadata": {
    "colab": {
     "base_uri": "https://localhost:8080/",
     "height": 109
    },
    "executionInfo": {
     "elapsed": 220,
     "status": "error",
     "timestamp": 1743049625323,
     "user": {
      "displayName": "María Virginia Chirilá",
      "userId": "09177795132827406328"
     },
     "user_tz": 180
    },
    "id": "dmVGmYOcc8Y_",
    "outputId": "7ef1860c-84a3-45ae-ed2e-1fc62ca6c9f0"
   },
   "outputs": [
    {
     "name": "stdout",
     "output_type": "stream",
     "text": [
      "[1] 1\n",
      "[1] \"UNCuyo\"\n"
     ]
    },
    {
     "ename": "ERROR",
     "evalue": "Error: objeto 'dato' no encontrado\n",
     "output_type": "error",
     "traceback": [
      "Error: objeto 'dato' no encontrado\nTraceback:\n"
     ]
    }
   ],
   "source": [
    "dato_1 <- 1\n",
    "print(dato_1)\n",
    "\n",
    "dato.1 <- \"UNCuyo\"\n",
    "print(dato.1)\n",
    "\n",
    "dato-1 <- 235\n",
    "print(dato-1) # Esto dará error"
   ]
  },
  {
   "cell_type": "markdown",
   "metadata": {
    "id": "k6gwW4kRc1UK"
   },
   "source": [
    "* Las variables siempre deben comenzar con una letra."
   ]
  },
  {
   "cell_type": "code",
   "execution_count": 12,
   "metadata": {
    "colab": {
     "base_uri": "https://localhost:8080/",
     "height": 109
    },
    "executionInfo": {
     "elapsed": 83,
     "status": "error",
     "timestamp": 1743049628268,
     "user": {
      "displayName": "María Virginia Chirilá",
      "userId": "09177795132827406328"
     },
     "user_tz": 180
    },
    "id": "ne4q5Ki6d_ih",
    "outputId": "de87d851-d22b-4397-f75b-f97f6030e88e"
   },
   "outputs": [
    {
     "ename": "ERROR",
     "evalue": "Error in parse(text = x, srcfile = src): <text>:1:4: unexpected symbol\n1: 123variable\n       ^\n",
     "output_type": "error",
     "traceback": [
      "Error in parse(text = x, srcfile = src): <text>:1:4: unexpected symbol\n1: 123variable\n       ^\nTraceback:\n"
     ]
    }
   ],
   "source": [
    "123variable <- 123\n",
    "print(123variable) #Esto dará error"
   ]
  },
  {
   "cell_type": "markdown",
   "metadata": {
    "id": "wSAZGJpGeqfy"
   },
   "source": [
    "* Existen palabras reservadas que no pueden utilizarse como nombres de variables o funciones, ya que tienen un significado especial dentro de R.\n",
    "\n",
    "Estas palabras son: **if, else, repeat, while, function, for, in, next, break, TRUE, FALSE, NULL, Inf, NaN, NA, NA_integer_, NA_real_, NA_complex_ y NA_character_**\n",
    "\n"
   ]
  },
  {
   "cell_type": "code",
   "execution_count": 13,
   "metadata": {
    "colab": {
     "base_uri": "https://localhost:8080/",
     "height": 73
    },
    "executionInfo": {
     "elapsed": 28,
     "status": "error",
     "timestamp": 1743049631955,
     "user": {
      "displayName": "María Virginia Chirilá",
      "userId": "09177795132827406328"
     },
     "user_tz": 180
    },
    "id": "WHhY4IV8ggPi",
    "outputId": "158200bf-ba85-4413-bc95-22ca0ee2b5d3"
   },
   "outputs": [
    {
     "ename": "ERROR",
     "evalue": "Error in NA <- \"datos\": lado izquierdo de la asignación inválida (do_set)\n",
     "output_type": "error",
     "traceback": [
      "Error in NA <- \"datos\": lado izquierdo de la asignación inválida (do_set)\nTraceback:\n"
     ]
    }
   ],
   "source": [
    "# Ejemplo\n",
    " NA <- \"datos\" #esto da error"
   ]
  },
  {
   "cell_type": "markdown",
   "metadata": {
    "id": "woFQJTikkIZq"
   },
   "source": [
    "Para poder poder ver el listado completo podemos ejecutar \"reserved\" dentro de la función help()"
   ]
  },
  {
   "cell_type": "code",
   "execution_count": 14,
   "metadata": {
    "executionInfo": {
     "elapsed": 169,
     "status": "ok",
     "timestamp": 1743049634918,
     "user": {
      "displayName": "María Virginia Chirilá",
      "userId": "09177795132827406328"
     },
     "user_tz": 180
    },
    "id": "pkH5u-bqe2VY"
   },
   "outputs": [],
   "source": [
    "help(\"reserved\")"
   ]
  },
  {
   "cell_type": "markdown",
   "metadata": {
    "id": "TO6PkQ2plhu1"
   },
   "source": [
    "<a name='7'></a>\n",
    "# **7) Tipos de datos en R** 🧱\n",
    "R puede trabajar con diferentes tipos de datos los cuales te permiten realizar diferentes tipos de operaciones. Entre los tipos de datos con los que trabaja R se encuentran:\n",
    "\n",
    "  * Númericos (numeric)\n",
    "  * Enteros (integer)\n",
    "  * Complejos (complex)\n",
    "  * Caracteres (character o string)\n",
    "  * Lógicos (logical o boolean)\n",
    "  * Factores (factor)\n",
    "  * Valores especiales (NA, Nan, Inf)"
   ]
  },
  {
   "cell_type": "markdown",
   "metadata": {
    "id": "oJw6cTjg_NaP"
   },
   "source": [
    "<a name='7.1'></a>\n",
    "## 7.1) Datos numéricos (numeric)\n",
    "Son números con o sin decimales. En R, los valores numéricos por defecto son de tipo double (punto flotante). Los tipos de datos double representan números en punto flotante de doble precisión (double-precision floating point). Los números double se almacenan usando 64 bits, lo que permite representar valores con alta precisión y un amplio rango de magnitudes (positivos y negativos, con decimales).\n"
   ]
  },
  {
   "cell_type": "code",
   "execution_count": 15,
   "metadata": {
    "colab": {
     "base_uri": "https://localhost:8080/"
    },
    "executionInfo": {
     "elapsed": 53,
     "status": "ok",
     "timestamp": 1743049644841,
     "user": {
      "displayName": "María Virginia Chirilá",
      "userId": "09177795132827406328"
     },
     "user_tz": 180
    },
    "id": "scdj8fUKAY5P",
    "outputId": "7efc3557-7be1-4173-bb02-9b4580673268"
   },
   "outputs": [
    {
     "name": "stdout",
     "output_type": "stream",
     "text": [
      "[1] 10\n",
      "[1] 3.14\n"
     ]
    }
   ],
   "source": [
    "m <- 10        # Número entero (pero en realidad es \"double\" por defecto)\n",
    "pi_ <- 3.14      # Número decimal\n",
    "print(m)\n",
    "print(pi_)"
   ]
  },
  {
   "cell_type": "code",
   "execution_count": 16,
   "metadata": {
    "colab": {
     "base_uri": "https://localhost:8080/",
     "height": 34
    },
    "executionInfo": {
     "elapsed": 13,
     "status": "ok",
     "timestamp": 1743049617480,
     "user": {
      "displayName": "María Virginia Chirilá",
      "userId": "09177795132827406328"
     },
     "user_tz": 180
    },
    "id": "DTCTUuH7AfMv",
    "outputId": "11e4163c-cbc4-4a24-c500-e74a9ca70304"
   },
   "outputs": [
    {
     "data": {
      "text/html": [
       "'numeric'"
      ],
      "text/latex": [
       "'numeric'"
      ],
      "text/markdown": [
       "'numeric'"
      ],
      "text/plain": [
       "[1] \"numeric\""
      ]
     },
     "metadata": {},
     "output_type": "display_data"
    }
   ],
   "source": [
    "class(m) # la función class() permite acceder a información del tipo de dato"
   ]
  },
  {
   "cell_type": "code",
   "execution_count": 17,
   "metadata": {
    "colab": {
     "base_uri": "https://localhost:8080/",
     "height": 34
    },
    "executionInfo": {
     "elapsed": 12,
     "status": "ok",
     "timestamp": 1743049617495,
     "user": {
      "displayName": "María Virginia Chirilá",
      "userId": "09177795132827406328"
     },
     "user_tz": 180
    },
    "id": "O0slLP7GAtni",
    "outputId": "5869d050-f0c4-44b5-c556-13e6b78e6c1d"
   },
   "outputs": [
    {
     "data": {
      "text/html": [
       "'numeric'"
      ],
      "text/latex": [
       "'numeric'"
      ],
      "text/markdown": [
       "'numeric'"
      ],
      "text/plain": [
       "[1] \"numeric\""
      ]
     },
     "metadata": {},
     "output_type": "display_data"
    }
   ],
   "source": [
    "class(pi_)"
   ]
  },
  {
   "cell_type": "markdown",
   "metadata": {
    "id": "sFx9JxlU__B2"
   },
   "source": [
    "<a name='7.2'></a>\n",
    "## 7.2) Enteros (integer)\n",
    "Son números enteros sin decimales.Se pueden definir usando L."
   ]
  },
  {
   "cell_type": "code",
   "execution_count": 18,
   "metadata": {
    "colab": {
     "base_uri": "https://localhost:8080/",
     "height": 52
    },
    "executionInfo": {
     "elapsed": 22,
     "status": "ok",
     "timestamp": 1743049617513,
     "user": {
      "displayName": "María Virginia Chirilá",
      "userId": "09177795132827406328"
     },
     "user_tz": 180
    },
    "id": "WuRioXWoBLkx",
    "outputId": "21d65804-4113-48fe-8b70-0eef1b4bf787"
   },
   "outputs": [
    {
     "data": {
      "text/html": [
       "'numeric'"
      ],
      "text/latex": [
       "'numeric'"
      ],
      "text/markdown": [
       "'numeric'"
      ],
      "text/plain": [
       "[1] \"numeric\""
      ]
     },
     "metadata": {},
     "output_type": "display_data"
    },
    {
     "data": {
      "text/html": [
       "'integer'"
      ],
      "text/latex": [
       "'integer'"
      ],
      "text/markdown": [
       "'integer'"
      ],
      "text/plain": [
       "[1] \"integer\""
      ]
     },
     "metadata": {},
     "output_type": "display_data"
    }
   ],
   "source": [
    "num1 <- 25      # Es \"double o numeric\" por defecto\n",
    "num2 <- 25L     # Es \"integer\"\n",
    "\n",
    "class(num1)  # \"double o numeric\"\n",
    "class(num2)  # \"integer\""
   ]
  },
  {
   "cell_type": "markdown",
   "metadata": {
    "id": "dNvpFYVSAE6m"
   },
   "source": [
    "<a name='7.3'></a>\n",
    "## 7.3) Complejos (complex)\n",
    "Son números complejos es decir con una parte imaginaria, se representan con i"
   ]
  },
  {
   "cell_type": "code",
   "execution_count": 19,
   "metadata": {
    "colab": {
     "base_uri": "https://localhost:8080/",
     "height": 52
    },
    "executionInfo": {
     "elapsed": 25,
     "status": "ok",
     "timestamp": 1743049617536,
     "user": {
      "displayName": "María Virginia Chirilá",
      "userId": "09177795132827406328"
     },
     "user_tz": 180
    },
    "id": "pbibA9AhB-Kq",
    "outputId": "3b2e17da-b687-47fe-d27b-e1de081c476c"
   },
   "outputs": [
    {
     "name": "stdout",
     "output_type": "stream",
     "text": [
      "[1] 3+2i\n"
     ]
    },
    {
     "data": {
      "text/html": [
       "'complex'"
      ],
      "text/latex": [
       "'complex'"
      ],
      "text/markdown": [
       "'complex'"
      ],
      "text/plain": [
       "[1] \"complex\""
      ]
     },
     "metadata": {},
     "output_type": "display_data"
    }
   ],
   "source": [
    "num_complejo <- 3 + 2i\n",
    "print(num_complejo)\n",
    "class(num_complejo)  # \"complex\""
   ]
  },
  {
   "cell_type": "markdown",
   "metadata": {
    "id": "FM6Ks4g9AOFU"
   },
   "source": [
    "<a name='7.4'></a>\n",
    "## 7.4) Caracteres (character o string)\n",
    "Son cadenas de texto y pueden definirse entre comillas dobles o simples."
   ]
  },
  {
   "cell_type": "code",
   "execution_count": 20,
   "metadata": {
    "colab": {
     "base_uri": "https://localhost:8080/",
     "height": 88
    },
    "executionInfo": {
     "elapsed": 52,
     "status": "ok",
     "timestamp": 1743049617586,
     "user": {
      "displayName": "María Virginia Chirilá",
      "userId": "09177795132827406328"
     },
     "user_tz": 180
    },
    "id": "A_fgqNd9CZsd",
    "outputId": "618c54b7-d133-447a-f21e-ba78eaf19862"
   },
   "outputs": [
    {
     "name": "stdout",
     "output_type": "stream",
     "text": [
      "[1] \"Ana\"\n",
      "[1] \"Hola, mundo\"\n"
     ]
    },
    {
     "data": {
      "text/html": [
       "'character'"
      ],
      "text/latex": [
       "'character'"
      ],
      "text/markdown": [
       "'character'"
      ],
      "text/plain": [
       "[1] \"character\""
      ]
     },
     "metadata": {},
     "output_type": "display_data"
    },
    {
     "data": {
      "text/html": [
       "'character'"
      ],
      "text/latex": [
       "'character'"
      ],
      "text/markdown": [
       "'character'"
      ],
      "text/plain": [
       "[1] \"character\""
      ]
     },
     "metadata": {},
     "output_type": "display_data"
    }
   ],
   "source": [
    "nombre <- \"Ana\"\n",
    "mensaje <- 'Hola, mundo'\n",
    "print(nombre)\n",
    "print(mensaje)\n",
    "\n",
    "class(nombre)\n",
    "class(mensaje)"
   ]
  },
  {
   "cell_type": "markdown",
   "metadata": {
    "id": "pBNuzaLsCkle"
   },
   "source": [
    "<a name='7.5'></a>\n",
    "## 7.5) Lógicos (logic o boolean)\n",
    "Tienen solo dos valores posibles: TRUE o FALSE.\n",
    "\n"
   ]
  },
  {
   "cell_type": "code",
   "execution_count": 21,
   "metadata": {
    "colab": {
     "base_uri": "https://localhost:8080/",
     "height": 52
    },
    "executionInfo": {
     "elapsed": 26,
     "status": "ok",
     "timestamp": 1743049617609,
     "user": {
      "displayName": "María Virginia Chirilá",
      "userId": "09177795132827406328"
     },
     "user_tz": 180
    },
    "id": "Sp2jxOKIC24w",
    "outputId": "0ca6b79c-ef17-4286-bd63-9ee7d0a8d136"
   },
   "outputs": [
    {
     "name": "stdout",
     "output_type": "stream",
     "text": [
      "[1] TRUE\n"
     ]
    },
    {
     "data": {
      "text/html": [
       "'logical'"
      ],
      "text/latex": [
       "'logical'"
      ],
      "text/markdown": [
       "'logical'"
      ],
      "text/plain": [
       "[1] \"logical\""
      ]
     },
     "metadata": {},
     "output_type": "display_data"
    }
   ],
   "source": [
    "es_mayor <- TRUE\n",
    "print(es_mayor)\n",
    "class(es_mayor)  # \"logical\""
   ]
  },
  {
   "cell_type": "markdown",
   "metadata": {
    "id": "mixp_MMvDDzz"
   },
   "source": [
    "<a name='7.6'></a>\n",
    "## 7.6) Factores (factor)\n",
    "Se usan para definir datos categóricos.\n",
    "\n"
   ]
  },
  {
   "cell_type": "code",
   "execution_count": 22,
   "metadata": {
    "colab": {
     "base_uri": "https://localhost:8080/",
     "height": 71
    },
    "executionInfo": {
     "elapsed": 24,
     "status": "ok",
     "timestamp": 1743049617630,
     "user": {
      "displayName": "María Virginia Chirilá",
      "userId": "09177795132827406328"
     },
     "user_tz": 180
    },
    "id": "NkvTVe6qDO2M",
    "outputId": "398b6c23-12af-4b7f-f041-41ba1b75ec29"
   },
   "outputs": [
    {
     "name": "stdout",
     "output_type": "stream",
     "text": [
      "[1] Mujer  Hombre Mujer  Mujer  Hombre\n",
      "Levels: Hombre Mujer\n"
     ]
    },
    {
     "data": {
      "text/html": [
       "'factor'"
      ],
      "text/latex": [
       "'factor'"
      ],
      "text/markdown": [
       "'factor'"
      ],
      "text/plain": [
       "[1] \"factor\""
      ]
     },
     "metadata": {},
     "output_type": "display_data"
    }
   ],
   "source": [
    "genero <- factor(c(\"Mujer\", \"Hombre\", \"Mujer\", \"Mujer\", \"Hombre\"))\n",
    "print(genero)\n",
    "class(genero)"
   ]
  },
  {
   "cell_type": "markdown",
   "metadata": {
    "id": "oXrGEfQcDhaL"
   },
   "source": [
    "<a name='7.7'></a>\n",
    "## 7.7) Datos especiales\n",
    "R tiene valores especiales para manejar datos faltantes o indefinidos\n",
    "\n",
    "| Valor | Significado                             |\n",
    "|-------|-----------------------------------------|\n",
    "| NA    | Dato faltante (Not Available)           |\n",
    "|NaN\t  |No es un número (Not a Number)           |\n",
    "|Inf\t  |Infinito positivo                        |\n",
    "|-Inf\t  |Infinito negativo                        |\n",
    "|NULL\t  |Representa la ausencia total de un valor |"
   ]
  },
  {
   "cell_type": "code",
   "execution_count": 23,
   "metadata": {
    "colab": {
     "base_uri": "https://localhost:8080/"
    },
    "executionInfo": {
     "elapsed": 18,
     "status": "ok",
     "timestamp": 1743049617649,
     "user": {
      "displayName": "María Virginia Chirilá",
      "userId": "09177795132827406328"
     },
     "user_tz": 180
    },
    "id": "x7b-ZrTHFWbG",
    "outputId": "3d570131-2c2d-45a7-e007-bb526f975f3a"
   },
   "outputs": [
    {
     "name": "stdout",
     "output_type": "stream",
     "text": [
      "[1] TRUE\n",
      "[1] TRUE\n",
      "[1] Inf\n"
     ]
    }
   ],
   "source": [
    "j <- NA\n",
    "s <- NaN\n",
    "p <- Inf\n",
    "\n",
    "print(is.na(j))   # TRUE (verifica si un valor es NA)\n",
    "print(is.nan(s))  # TRUE (verifica si un valor es NaN)\n",
    "print(1/0)        # Inf"
   ]
  },
  {
   "cell_type": "markdown",
   "metadata": {
    "id": "H_lfGSiQFu2M"
   },
   "source": [
    "<a name='7.8'></a>\n",
    "## 7.8) Conversión de tipos de datos\n",
    "Podemos convertir entre tipos con funciones como as.numeric(), as.character(), as.logical(), etc."
   ]
  },
  {
   "cell_type": "code",
   "execution_count": 24,
   "metadata": {
    "colab": {
     "base_uri": "https://localhost:8080/",
     "height": 52
    },
    "executionInfo": {
     "elapsed": 6,
     "status": "ok",
     "timestamp": 1743049617654,
     "user": {
      "displayName": "María Virginia Chirilá",
      "userId": "09177795132827406328"
     },
     "user_tz": 180
    },
    "id": "QUZJFHSzF5fl",
    "outputId": "dd70fca8-3096-4388-da10-fc23130d284f"
   },
   "outputs": [
    {
     "data": {
      "text/html": [
       "'character'"
      ],
      "text/latex": [
       "'character'"
      ],
      "text/markdown": [
       "'character'"
      ],
      "text/plain": [
       "[1] \"character\""
      ]
     },
     "metadata": {},
     "output_type": "display_data"
    },
    {
     "data": {
      "text/html": [
       "'numeric'"
      ],
      "text/latex": [
       "'numeric'"
      ],
      "text/markdown": [
       "'numeric'"
      ],
      "text/plain": [
       "[1] \"numeric\""
      ]
     },
     "metadata": {},
     "output_type": "display_data"
    }
   ],
   "source": [
    "num <- \"100\"         # Es un string porque esta entre comillas\n",
    "class(num)\n",
    "num_convertido <- as.numeric(num)\n",
    "class(num_convertido)  # \"double\""
   ]
  },
  {
   "cell_type": "code",
   "execution_count": 25,
   "metadata": {
    "colab": {
     "base_uri": "https://localhost:8080/"
    },
    "executionInfo": {
     "elapsed": 12,
     "status": "ok",
     "timestamp": 1743049617667,
     "user": {
      "displayName": "María Virginia Chirilá",
      "userId": "09177795132827406328"
     },
     "user_tz": 180
    },
    "id": "EZ6RdARgGFKu",
    "outputId": "89266082-41b1-45ce-c69b-76de89826822"
   },
   "outputs": [
    {
     "name": "stdout",
     "output_type": "stream",
     "text": [
      "[1] 0\n",
      "[1] 1\n"
     ]
    }
   ],
   "source": [
    "# Podemos convertir los ceros y unos a booleanos\n",
    "cero <- 0\n",
    "uno <- 1\n",
    "print(cero)\n",
    "print(uno)"
   ]
  },
  {
   "cell_type": "code",
   "execution_count": 26,
   "metadata": {
    "colab": {
     "base_uri": "https://localhost:8080/"
    },
    "executionInfo": {
     "elapsed": 6,
     "status": "ok",
     "timestamp": 1743049617676,
     "user": {
      "displayName": "María Virginia Chirilá",
      "userId": "09177795132827406328"
     },
     "user_tz": 180
    },
    "id": "XddYv2WFGeU0",
    "outputId": "b6294dd0-a6a3-4c02-da6a-bcea3e9a2fea"
   },
   "outputs": [
    {
     "name": "stdout",
     "output_type": "stream",
     "text": [
      "[1] FALSE\n",
      "[1] TRUE\n"
     ]
    }
   ],
   "source": [
    "cero <- as.logical(0)  # FALSE\n",
    "uno <- as.logical(1)  # TRUE\n",
    "\n",
    "print(cero)\n",
    "print(uno)"
   ]
  },
  {
   "cell_type": "markdown",
   "metadata": {
    "id": "l8pIVadWotZd"
   },
   "source": [
    "<a name='8'></a>\n",
    "# **8) Tipos de estructuras de datos en R** 🏢\n",
    "En R existen varias estructuras de datos que se utilizan para almacenar y manipular información. Cada una tiene características específicas y se usa en distintos contextos. Entre estas estructuras podemos encontrar a:\n",
    "\n",
    "\n",
    "*   Vectores\n",
    "*   Matrices\n",
    "*   Data Frames\n",
    "*   Listas\n",
    "*   Arrays\n",
    "\n"
   ]
  },
  {
   "cell_type": "markdown",
   "metadata": {
    "id": "qrneoacKJIl8"
   },
   "source": [
    "<a name='8.1'></a>\n",
    "## 8.1) Vectores\n",
    "Un vector es un conjunto unidimensional de valores, **todos del mismo tipo**. Es la unidad más pequeña con la que se puede trabajar en R. Un valor único también es técnicamente un vector: un vector con un solo elemento. En matemáticas, los vectores casi siempre se usan con valores numéricos, pero en R también pueden incluir otros tipos de datos, como cadenas de caracteres."
   ]
  },
  {
   "cell_type": "code",
   "execution_count": 27,
   "metadata": {
    "colab": {
     "base_uri": "https://localhost:8080/"
    },
    "executionInfo": {
     "elapsed": 55,
     "status": "ok",
     "timestamp": 1743049617732,
     "user": {
      "displayName": "María Virginia Chirilá",
      "userId": "09177795132827406328"
     },
     "user_tz": 180
    },
    "id": "zMtg4o7PKbLC",
    "outputId": "776031c7-ee1f-4309-c428-46ab6467881a"
   },
   "outputs": [
    {
     "name": "stdout",
     "output_type": "stream",
     "text": [
      "[1] 1 2 3 4\n"
     ]
    }
   ],
   "source": [
    "num_vec <- c(1, 2, 3, 4)      # Vector numérico\n",
    "char_vec <- c(\"A\", \"B\", \"C\")  # Vector de caracteres\n",
    "log_vec <- c(TRUE, FALSE, TRUE)  # Vector lógico\n",
    "dos <- 2 # Vector numérico\n",
    "\n",
    "print(num_vec)  # [1] 1 2 3 4"
   ]
  },
  {
   "cell_type": "markdown",
   "metadata": {
    "id": "CibVhli_Kwml"
   },
   "source": [
    "<a name='8.1.1'></a>\n",
    "### 8.1.1) Conocer la estructura de un vector\n",
    "\n",
    "La función str() nos permite conocer la estructura de un vector. length() nos permite conocer el número de elementos de un vector"
   ]
  },
  {
   "cell_type": "code",
   "execution_count": 28,
   "metadata": {
    "colab": {
     "base_uri": "https://localhost:8080/"
    },
    "executionInfo": {
     "elapsed": 17,
     "status": "ok",
     "timestamp": 1743049617745,
     "user": {
      "displayName": "María Virginia Chirilá",
      "userId": "09177795132827406328"
     },
     "user_tz": 180
    },
    "id": "e6eqCIZwL6tL",
    "outputId": "c1a5ac11-db95-45cc-9365-50e2243d53f7"
   },
   "outputs": [
    {
     "name": "stdout",
     "output_type": "stream",
     "text": [
      " num [1:4] 1 2 3 4\n"
     ]
    }
   ],
   "source": [
    "str(num_vec)"
   ]
  },
  {
   "cell_type": "code",
   "execution_count": 29,
   "metadata": {
    "colab": {
     "base_uri": "https://localhost:8080/",
     "height": 34
    },
    "executionInfo": {
     "elapsed": 7,
     "status": "ok",
     "timestamp": 1743049617753,
     "user": {
      "displayName": "María Virginia Chirilá",
      "userId": "09177795132827406328"
     },
     "user_tz": 180
    },
    "id": "pLLTyYD2Lv4U",
    "outputId": "172744ef-573a-4a21-eb4b-2cf82fc93e35"
   },
   "outputs": [
    {
     "data": {
      "text/html": [
       "4"
      ],
      "text/latex": [
       "4"
      ],
      "text/markdown": [
       "4"
      ],
      "text/plain": [
       "[1] 4"
      ]
     },
     "metadata": {},
     "output_type": "display_data"
    }
   ],
   "source": [
    "length(num_vec)"
   ]
  },
  {
   "cell_type": "markdown",
   "metadata": {
    "id": "ueW--q6PMnKI"
   },
   "source": [
    "Podemos testear el tipo de vector con las funciones is.numeric(), is.integer(), is.character(), etc."
   ]
  },
  {
   "cell_type": "code",
   "execution_count": 30,
   "metadata": {
    "colab": {
     "base_uri": "https://localhost:8080/",
     "height": 34
    },
    "executionInfo": {
     "elapsed": 9,
     "status": "ok",
     "timestamp": 1743049617760,
     "user": {
      "displayName": "María Virginia Chirilá",
      "userId": "09177795132827406328"
     },
     "user_tz": 180
    },
    "id": "NqEMx6WaMwOK",
    "outputId": "565b59b3-d472-467c-eb4c-7109df5613b3"
   },
   "outputs": [
    {
     "data": {
      "text/html": [
       "TRUE"
      ],
      "text/latex": [
       "TRUE"
      ],
      "text/markdown": [
       "TRUE"
      ],
      "text/plain": [
       "[1] TRUE"
      ]
     },
     "metadata": {},
     "output_type": "display_data"
    }
   ],
   "source": [
    "is.numeric(num_vec)"
   ]
  },
  {
   "cell_type": "code",
   "execution_count": 31,
   "metadata": {
    "colab": {
     "base_uri": "https://localhost:8080/",
     "height": 34
    },
    "executionInfo": {
     "elapsed": 9,
     "status": "ok",
     "timestamp": 1743049617767,
     "user": {
      "displayName": "María Virginia Chirilá",
      "userId": "09177795132827406328"
     },
     "user_tz": 180
    },
    "id": "Hfe4S928M0vt",
    "outputId": "a764a598-19c1-4598-85a5-500fac2810cd"
   },
   "outputs": [
    {
     "data": {
      "text/html": [
       "FALSE"
      ],
      "text/latex": [
       "FALSE"
      ],
      "text/markdown": [
       "FALSE"
      ],
      "text/plain": [
       "[1] FALSE"
      ]
     },
     "metadata": {},
     "output_type": "display_data"
    }
   ],
   "source": [
    "is.integer(num_vec)"
   ]
  },
  {
   "cell_type": "markdown",
   "metadata": {
    "id": "BJvh0jppNJy4"
   },
   "source": [
    "<a name='8.1.2'></a>\n",
    "### 8.1.2) Crear vectores"
   ]
  },
  {
   "cell_type": "markdown",
   "metadata": {
    "id": "PL17bAk-OtDf"
   },
   "source": [
    "Podemos crear vectores de diferente manera:\n",
    "\n",
    "*   Si nuestro vector tiene un solo elemento, simplemente asignamos el dato a una variable.\n",
    "                numero <- 3\n",
    "                nombre <- \"julia\"\n",
    "*   Con la función concatenar c(). El nombre c() viene de \"combine\" (combinar) y permite reunir varios elementos del mismo tipo de datos en una sola estructura.\n",
    "                comb <- c(1,5,7,9,123)\n",
    "                comb_palabras <- c(\"Juan\",\"Ana\",\"Pablo\")\n",
    "*   Podemos utilizar c() y los : para crear vectores con secuencias de números en intervalos de uno.\n",
    "                secuencia <- c(3:15)\n",
    "Crea un vector con numeros del 3 al 15.\n",
    "                secuencia_negativa <- -c(2:19)\n",
    "Crea un vector con numeros del -19 al -2   \n",
    "*   Crear una secuencia de valores numéricos con seq().\n",
    "                sec_desc <- seq(from = 4.5, to = 2.5, by = -0.5)\n",
    "En este caso crea una secuencia descendiente de 4.5 a 2.5 en intervalos de 0.5.\n",
    "                sec_asc <- seq(from = 2.5, to = 4.5, by = 0.5)\n",
    "Crea una secuencia ascendente de 2.5 a 4.5 en intervalos de 0.5.\n",
    "\n"
   ]
  },
  {
   "cell_type": "markdown",
   "metadata": {
    "id": "7k183b9EWd0T"
   },
   "source": [
    "<a name='8.1.3'></a>\n",
    "### 8.1.3) Combinar vectores\n",
    "Los vectores del mismo tipo se pueden combinar sin que el tipo de dato se modifique.\n",
    "\n"
   ]
  },
  {
   "cell_type": "code",
   "execution_count": 32,
   "metadata": {
    "colab": {
     "base_uri": "https://localhost:8080/"
    },
    "executionInfo": {
     "elapsed": 22,
     "status": "ok",
     "timestamp": 1743049617787,
     "user": {
      "displayName": "María Virginia Chirilá",
      "userId": "09177795132827406328"
     },
     "user_tz": 180
    },
    "id": "dYwqP4hvUSd_",
    "outputId": "b6b8f53e-435d-42ae-b702-c2bacc8bac42"
   },
   "outputs": [
    {
     "name": "stdout",
     "output_type": "stream",
     "text": [
      " [1] 12  4  4  6  9  3  5  3  2  2 12  9\n"
     ]
    }
   ],
   "source": [
    "set1 <- c(12, 4, 4, 6, 9, 3)\n",
    "set2 <- c(5, 3, 2, 2, 12, 9)\n",
    "total <- c(set1 , set2)\n",
    "print(total)"
   ]
  },
  {
   "cell_type": "markdown",
   "metadata": {
    "id": "QZnh_cNZYRR_"
   },
   "source": [
    "Los vectores contienen datos del mismo tipo. Pero cuando uso c() para combinar datos de distinto tipo automáticamente R convierte todos los datos a character."
   ]
  },
  {
   "cell_type": "code",
   "execution_count": 33,
   "metadata": {
    "colab": {
     "base_uri": "https://localhost:8080/"
    },
    "executionInfo": {
     "elapsed": 18,
     "status": "ok",
     "timestamp": 1743049617803,
     "user": {
      "displayName": "María Virginia Chirilá",
      "userId": "09177795132827406328"
     },
     "user_tz": 180
    },
    "id": "f24IaJ11WfcQ",
    "outputId": "e154fbc2-4acf-44b4-e898-a735ea4d5db3"
   },
   "outputs": [
    {
     "name": "stdout",
     "output_type": "stream",
     "text": [
      " num [1:3] 23 89 45\n",
      " chr [1:2] \"mesa\" \"silla\"\n",
      " logi [1:3] TRUE FALSE TRUE\n"
     ]
    }
   ],
   "source": [
    "numero <- c(23,89,45)\n",
    "palabras <- c(\"mesa\", \"silla\")\n",
    "logicos <- c(TRUE, FALSE, TRUE)\n",
    "\n",
    "str(numero)\n",
    "str(palabras)\n",
    "str(logicos)"
   ]
  },
  {
   "cell_type": "code",
   "execution_count": 34,
   "metadata": {
    "colab": {
     "base_uri": "https://localhost:8080/"
    },
    "executionInfo": {
     "elapsed": 16,
     "status": "ok",
     "timestamp": 1743049617817,
     "user": {
      "displayName": "María Virginia Chirilá",
      "userId": "09177795132827406328"
     },
     "user_tz": 180
    },
    "id": "hxGx-hu8Xoot",
    "outputId": "c02e2725-9cb2-4142-de86-717fa1f5039f"
   },
   "outputs": [
    {
     "name": "stdout",
     "output_type": "stream",
     "text": [
      " chr [1:8] \"23\" \"89\" \"45\" \"mesa\" \"silla\" \"TRUE\" \"FALSE\" \"TRUE\"\n"
     ]
    }
   ],
   "source": [
    "combinacion <- c(numero,palabras, logicos)\n",
    "str(combinacion)"
   ]
  },
  {
   "cell_type": "markdown",
   "metadata": {
    "id": "27uqifZTUjzB"
   },
   "source": [
    "<a name='8.1.4'></a>\n",
    "### 8.1.4) Repetir vectores\n",
    "Se puede repetir un vector un número determinado de veces con la función rep()\n"
   ]
  },
  {
   "cell_type": "code",
   "execution_count": 35,
   "metadata": {
    "colab": {
     "base_uri": "https://localhost:8080/",
     "height": 34
    },
    "executionInfo": {
     "elapsed": 5,
     "status": "ok",
     "timestamp": 1743049617823,
     "user": {
      "displayName": "María Virginia Chirilá",
      "userId": "09177795132827406328"
     },
     "user_tz": 180
    },
    "id": "PVddAJPxNI7i",
    "outputId": "4c616eeb-2a75-4b0f-d464-8c6746e317cf"
   },
   "outputs": [
    {
     "data": {
      "text/html": [
       "<style>\n",
       ".list-inline {list-style: none; margin:0; padding: 0}\n",
       ".list-inline>li {display: inline-block}\n",
       ".list-inline>li:not(:last-child)::after {content: \"\\00b7\"; padding: 0 .5ex}\n",
       "</style>\n",
       "<ol class=list-inline><li>0</li><li>0</li><li>7</li><li>0</li><li>0</li><li>7</li><li>0</li><li>0</li><li>7</li></ol>\n"
      ],
      "text/latex": [
       "\\begin{enumerate*}\n",
       "\\item 0\n",
       "\\item 0\n",
       "\\item 7\n",
       "\\item 0\n",
       "\\item 0\n",
       "\\item 7\n",
       "\\item 0\n",
       "\\item 0\n",
       "\\item 7\n",
       "\\end{enumerate*}\n"
      ],
      "text/markdown": [
       "1. 0\n",
       "2. 0\n",
       "3. 7\n",
       "4. 0\n",
       "5. 0\n",
       "6. 7\n",
       "7. 0\n",
       "8. 0\n",
       "9. 7\n",
       "\n",
       "\n"
      ],
      "text/plain": [
       "[1] 0 0 7 0 0 7 0 0 7"
      ]
     },
     "metadata": {},
     "output_type": "display_data"
    }
   ],
   "source": [
    "rep(c(0, 0, 7), times = 3) #Repite el vector c(0,0,7) tres veces"
   ]
  },
  {
   "cell_type": "code",
   "execution_count": 36,
   "metadata": {
    "colab": {
     "base_uri": "https://localhost:8080/",
     "height": 34
    },
    "executionInfo": {
     "elapsed": 66,
     "status": "ok",
     "timestamp": 1743049617890,
     "user": {
      "displayName": "María Virginia Chirilá",
      "userId": "09177795132827406328"
     },
     "user_tz": 180
    },
    "id": "Y_yaPZhGYvMc",
    "outputId": "d990ffcc-4a07-4832-80d3-cbca6b7cd02c"
   },
   "outputs": [
    {
     "data": {
      "text/html": [
       "<style>\n",
       ".list-inline {list-style: none; margin:0; padding: 0}\n",
       ".list-inline>li {display: inline-block}\n",
       ".list-inline>li:not(:last-child)::after {content: \"\\00b7\"; padding: 0 .5ex}\n",
       "</style>\n",
       "<ol class=list-inline><li>'Hola'</li><li>'Hola'</li><li>'Hola'</li></ol>\n"
      ],
      "text/latex": [
       "\\begin{enumerate*}\n",
       "\\item 'Hola'\n",
       "\\item 'Hola'\n",
       "\\item 'Hola'\n",
       "\\end{enumerate*}\n"
      ],
      "text/markdown": [
       "1. 'Hola'\n",
       "2. 'Hola'\n",
       "3. 'Hola'\n",
       "\n",
       "\n"
      ],
      "text/plain": [
       "[1] \"Hola\" \"Hola\" \"Hola\""
      ]
     },
     "metadata": {},
     "output_type": "display_data"
    }
   ],
   "source": [
    "rep(\"Hola\", times=3)"
   ]
  },
  {
   "cell_type": "code",
   "execution_count": 37,
   "metadata": {
    "colab": {
     "base_uri": "https://localhost:8080/",
     "height": 34
    },
    "executionInfo": {
     "elapsed": 10,
     "status": "ok",
     "timestamp": 1743049617899,
     "user": {
      "displayName": "María Virginia Chirilá",
      "userId": "09177795132827406328"
     },
     "user_tz": 180
    },
    "id": "R1MnSXPPU-SR",
    "outputId": "41d53c12-03cb-4e56-bdf9-116d7f46faf9"
   },
   "outputs": [
    {
     "data": {
      "text/html": [
       "<style>\n",
       ".list-inline {list-style: none; margin:0; padding: 0}\n",
       ".list-inline>li {display: inline-block}\n",
       ".list-inline>li:not(:last-child)::after {content: \"\\00b7\"; padding: 0 .5ex}\n",
       "</style>\n",
       "<ol class=list-inline><li>2</li><li>2</li><li>2</li><li>4</li><li>4</li><li>4</li><li>2</li><li>2</li><li>2</li></ol>\n"
      ],
      "text/latex": [
       "\\begin{enumerate*}\n",
       "\\item 2\n",
       "\\item 2\n",
       "\\item 2\n",
       "\\item 4\n",
       "\\item 4\n",
       "\\item 4\n",
       "\\item 2\n",
       "\\item 2\n",
       "\\item 2\n",
       "\\end{enumerate*}\n"
      ],
      "text/markdown": [
       "1. 2\n",
       "2. 2\n",
       "3. 2\n",
       "4. 4\n",
       "5. 4\n",
       "6. 4\n",
       "7. 2\n",
       "8. 2\n",
       "9. 2\n",
       "\n",
       "\n"
      ],
      "text/plain": [
       "[1] 2 2 2 4 4 4 2 2 2"
      ]
     },
     "metadata": {},
     "output_type": "display_data"
    }
   ],
   "source": [
    "rep(c(2, 4, 2), each = 3) #Repite cada elemento del vector c(2,4,2) 3 veces"
   ]
  },
  {
   "cell_type": "code",
   "execution_count": 38,
   "metadata": {
    "colab": {
     "base_uri": "https://localhost:8080/",
     "height": 34
    },
    "executionInfo": {
     "elapsed": 11,
     "status": "ok",
     "timestamp": 1743049617908,
     "user": {
      "displayName": "María Virginia Chirilá",
      "userId": "09177795132827406328"
     },
     "user_tz": 180
    },
    "id": "_xO1UiSDVMuz",
    "outputId": "ec363dec-76cb-4e22-dc0f-b41f99df33e7"
   },
   "outputs": [
    {
     "data": {
      "text/html": [
       "<style>\n",
       ".list-inline {list-style: none; margin:0; padding: 0}\n",
       ".list-inline>li {display: inline-block}\n",
       ".list-inline>li:not(:last-child)::after {content: \"\\00b7\"; padding: 0 .5ex}\n",
       "</style>\n",
       "<ol class=list-inline><li>0</li><li>0</li><li>0</li><li>0</li><li>7</li><li>7</li></ol>\n"
      ],
      "text/latex": [
       "\\begin{enumerate*}\n",
       "\\item 0\n",
       "\\item 0\n",
       "\\item 0\n",
       "\\item 0\n",
       "\\item 7\n",
       "\\item 7\n",
       "\\end{enumerate*}\n"
      ],
      "text/markdown": [
       "1. 0\n",
       "2. 0\n",
       "3. 0\n",
       "4. 0\n",
       "5. 7\n",
       "6. 7\n",
       "\n",
       "\n"
      ],
      "text/plain": [
       "[1] 0 0 0 0 7 7"
      ]
     },
     "metadata": {},
     "output_type": "display_data"
    }
   ],
   "source": [
    "rep(c(0, 7), times = c(4, 2)) #Repite el primer elemento 4 veces y el segundo dos veces"
   ]
  },
  {
   "cell_type": "code",
   "execution_count": 39,
   "metadata": {
    "colab": {
     "base_uri": "https://localhost:8080/",
     "height": 34
    },
    "executionInfo": {
     "elapsed": 9,
     "status": "ok",
     "timestamp": 1743049617915,
     "user": {
      "displayName": "María Virginia Chirilá",
      "userId": "09177795132827406328"
     },
     "user_tz": 180
    },
    "id": "H0J2ppW_VX1b",
    "outputId": "391ae0aa-182e-4d9f-9e80-6991942a6839"
   },
   "outputs": [
    {
     "data": {
      "text/html": [
       "<style>\n",
       ".list-inline {list-style: none; margin:0; padding: 0}\n",
       ".list-inline>li {display: inline-block}\n",
       ".list-inline>li:not(:last-child)::after {content: \"\\00b7\"; padding: 0 .5ex}\n",
       "</style>\n",
       "<ol class=list-inline><li>1</li><li>2</li><li>3</li><li>1</li><li>2</li><li>3</li><li>1</li></ol>\n"
      ],
      "text/latex": [
       "\\begin{enumerate*}\n",
       "\\item 1\n",
       "\\item 2\n",
       "\\item 3\n",
       "\\item 1\n",
       "\\item 2\n",
       "\\item 3\n",
       "\\item 1\n",
       "\\end{enumerate*}\n"
      ],
      "text/markdown": [
       "1. 1\n",
       "2. 2\n",
       "3. 3\n",
       "4. 1\n",
       "5. 2\n",
       "6. 3\n",
       "7. 1\n",
       "\n",
       "\n"
      ],
      "text/plain": [
       "[1] 1 2 3 1 2 3 1"
      ]
     },
     "metadata": {},
     "output_type": "display_data"
    }
   ],
   "source": [
    "rep(1:3, length.out = 7) # Repite el vector hasta alcanzar un maximo de 7 elementos"
   ]
  },
  {
   "cell_type": "markdown",
   "metadata": {
    "id": "sVa8JSL6GdrR"
   },
   "source": [
    "<a name='8.1.5'></a>\n",
    "### 8.1.5) Trabajar con indices\n",
    "En R se puede acceder a los elementos contenidos en un vector utilizando sus índices.\n",
    "Cada elemento de un vector de R tiene asociado indice o index que es un valor numérico mayor igual a uno.\n",
    "\n",
    "En R, para acceder a un elemento de un vector utilizo los corchetes [  ] y el número de índice del elemento/os que quiero obtener.\n",
    "\n",
    "*Nota: en otros lenguajes de programación como Python el indice inicia en cero, es decir el primer elemento de un vector tiene indice = 0.*\n",
    "\n",
    "Por ejemplo: si tengo un vector con una secuencia de numeros del 23 al 40 se que el número 25 tiene índice 3.\n",
    "\n"
   ]
  },
  {
   "cell_type": "code",
   "execution_count": 40,
   "metadata": {
    "colab": {
     "base_uri": "https://localhost:8080/"
    },
    "executionInfo": {
     "elapsed": 16,
     "status": "ok",
     "timestamp": 1743049617930,
     "user": {
      "displayName": "María Virginia Chirilá",
      "userId": "09177795132827406328"
     },
     "user_tz": 180
    },
    "id": "JiY8pMw-ISGU",
    "outputId": "0ca0c092-7b43-47ff-c5be-35e130879c0f"
   },
   "outputs": [
    {
     "name": "stdout",
     "output_type": "stream",
     "text": [
      " [1] 23 24 25 26 27 28 29 30 31 32 33 34 35 36 37 38 39 40\n"
     ]
    }
   ],
   "source": [
    "secuencia <- c(23:40)\n",
    "print(secuencia)"
   ]
  },
  {
   "cell_type": "code",
   "execution_count": 41,
   "metadata": {
    "colab": {
     "base_uri": "https://localhost:8080/",
     "height": 34
    },
    "executionInfo": {
     "elapsed": 8,
     "status": "ok",
     "timestamp": 1743049617937,
     "user": {
      "displayName": "María Virginia Chirilá",
      "userId": "09177795132827406328"
     },
     "user_tz": 180
    },
    "id": "eT6t2PBEIZXV",
    "outputId": "4f70e5b5-983a-4d89-dcbc-794252e19ff6"
   },
   "outputs": [
    {
     "data": {
      "text/html": [
       "25"
      ],
      "text/latex": [
       "25"
      ],
      "text/markdown": [
       "25"
      ],
      "text/plain": [
       "[1] 25"
      ]
     },
     "metadata": {},
     "output_type": "display_data"
    }
   ],
   "source": [
    "secuencia[3] #Obtener el elemento 3 del vector secuencia"
   ]
  },
  {
   "cell_type": "code",
   "execution_count": 42,
   "metadata": {
    "colab": {
     "base_uri": "https://localhost:8080/",
     "height": 34
    },
    "executionInfo": {
     "elapsed": 9,
     "status": "ok",
     "timestamp": 1743049617944,
     "user": {
      "displayName": "María Virginia Chirilá",
      "userId": "09177795132827406328"
     },
     "user_tz": 180
    },
    "id": "svCYmI_gIzcx",
    "outputId": "9eb7e9cf-187c-46ae-bc04-ec7bdfed5c15"
   },
   "outputs": [
    {
     "data": {
      "text/html": [
       "<style>\n",
       ".list-inline {list-style: none; margin:0; padding: 0}\n",
       ".list-inline>li {display: inline-block}\n",
       ".list-inline>li:not(:last-child)::after {content: \"\\00b7\"; padding: 0 .5ex}\n",
       "</style>\n",
       "<ol class=list-inline><li>23</li><li>24</li><li>25</li></ol>\n"
      ],
      "text/latex": [
       "\\begin{enumerate*}\n",
       "\\item 23\n",
       "\\item 24\n",
       "\\item 25\n",
       "\\end{enumerate*}\n"
      ],
      "text/markdown": [
       "1. 23\n",
       "2. 24\n",
       "3. 25\n",
       "\n",
       "\n"
      ],
      "text/plain": [
       "[1] 23 24 25"
      ]
     },
     "metadata": {},
     "output_type": "display_data"
    }
   ],
   "source": [
    "secuencia[1:3] #Puedo obtener más de un elemento"
   ]
  },
  {
   "cell_type": "code",
   "execution_count": 43,
   "metadata": {
    "colab": {
     "base_uri": "https://localhost:8080/",
     "height": 34
    },
    "executionInfo": {
     "elapsed": 7,
     "status": "ok",
     "timestamp": 1743049617949,
     "user": {
      "displayName": "María Virginia Chirilá",
      "userId": "09177795132827406328"
     },
     "user_tz": 180
    },
    "id": "9HeDunQLI53i",
    "outputId": "1f4cc3b0-3998-40f9-9696-c8fce5119b22"
   },
   "outputs": [
    {
     "data": {
      "text/html": [
       "<style>\n",
       ".list-inline {list-style: none; margin:0; padding: 0}\n",
       ".list-inline>li {display: inline-block}\n",
       ".list-inline>li:not(:last-child)::after {content: \"\\00b7\"; padding: 0 .5ex}\n",
       "</style>\n",
       "<ol class=list-inline><li>23</li><li>40</li><li>25</li><li>26</li><li>27</li><li>28</li></ol>\n"
      ],
      "text/latex": [
       "\\begin{enumerate*}\n",
       "\\item 23\n",
       "\\item 40\n",
       "\\item 25\n",
       "\\item 26\n",
       "\\item 27\n",
       "\\item 28\n",
       "\\end{enumerate*}\n"
      ],
      "text/markdown": [
       "1. 23\n",
       "2. 40\n",
       "3. 25\n",
       "4. 26\n",
       "5. 27\n",
       "6. 28\n",
       "\n",
       "\n"
      ],
      "text/plain": [
       "[1] 23 40 25 26 27 28"
      ]
     },
     "metadata": {},
     "output_type": "display_data"
    }
   ],
   "source": [
    "elementos_a_extraer <- c(1,18, 3:6)\n",
    "secuencia[elementos_a_extraer] #puedo ontenerlos tambien en conjunto sin importar el orden en el vector"
   ]
  },
  {
   "cell_type": "markdown",
   "metadata": {
    "id": "_mOL_YhiMnXE"
   },
   "source": [
    "**Exclusión de elementos en un vector usando índices negativos**\n",
    "\n",
    "En R, puedes usar un índice negativo (-) para excluir temporalmente un elemento de un vector. Por ejemplo, si quiero ver todos los elementos del vector secuencia excepto el número 25 (que está en la posición 3), ejecuto:"
   ]
  },
  {
   "cell_type": "code",
   "execution_count": 44,
   "metadata": {
    "colab": {
     "base_uri": "https://localhost:8080/",
     "height": 34
    },
    "executionInfo": {
     "elapsed": 9,
     "status": "ok",
     "timestamp": 1743049617959,
     "user": {
      "displayName": "María Virginia Chirilá",
      "userId": "09177795132827406328"
     },
     "user_tz": 180
    },
    "id": "zMeg-HxaJUQD",
    "outputId": "c4d99a20-0a64-46b7-ba43-87a2a4083671"
   },
   "outputs": [
    {
     "data": {
      "text/html": [
       "<style>\n",
       ".list-inline {list-style: none; margin:0; padding: 0}\n",
       ".list-inline>li {display: inline-block}\n",
       ".list-inline>li:not(:last-child)::after {content: \"\\00b7\"; padding: 0 .5ex}\n",
       "</style>\n",
       "<ol class=list-inline><li>23</li><li>24</li><li>26</li><li>27</li><li>28</li><li>29</li><li>30</li><li>31</li><li>32</li><li>33</li><li>34</li><li>35</li><li>36</li><li>37</li><li>38</li><li>39</li><li>40</li></ol>\n"
      ],
      "text/latex": [
       "\\begin{enumerate*}\n",
       "\\item 23\n",
       "\\item 24\n",
       "\\item 26\n",
       "\\item 27\n",
       "\\item 28\n",
       "\\item 29\n",
       "\\item 30\n",
       "\\item 31\n",
       "\\item 32\n",
       "\\item 33\n",
       "\\item 34\n",
       "\\item 35\n",
       "\\item 36\n",
       "\\item 37\n",
       "\\item 38\n",
       "\\item 39\n",
       "\\item 40\n",
       "\\end{enumerate*}\n"
      ],
      "text/markdown": [
       "1. 23\n",
       "2. 24\n",
       "3. 26\n",
       "4. 27\n",
       "5. 28\n",
       "6. 29\n",
       "7. 30\n",
       "8. 31\n",
       "9. 32\n",
       "10. 33\n",
       "11. 34\n",
       "12. 35\n",
       "13. 36\n",
       "14. 37\n",
       "15. 38\n",
       "16. 39\n",
       "17. 40\n",
       "\n",
       "\n"
      ],
      "text/plain": [
       " [1] 23 24 26 27 28 29 30 31 32 33 34 35 36 37 38 39 40"
      ]
     },
     "metadata": {},
     "output_type": "display_data"
    }
   ],
   "source": [
    "\n",
    "secuencia[-3]\n"
   ]
  },
  {
   "cell_type": "markdown",
   "metadata": {
    "id": "7qswI36oMvqe"
   },
   "source": [
    "**Importante:** Esto no elimina el 25 del vector original, solo muestra una versión sin ese elemento."
   ]
  },
  {
   "cell_type": "code",
   "execution_count": 45,
   "metadata": {
    "colab": {
     "base_uri": "https://localhost:8080/",
     "height": 34
    },
    "executionInfo": {
     "elapsed": 8,
     "status": "ok",
     "timestamp": 1743049617966,
     "user": {
      "displayName": "María Virginia Chirilá",
      "userId": "09177795132827406328"
     },
     "user_tz": 180
    },
    "id": "gLqGZlN2MFRH",
    "outputId": "2178804a-e242-4553-cd2e-ace6838c705c"
   },
   "outputs": [
    {
     "data": {
      "text/html": [
       "<style>\n",
       ".list-inline {list-style: none; margin:0; padding: 0}\n",
       ".list-inline>li {display: inline-block}\n",
       ".list-inline>li:not(:last-child)::after {content: \"\\00b7\"; padding: 0 .5ex}\n",
       "</style>\n",
       "<ol class=list-inline><li>26</li><li>27</li><li>28</li><li>29</li><li>30</li><li>31</li><li>32</li><li>33</li><li>34</li><li>35</li><li>36</li><li>37</li><li>38</li><li>39</li><li>40</li></ol>\n"
      ],
      "text/latex": [
       "\\begin{enumerate*}\n",
       "\\item 26\n",
       "\\item 27\n",
       "\\item 28\n",
       "\\item 29\n",
       "\\item 30\n",
       "\\item 31\n",
       "\\item 32\n",
       "\\item 33\n",
       "\\item 34\n",
       "\\item 35\n",
       "\\item 36\n",
       "\\item 37\n",
       "\\item 38\n",
       "\\item 39\n",
       "\\item 40\n",
       "\\end{enumerate*}\n"
      ],
      "text/markdown": [
       "1. 26\n",
       "2. 27\n",
       "3. 28\n",
       "4. 29\n",
       "5. 30\n",
       "6. 31\n",
       "7. 32\n",
       "8. 33\n",
       "9. 34\n",
       "10. 35\n",
       "11. 36\n",
       "12. 37\n",
       "13. 38\n",
       "14. 39\n",
       "15. 40\n",
       "\n",
       "\n"
      ],
      "text/plain": [
       " [1] 26 27 28 29 30 31 32 33 34 35 36 37 38 39 40"
      ]
     },
     "metadata": {},
     "output_type": "display_data"
    }
   ],
   "source": [
    "# Podes excluir varios elementos de esta manera\n",
    "secuencia[-c(1:3)]"
   ]
  },
  {
   "cell_type": "markdown",
   "metadata": {
    "id": "S7suf6XBM_lN"
   },
   "source": [
    "**Eliminación permanente de un elemento**\n",
    "\n",
    "Si deseas eliminar definitivamente el 25 del vector secuencia, debes reasignar el resultado al mismo vector:"
   ]
  },
  {
   "cell_type": "code",
   "execution_count": 46,
   "metadata": {
    "colab": {
     "base_uri": "https://localhost:8080/"
    },
    "executionInfo": {
     "elapsed": 17,
     "status": "ok",
     "timestamp": 1743049617985,
     "user": {
      "displayName": "María Virginia Chirilá",
      "userId": "09177795132827406328"
     },
     "user_tz": 180
    },
    "id": "XDGej1KALv--",
    "outputId": "e12ec9b6-b079-440c-9913-ff4464e19336"
   },
   "outputs": [
    {
     "name": "stdout",
     "output_type": "stream",
     "text": [
      " [1] 23 24 26 27 28 29 30 31 32 33 34 35 36 37 38 39 40\n"
     ]
    }
   ],
   "source": [
    "secuencia <- secuencia[-3]  # Sobreescribe el vector original\n",
    "print(secuencia)"
   ]
  },
  {
   "cell_type": "markdown",
   "metadata": {
    "id": "ADK5w5GANbn4"
   },
   "source": [
    "**Modificar valores existentes en un vector**\n",
    "\n",
    "Puedes cambiar un elemento específico asignando un nuevo valor a su posición (índice).\n",
    "Usa\n",
    "            \n",
    "             vector[índice] <- nuevo_valor\n",
    "para reemplazar un elemento"
   ]
  },
  {
   "cell_type": "code",
   "execution_count": 47,
   "metadata": {
    "colab": {
     "base_uri": "https://localhost:8080/"
    },
    "executionInfo": {
     "elapsed": 69,
     "status": "ok",
     "timestamp": 1743049618055,
     "user": {
      "displayName": "María Virginia Chirilá",
      "userId": "09177795132827406328"
     },
     "user_tz": 180
    },
    "id": "Ovym1qRCNtvo",
    "outputId": "c743196f-37f3-48a1-99e6-8a537509290e"
   },
   "outputs": [
    {
     "name": "stdout",
     "output_type": "stream",
     "text": [
      "[1] \"manzana\" \"banana\"  \"naranja\"\n",
      "[1] \"manzana\" \"pera\"    \"naranja\"\n"
     ]
    }
   ],
   "source": [
    "# Vector original\n",
    "frutas <- c(\"manzana\", \"banana\", \"naranja\")\n",
    "print(frutas)  # [\"manzana\", \"banana\", \"naranja\"]\n",
    "\n",
    "# Cambiar \"banana\" (posición 2) por \"pera\"\n",
    "frutas[2] <- \"pera\"\n",
    "print(frutas)  # [\"manzana\", \"pera\", \"naranja\"]"
   ]
  },
  {
   "cell_type": "markdown",
   "metadata": {
    "id": "vlPVSZ5YN2AG"
   },
   "source": [
    "**Agregar nuevos valores a un vector**\n",
    "\n",
    "Para añadir elementos, usa índices más allá de la longitud actual del vector o funciones como c() (concatenar)."
   ]
  },
  {
   "cell_type": "code",
   "execution_count": 48,
   "metadata": {
    "colab": {
     "base_uri": "https://localhost:8080/"
    },
    "executionInfo": {
     "elapsed": 19,
     "status": "ok",
     "timestamp": 1743049618076,
     "user": {
      "displayName": "María Virginia Chirilá",
      "userId": "09177795132827406328"
     },
     "user_tz": 180
    },
    "id": "4oAm5kT6OHaV",
    "outputId": "bffadb76-5d2b-41d0-823a-5352b524d50f"
   },
   "outputs": [
    {
     "name": "stdout",
     "output_type": "stream",
     "text": [
      "[1] \"manzana\" \"pera\"    \"naranja\"\n",
      "[1] \"manzana\" \"pera\"    \"naranja\" \"uva\"    \n"
     ]
    }
   ],
   "source": [
    "# Utilizando indices\n",
    "\n",
    "print(frutas)\n",
    "\n",
    "# Agregar uva en la posición 4 (que no existe aún)\n",
    "frutas[4] <- \"uva\"\n",
    "print(frutas)"
   ]
  },
  {
   "cell_type": "code",
   "execution_count": 49,
   "metadata": {
    "colab": {
     "base_uri": "https://localhost:8080/"
    },
    "executionInfo": {
     "elapsed": 18,
     "status": "ok",
     "timestamp": 1743049618097,
     "user": {
      "displayName": "María Virginia Chirilá",
      "userId": "09177795132827406328"
     },
     "user_tz": 180
    },
    "id": "xTHezbFaOagG",
    "outputId": "77295ce0-d359-4c6a-b658-b47558583af5"
   },
   "outputs": [
    {
     "name": "stdout",
     "output_type": "stream",
     "text": [
      "[1] \"manzana\" \"pera\"    \"naranja\" \"uva\"     \"mango\"   \"cereza\"  \"kiwi\"   \n"
     ]
    }
   ],
   "source": [
    "# utilizando c()\n",
    "frutas2 <- c(\"mango\",\"cereza\",\"kiwi\")\n",
    "frutas <- c(frutas, frutas2)\n",
    "print(frutas)"
   ]
  },
  {
   "cell_type": "code",
   "execution_count": 50,
   "metadata": {
    "colab": {
     "base_uri": "https://localhost:8080/"
    },
    "executionInfo": {
     "elapsed": 18,
     "status": "ok",
     "timestamp": 1743049618117,
     "user": {
      "displayName": "María Virginia Chirilá",
      "userId": "09177795132827406328"
     },
     "user_tz": 180
    },
    "id": "vUohqpgrOuZr",
    "outputId": "5de1db2d-b8f5-4a48-e3a9-ae1c20923ca1"
   },
   "outputs": [
    {
     "name": "stdout",
     "output_type": "stream",
     "text": [
      "[1] \"mango\"     \"cereza\"    \"kiwi\"      NA          NA          NA         \n",
      "[7] \"mandarina\"\n"
     ]
    }
   ],
   "source": [
    "#Si asignas un nuevo elemento con numero de indice muy lejando, R rellenara los\n",
    "# espacios con valores NA\n",
    "\n",
    "frutas2[7] <- \"mandarina\"\n",
    "print(frutas2)"
   ]
  },
  {
   "cell_type": "markdown",
   "metadata": {
    "id": "-Kg47ao9Ph5B"
   },
   "source": [
    "<a name='8.1.6'></a>\n",
    "### 8.1.6) Trabajar con operadores\n",
    "\n",
    "\n",
    "Los operadores lógicos en R se usan para evaluar condiciones y combinar expresiones que devuelven valores TRUE (verdadero) o FALSE (falso). Son esenciales en filtrado de datos, condicionales (if-else), y operaciones lógicas.\n",
    "\n",
    "**Operadores lógicos en R**\n",
    "\n",
    "|Operador|\tDescripción|\tEjemplo|\tResultado (ejemplo)|\n",
    "|--------|-------------|---------|---------------------|\n",
    "|  ==    |\tIgualdad\t | 5 == 5  |\tTRUE |\n",
    "|!=    \t | Desigualdad\t|3 != 2|\tTRUE|\n",
    "|<       |\tMenor que|\t10 < 5\t|FALSE|\n",
    "|>       |\tMayor que        |\t10 > 5|\tTRUE|\n",
    "|<=      |\tMenor o igual que|\t5 <= 5\t|TRUE|\n",
    "|>=\t     |Mayor o igual que  |\t8 >= 10|\tFALSE|\n",
    "|&\t     | AND (y lógico) |\t(5 > 3) & (2 < 4)\t|TRUE (ambos verdaderos)|\n",
    "| \\|     |\tOR (o lógico)|\t(5 > 3) \\| (1 > 2)|\tTRUE (al menos uno verdadero)|\n",
    "|!\t     | NOT (negación lógica)|\t!(5 == 5)|\tFALSE|\n",
    "|%in%\t|Pertenece a un conjunto\t|3 %in% c(1, 3, 5)\t|TRUE|"
   ]
  },
  {
   "cell_type": "markdown",
   "metadata": {
    "id": "MIOY82_-T8wY"
   },
   "source": [
    "**Operadores de comparación**"
   ]
  },
  {
   "cell_type": "code",
   "execution_count": 51,
   "metadata": {
    "colab": {
     "base_uri": "https://localhost:8080/",
     "height": 69
    },
    "executionInfo": {
     "elapsed": 191,
     "status": "ok",
     "timestamp": 1743049618307,
     "user": {
      "displayName": "María Virginia Chirilá",
      "userId": "09177795132827406328"
     },
     "user_tz": 180
    },
    "id": "yPDSOPUdT3jH",
    "outputId": "620723de-102a-48cf-8814-f17c6a8d3d0d"
   },
   "outputs": [
    {
     "data": {
      "text/html": [
       "TRUE"
      ],
      "text/latex": [
       "TRUE"
      ],
      "text/markdown": [
       "TRUE"
      ],
      "text/plain": [
       "[1] TRUE"
      ]
     },
     "metadata": {},
     "output_type": "display_data"
    },
    {
     "data": {
      "text/html": [
       "TRUE"
      ],
      "text/latex": [
       "TRUE"
      ],
      "text/markdown": [
       "TRUE"
      ],
      "text/plain": [
       "[1] TRUE"
      ]
     },
     "metadata": {},
     "output_type": "display_data"
    },
    {
     "data": {
      "text/html": [
       "TRUE"
      ],
      "text/latex": [
       "TRUE"
      ],
      "text/markdown": [
       "TRUE"
      ],
      "text/plain": [
       "[1] TRUE"
      ]
     },
     "metadata": {},
     "output_type": "display_data"
    }
   ],
   "source": [
    "x <- 10\n",
    "x > 8   # TRUE\n",
    "x == 10 # TRUE\n",
    "x != 5  # TRUE"
   ]
  },
  {
   "cell_type": "markdown",
   "metadata": {
    "id": "CHP3PJmAUCsw"
   },
   "source": [
    "**Operadores lógicos compuestos**"
   ]
  },
  {
   "cell_type": "code",
   "execution_count": 52,
   "metadata": {
    "colab": {
     "base_uri": "https://localhost:8080/",
     "height": 34
    },
    "executionInfo": {
     "elapsed": 47,
     "status": "ok",
     "timestamp": 1743049618357,
     "user": {
      "displayName": "María Virginia Chirilá",
      "userId": "09177795132827406328"
     },
     "user_tz": 180
    },
    "id": "A32vye00T5pN",
    "outputId": "1b703e95-3cfa-40b0-f202-bce4499cd38b"
   },
   "outputs": [
    {
     "data": {
      "text/html": [
       "TRUE"
      ],
      "text/latex": [
       "TRUE"
      ],
      "text/markdown": [
       "TRUE"
      ],
      "text/plain": [
       "[1] TRUE"
      ]
     },
     "metadata": {},
     "output_type": "display_data"
    }
   ],
   "source": [
    "# Operador & (AND): Para que sea TRUE ambas condiciones deben ser verdaderas:\n",
    "(x > 5) & (x < 15)"
   ]
  },
  {
   "cell_type": "code",
   "execution_count": 53,
   "metadata": {
    "colab": {
     "base_uri": "https://localhost:8080/",
     "height": 34
    },
    "executionInfo": {
     "elapsed": 23,
     "status": "ok",
     "timestamp": 1743049618382,
     "user": {
      "displayName": "María Virginia Chirilá",
      "userId": "09177795132827406328"
     },
     "user_tz": 180
    },
    "id": "T7M0veQKUcBU",
    "outputId": "b2e7e6ae-77db-4608-f9f3-15504fa63d43"
   },
   "outputs": [
    {
     "data": {
      "text/html": [
       "TRUE"
      ],
      "text/latex": [
       "TRUE"
      ],
      "text/markdown": [
       "TRUE"
      ],
      "text/plain": [
       "[1] TRUE"
      ]
     },
     "metadata": {},
     "output_type": "display_data"
    }
   ],
   "source": [
    "# Operador | (OR) al menor una condición debe ser verdadera para que sea TRUE\n",
    "(x < 5) | (x == 10) # TRUE (aunque x < 5 es falso, x == 10 es verdadero)"
   ]
  },
  {
   "cell_type": "code",
   "execution_count": 54,
   "metadata": {
    "colab": {
     "base_uri": "https://localhost:8080/",
     "height": 34
    },
    "executionInfo": {
     "elapsed": 9,
     "status": "ok",
     "timestamp": 1743049618389,
     "user": {
      "displayName": "María Virginia Chirilá",
      "userId": "09177795132827406328"
     },
     "user_tz": 180
    },
    "id": "aeM9iyfHUuNh",
    "outputId": "ebfe91eb-3075-4f01-c1df-741f7b721ed9"
   },
   "outputs": [
    {
     "data": {
      "text/html": [
       "FALSE"
      ],
      "text/latex": [
       "FALSE"
      ],
      "text/markdown": [
       "FALSE"
      ],
      "text/plain": [
       "[1] FALSE"
      ]
     },
     "metadata": {},
     "output_type": "display_data"
    }
   ],
   "source": [
    "# Operador ! (NOT): Invierte el resultado lógico:\n",
    "!(x == 10)  # FALSE (porque x SÍ es igual a 10)"
   ]
  },
  {
   "cell_type": "markdown",
   "metadata": {
    "id": "fBR0_X4KZ2rX"
   },
   "source": [
    "**Operadores especiales**"
   ]
  },
  {
   "cell_type": "code",
   "execution_count": 55,
   "metadata": {
    "colab": {
     "base_uri": "https://localhost:8080/",
     "height": 52
    },
    "executionInfo": {
     "elapsed": 8,
     "status": "ok",
     "timestamp": 1743049618398,
     "user": {
      "displayName": "María Virginia Chirilá",
      "userId": "09177795132827406328"
     },
     "user_tz": 180
    },
    "id": "U_lE7cwCU36M",
    "outputId": "6469e73a-5986-4100-b34a-3dd8724c4660"
   },
   "outputs": [
    {
     "data": {
      "text/html": [
       "TRUE"
      ],
      "text/latex": [
       "TRUE"
      ],
      "text/markdown": [
       "TRUE"
      ],
      "text/plain": [
       "[1] TRUE"
      ]
     },
     "metadata": {},
     "output_type": "display_data"
    },
    {
     "data": {
      "text/html": [
       "FALSE"
      ],
      "text/latex": [
       "FALSE"
      ],
      "text/markdown": [
       "FALSE"
      ],
      "text/plain": [
       "[1] FALSE"
      ]
     },
     "metadata": {},
     "output_type": "display_data"
    }
   ],
   "source": [
    "# Operador %in% Verifica si un valor está dentro de un conjunto\n",
    "colores <- c(\"rojo\", \"azul\", \"verde\")\n",
    "\"azul\" %in% colores  # TRUE\n",
    "\"amarillo\" %in% colores  # FALSE"
   ]
  },
  {
   "cell_type": "code",
   "execution_count": 56,
   "metadata": {
    "colab": {
     "base_uri": "https://localhost:8080/",
     "height": 52
    },
    "executionInfo": {
     "elapsed": 11,
     "status": "ok",
     "timestamp": 1743049618407,
     "user": {
      "displayName": "María Virginia Chirilá",
      "userId": "09177795132827406328"
     },
     "user_tz": 180
    },
    "id": "CzLg7jdyWQok",
    "outputId": "11fb81d1-4afe-4c93-80eb-8c49a255196e"
   },
   "outputs": [
    {
     "data": {
      "text/html": [
       "<style>\n",
       ".list-inline {list-style: none; margin:0; padding: 0}\n",
       ".list-inline>li {display: inline-block}\n",
       ".list-inline>li:not(:last-child)::after {content: \"\\00b7\"; padding: 0 .5ex}\n",
       "</style>\n",
       "<ol class=list-inline><li>22</li><li>25</li></ol>\n"
      ],
      "text/latex": [
       "\\begin{enumerate*}\n",
       "\\item 22\n",
       "\\item 25\n",
       "\\end{enumerate*}\n"
      ],
      "text/markdown": [
       "1. 22\n",
       "2. 25\n",
       "\n",
       "\n"
      ],
      "text/plain": [
       "[1] 22 25"
      ]
     },
     "metadata": {},
     "output_type": "display_data"
    },
    {
     "data": {
      "text/html": [
       "<style>\n",
       ".list-inline {list-style: none; margin:0; padding: 0}\n",
       ".list-inline>li {display: inline-block}\n",
       ".list-inline>li:not(:last-child)::after {content: \"\\00b7\"; padding: 0 .5ex}\n",
       "</style>\n",
       "<ol class=list-inline><li>15</li><li>22</li><li>30</li><li>25</li></ol>\n"
      ],
      "text/latex": [
       "\\begin{enumerate*}\n",
       "\\item 15\n",
       "\\item 22\n",
       "\\item 30\n",
       "\\item 25\n",
       "\\end{enumerate*}\n"
      ],
      "text/markdown": [
       "1. 15\n",
       "2. 22\n",
       "3. 30\n",
       "4. 25\n",
       "\n",
       "\n"
      ],
      "text/plain": [
       "[1] 15 22 30 25"
      ]
     },
     "metadata": {},
     "output_type": "display_data"
    }
   ],
   "source": [
    "#Ejemplo práctico\n",
    "edades <- c(15, 22, 30, 17, 25)\n",
    "\n",
    "# Filtro: edades mayores a 20 Y menores a 28\n",
    "edades[edades > 20 & edades < 28]  # Devuelve: 22, 25\n",
    "\n",
    "# Negación: edades que NO son 17\n",
    "edades[edades != 17]  # Devuelve: 15, 22, 30, 25"
   ]
  },
  {
   "cell_type": "markdown",
   "metadata": {
    "id": "w55C4bZ0YION"
   },
   "source": [
    "<a name='8.1.7'></a>\n",
    "### 8.1.7) Operaciones matemáticas con vectores\n",
    "#### **Operaciones matemáticas básicas**\n",
    "\n",
    "R tiene una serie de operadores aritmeticos para realizar calculos matemáticos.\n",
    "\n",
    "**Operadores aritméticos**\n",
    "\n",
    "|Operador|\tDescripción   |\tEjemplo  |Resultado (x = 5, y = 2)|\n",
    "|--------|----------------|----------|----------------------|\n",
    "|   +    |\t   Suma\t      |x + y     |              \t7     |\n",
    "|\\-      |\tResta         |\tx - y   |\t3                     |\n",
    "|\\*\t     | Multiplicación |\tx * y\t|10                       |\n",
    "|/       |\tDivisión      |\tx / y\t|2.5                      |\n",
    "|^ o **  |\tPotencia      |\tx^y\t  |25 (5 elevado a 2)|\n",
    "|%%\t     |Módulo (resto división)|x %% y|1 (5 ÷ 2 = 2 con resto 1)|\n",
    "|%/%     |\tDivisión entera\t|x %/% y|\t2 (5 ÷ 2 = 2.5 → parte entera)|\n",
    "\n",
    "**Utilizar operadores aritméticos con vectores**\n",
    "Además de las operaciones básicas entre vectores de un elemento podemos realizar operaciones entre vectores más grandes. Ejemplo:"
   ]
  },
  {
   "cell_type": "code",
   "execution_count": 57,
   "metadata": {
    "colab": {
     "base_uri": "https://localhost:8080/"
    },
    "executionInfo": {
     "elapsed": 56,
     "status": "ok",
     "timestamp": 1743049618503,
     "user": {
      "displayName": "María Virginia Chirilá",
      "userId": "09177795132827406328"
     },
     "user_tz": 180
    },
    "id": "tVfvTP3mYHbJ",
    "outputId": "46c4c125-7356-46d2-f66a-45c7d8483793"
   },
   "outputs": [
    {
     "name": "stdout",
     "output_type": "stream",
     "text": [
      "[1] 60 20 20 30 45 15\n",
      "[1] 25 15 10 10 60 45\n"
     ]
    }
   ],
   "source": [
    "# Realicé un muestreo de nidos de abejas solitarias en dos sitios,\n",
    "# cada uno con 6 puntos de muestreo. Recolecte esto\n",
    "nidos_sitio1 <- c(12, 4, 4, 6, 9, 3)\n",
    "nidos_sitio2 <- c(5, 3, 2, 2, 12, 9)\n",
    "\n",
    "#Si se que el promedio de huevos por nido es de 5 podría estimar el total de\n",
    "#huevos para cada punto de cada sitio así:\n",
    "mediahuevos <- 5\n",
    "huevos_sitio1 <- nidos_sitio1*mediahuevos\n",
    "huevos_sitio2 <- nidos_sitio2*mediahuevos\n",
    "\n",
    "print(huevos_sitio1)\n",
    "print(huevos_sitio2)"
   ]
  },
  {
   "cell_type": "code",
   "execution_count": 58,
   "metadata": {
    "colab": {
     "base_uri": "https://localhost:8080/"
    },
    "executionInfo": {
     "elapsed": 21,
     "status": "ok",
     "timestamp": 1743049618522,
     "user": {
      "displayName": "María Virginia Chirilá",
      "userId": "09177795132827406328"
     },
     "user_tz": 180
    },
    "id": "iPIQonXfdv4m",
    "outputId": "8b317ca9-3efe-49fd-c3bf-401a218ad8db"
   },
   "outputs": [
    {
     "name": "stdout",
     "output_type": "stream",
     "text": [
      "[1]  85  35  30  40 105  60\n"
     ]
    }
   ],
   "source": [
    "#Si quisiera sumar todos los huevos por punto de muestreo podría\n",
    "\n",
    " huevos_totales <- huevos_sitio1 + huevos_sitio2\n",
    " print(huevos_totales)"
   ]
  },
  {
   "cell_type": "markdown",
   "metadata": {
    "id": "PVtwC8OseV1U"
   },
   "source": [
    "**Funciones matemáticas útiles**\n",
    "\n",
    "| Función | ¿Qué hace?|\n",
    "|---------|-----------|\n",
    "|abs(x) |Devuelve el valor absoluto de x|\n",
    "|log(x, base = y) | Devuelve el logaritmo de x con base y; si no se especifica la base, devuelve el logaritmo natural|\n",
    "|exp(x) |Devuelve el exponencial de x|\n",
    "|sqrt(x) |Devuelve la raíz cuadrada de x|\n",
    "|factorial(x)| Devuelve el factorial de x (¡x!)\n",
    "|choose(x, y) |Devuelve el número de combinaciones posibles al extraer y elementos de x posibilidades|\n",
    "|round(x, digits= y) | Redondea un número x con y decimales |\n",
    "|floor(x) | Redondea al entero más cercano menor que x. Por lo tanto, floor(123.45) se convierte en 123 y floor(‐123.45) se convierte en –124||\n",
    "|ceiling(x) |Redondea al entero más cercano mayor que x. Esto significa que ceiling(123.45) se convierte en 124 y ceiling(‐123.45) se convierte en –123|\n",
    "|trunc(x)| Redondea al entero más cercano en la dirección de 0. Por lo tanto, trunc(123.65) se convierte en 123 y trunc(‐123.65) se convierte en –123|\n",
    "|sum(x) | Suma todos los valores contenidos en x |\n",
    "\n",
    "\n",
    "**Funciones estadísticas básicas en R**\n",
    "\n",
    "**1. Medidas de Tendencia Central**\n",
    "\n",
    "|Función|\tDescripción|\tEjemplo (x <- c(2, 5, 7, 10, 15))|\n",
    "|-------|------------|-----------------------------------|\n",
    "|mean()|\tMedia aritmética|\tmean(x) → 7.8|\n",
    "|median()|\tMediana\t|median(x) → 7|\n",
    "\n",
    "\n",
    "**2. Medidas de Dispersión**\n",
    "\n",
    "|Función|\tDescripción|\tEjemplo (x <- c(2, 5, 7, 10, 15))|\n",
    "|-------|-----------|----------------------------------|\n",
    "|sd()\t|Desviación estándar|\tsd(x) → 4.924|\n",
    "|var()\t|Varianza\t|var(x) → 24.2|\n",
    "|range()|\tRango (mín y máx)|\trange(x) → c(2, 15)|\n",
    "|min() | Valor mínimo | min(x) → 2|\n",
    "|max()| Valor máximo | max(x) → 15|\n",
    "|IQR()|\tRango intercuartílico\t|IQR(x) → 5 (Q3 - Q1)|\n",
    "|quantile()|\tCuartiles/percentiles\t|quantile(x, probs = 0.75) → 10 (Q3)|\n"
   ]
  },
  {
   "cell_type": "markdown",
   "metadata": {
    "id": "9yfIKCUUJNH2"
   },
   "source": [
    "<a name='8.2'></a>\n",
    "## 8.2) Matrices\n",
    "\n",
    " Las matrices son estructuras bidimensionales donde todos los elementos son del mismo tipo (numérico, carácter, lógico, etc.).\n",
    "\n",
    " Podemos crear una matriz con la función matrix(). Sin embargo, es necesario proporcionar a R un poco más de información. R necesita saber qué valores se quieren incluir en la matriz y cómo. La función matrix() tiene varios argumentos para esto:\n",
    " * data: es un vector de valores que se desea incluir en la matriz.\n",
    " * ncol: toma un solo número que indica a R cuántas columnas se desean.\n",
    " * nrow: toma un solo número que indica a R cuántas filas se desean.\n",
    " * byrow: toma un valor lógico que indica a R si se desea completar la matriz por filas (VERDADERO) o por columnas (FALSO). Por columnas es el valor predeterminado."
   ]
  },
  {
   "cell_type": "code",
   "execution_count": 59,
   "metadata": {
    "colab": {
     "base_uri": "https://localhost:8080/"
    },
    "executionInfo": {
     "elapsed": 18,
     "status": "ok",
     "timestamp": 1743049618542,
     "user": {
      "displayName": "María Virginia Chirilá",
      "userId": "09177795132827406328"
     },
     "user_tz": 180
    },
    "id": "l8iP5JCGn9Ip",
    "outputId": "e452641b-1b73-41fe-e651-ac1cee221cef"
   },
   "outputs": [
    {
     "name": "stdout",
     "output_type": "stream",
     "text": [
      "     [,1] [,2] [,3] [,4]\n",
      "[1,]    1    6   11   16\n",
      "[2,]    2    7   12   17\n",
      "[3,]    3    8   13   18\n",
      "[4,]    4    9   14   19\n",
      "[5,]    5   10   15   20\n"
     ]
    }
   ],
   "source": [
    "vec <- c(1:20)\n",
    "primer_matriz <- matrix(data = vec, ncol = 4)\n",
    "print(primer_matriz)"
   ]
  },
  {
   "cell_type": "code",
   "execution_count": 60,
   "metadata": {
    "colab": {
     "base_uri": "https://localhost:8080/"
    },
    "executionInfo": {
     "elapsed": 23,
     "status": "ok",
     "timestamp": 1743049618561,
     "user": {
      "displayName": "María Virginia Chirilá",
      "userId": "09177795132827406328"
     },
     "user_tz": 180
    },
    "id": "jk2htl7ioUIC",
    "outputId": "56343a5e-9ba1-4c02-8ca9-faba169f5627"
   },
   "outputs": [
    {
     "name": "stdout",
     "output_type": "stream",
     "text": [
      "     [,1] [,2] [,3] [,4]\n",
      "[1,]    1    2    3    4\n",
      "[2,]    5    6    7    8\n",
      "[3,]    9   10   11   12\n",
      "[4,]   13   14   15   16\n",
      "[5,]   17   18   19   20\n"
     ]
    }
   ],
   "source": [
    "primer_matriz2 <- matrix(data = vec, ncol = 4, byrow = TRUE)\n",
    "print(primer_matriz2)"
   ]
  },
  {
   "cell_type": "markdown",
   "metadata": {
    "id": "2WE9tdgWot_B"
   },
   "source": [
    "Podemos acceder a los valores de una matriz utilizando indices:\n",
    "                    \n",
    "                    matriz[fila, columna]"
   ]
  },
  {
   "cell_type": "code",
   "execution_count": 61,
   "metadata": {
    "colab": {
     "base_uri": "https://localhost:8080/",
     "height": 34
    },
    "executionInfo": {
     "elapsed": 13,
     "status": "ok",
     "timestamp": 1743049618575,
     "user": {
      "displayName": "María Virginia Chirilá",
      "userId": "09177795132827406328"
     },
     "user_tz": 180
    },
    "id": "7selXPAnotO3",
    "outputId": "314d9616-c69a-4340-8bf9-089f526e97c1"
   },
   "outputs": [
    {
     "data": {
      "text/html": [
       "17"
      ],
      "text/latex": [
       "17"
      ],
      "text/markdown": [
       "17"
      ],
      "text/plain": [
       "[1] 17"
      ]
     },
     "metadata": {},
     "output_type": "display_data"
    }
   ],
   "source": [
    "#Accedo al valor en la fila 2 de la columna 4\n",
    "primer_matriz[2,4]"
   ]
  },
  {
   "cell_type": "code",
   "execution_count": 62,
   "metadata": {
    "colab": {
     "base_uri": "https://localhost:8080/",
     "height": 34
    },
    "executionInfo": {
     "elapsed": 10,
     "status": "ok",
     "timestamp": 1743049618582,
     "user": {
      "displayName": "María Virginia Chirilá",
      "userId": "09177795132827406328"
     },
     "user_tz": 180
    },
    "id": "ts1UYvOmqFDz",
    "outputId": "bad66d59-26dc-4b64-c810-cb57726da3be"
   },
   "outputs": [
    {
     "data": {
      "text/html": [
       "<style>\n",
       ".list-inline {list-style: none; margin:0; padding: 0}\n",
       ".list-inline>li {display: inline-block}\n",
       ".list-inline>li:not(:last-child)::after {content: \"\\00b7\"; padding: 0 .5ex}\n",
       "</style>\n",
       "<ol class=list-inline><li>2</li><li>7</li><li>12</li><li>17</li></ol>\n"
      ],
      "text/latex": [
       "\\begin{enumerate*}\n",
       "\\item 2\n",
       "\\item 7\n",
       "\\item 12\n",
       "\\item 17\n",
       "\\end{enumerate*}\n"
      ],
      "text/markdown": [
       "1. 2\n",
       "2. 7\n",
       "3. 12\n",
       "4. 17\n",
       "\n",
       "\n"
      ],
      "text/plain": [
       "[1]  2  7 12 17"
      ]
     },
     "metadata": {},
     "output_type": "display_data"
    }
   ],
   "source": [
    "#Accedo a todos los valores en la fila 2\n",
    "primer_matriz[2,]"
   ]
  },
  {
   "cell_type": "code",
   "execution_count": 63,
   "metadata": {
    "colab": {
     "base_uri": "https://localhost:8080/",
     "height": 34
    },
    "executionInfo": {
     "elapsed": 80,
     "status": "ok",
     "timestamp": 1743049618663,
     "user": {
      "displayName": "María Virginia Chirilá",
      "userId": "09177795132827406328"
     },
     "user_tz": 180
    },
    "id": "mhIzc1MfqRgN",
    "outputId": "67757d93-0d0d-426d-fd92-637fe41ef957"
   },
   "outputs": [
    {
     "data": {
      "text/html": [
       "<style>\n",
       ".list-inline {list-style: none; margin:0; padding: 0}\n",
       ".list-inline>li {display: inline-block}\n",
       ".list-inline>li:not(:last-child)::after {content: \"\\00b7\"; padding: 0 .5ex}\n",
       "</style>\n",
       "<ol class=list-inline><li>16</li><li>17</li><li>18</li><li>19</li><li>20</li></ol>\n"
      ],
      "text/latex": [
       "\\begin{enumerate*}\n",
       "\\item 16\n",
       "\\item 17\n",
       "\\item 18\n",
       "\\item 19\n",
       "\\item 20\n",
       "\\end{enumerate*}\n"
      ],
      "text/markdown": [
       "1. 16\n",
       "2. 17\n",
       "3. 18\n",
       "4. 19\n",
       "5. 20\n",
       "\n",
       "\n"
      ],
      "text/plain": [
       "[1] 16 17 18 19 20"
      ]
     },
     "metadata": {},
     "output_type": "display_data"
    }
   ],
   "source": [
    "#Accedo a todos los valores en la columna 4\n",
    "primer_matriz[,4]"
   ]
  },
  {
   "cell_type": "code",
   "execution_count": 64,
   "metadata": {
    "colab": {
     "base_uri": "https://localhost:8080/",
     "height": 34
    },
    "executionInfo": {
     "elapsed": 9,
     "status": "ok",
     "timestamp": 1743049618670,
     "user": {
      "displayName": "María Virginia Chirilá",
      "userId": "09177795132827406328"
     },
     "user_tz": 180
    },
    "id": "dIoeDuYeqZJB",
    "outputId": "00fcee0c-b3b5-4ba4-95fe-a29d0e391fe0"
   },
   "outputs": [
    {
     "data": {
      "text/html": [
       "<style>\n",
       ".list-inline {list-style: none; margin:0; padding: 0}\n",
       ".list-inline>li {display: inline-block}\n",
       ".list-inline>li:not(:last-child)::after {content: \"\\00b7\"; padding: 0 .5ex}\n",
       "</style>\n",
       "<ol class=list-inline><li>17</li><li>18</li></ol>\n"
      ],
      "text/latex": [
       "\\begin{enumerate*}\n",
       "\\item 17\n",
       "\\item 18\n",
       "\\end{enumerate*}\n"
      ],
      "text/markdown": [
       "1. 17\n",
       "2. 18\n",
       "\n",
       "\n"
      ],
      "text/plain": [
       "[1] 17 18"
      ]
     },
     "metadata": {},
     "output_type": "display_data"
    }
   ],
   "source": [
    "#Accedo a los valores de las filas 2 y 3 de la columna 4\n",
    "primer_matriz[2:3,4]"
   ]
  },
  {
   "cell_type": "code",
   "execution_count": 65,
   "metadata": {
    "colab": {
     "base_uri": "https://localhost:8080/",
     "height": 34
    },
    "executionInfo": {
     "elapsed": 18,
     "status": "ok",
     "timestamp": 1743049618689,
     "user": {
      "displayName": "María Virginia Chirilá",
      "userId": "09177795132827406328"
     },
     "user_tz": 180
    },
    "id": "JFgBwIqkqhub",
    "outputId": "ecb7a53f-f94b-4f36-ab63-866a3ad4795b"
   },
   "outputs": [
    {
     "data": {
      "text/html": [
       "<style>\n",
       ".list-inline {list-style: none; margin:0; padding: 0}\n",
       ".list-inline>li {display: inline-block}\n",
       ".list-inline>li:not(:last-child)::after {content: \"\\00b7\"; padding: 0 .5ex}\n",
       "</style>\n",
       "<ol class=list-inline><li>17</li><li>20</li></ol>\n"
      ],
      "text/latex": [
       "\\begin{enumerate*}\n",
       "\\item 17\n",
       "\\item 20\n",
       "\\end{enumerate*}\n"
      ],
      "text/markdown": [
       "1. 17\n",
       "2. 20\n",
       "\n",
       "\n"
      ],
      "text/plain": [
       "[1] 17 20"
      ]
     },
     "metadata": {},
     "output_type": "display_data"
    }
   ],
   "source": [
    "#Accedo a los valores de las filas 2 y 5 de la columna 4\n",
    "primer_matriz[c(2,5),4]"
   ]
  },
  {
   "cell_type": "markdown",
   "metadata": {
    "id": "7Rb_aZyDpcWP"
   },
   "source": [
    "Podemos utilizar dos vectores de igual largo para crear una matriz con la función rbind() o cbind()\n"
   ]
  },
  {
   "cell_type": "code",
   "execution_count": 66,
   "metadata": {
    "colab": {
     "base_uri": "https://localhost:8080/",
     "height": 97
    },
    "executionInfo": {
     "elapsed": 28,
     "status": "ok",
     "timestamp": 1743049618715,
     "user": {
      "displayName": "María Virginia Chirilá",
      "userId": "09177795132827406328"
     },
     "user_tz": 180
    },
    "id": "UdhpctXNpiAY",
    "outputId": "838546f0-a712-45c0-f189-487fd34ade40"
   },
   "outputs": [
    {
     "data": {
      "text/html": [
       "<table class=\"dataframe\">\n",
       "<caption>A matrix: 2 × 6 of type dbl</caption>\n",
       "<tbody>\n",
       "\t<tr><th scope=row>nidos_sitio1</th><td>12</td><td>4</td><td>4</td><td>6</td><td> 9</td><td>3</td></tr>\n",
       "\t<tr><th scope=row>nidos_sitio2</th><td> 5</td><td>3</td><td>2</td><td>2</td><td>12</td><td>9</td></tr>\n",
       "</tbody>\n",
       "</table>\n"
      ],
      "text/latex": [
       "A matrix: 2 × 6 of type dbl\n",
       "\\begin{tabular}{r|llllll}\n",
       "\tnidos\\_sitio1 & 12 & 4 & 4 & 6 &  9 & 3\\\\\n",
       "\tnidos\\_sitio2 &  5 & 3 & 2 & 2 & 12 & 9\\\\\n",
       "\\end{tabular}\n"
      ],
      "text/markdown": [
       "\n",
       "A matrix: 2 × 6 of type dbl\n",
       "\n",
       "| nidos_sitio1 | 12 | 4 | 4 | 6 |  9 | 3 |\n",
       "| nidos_sitio2 |  5 | 3 | 2 | 2 | 12 | 9 |\n",
       "\n"
      ],
      "text/plain": [
       "             [,1] [,2] [,3] [,4] [,5] [,6]\n",
       "nidos_sitio1 12   4    4    6     9   3   \n",
       "nidos_sitio2  5   3    2    2    12   9   "
      ]
     },
     "metadata": {},
     "output_type": "display_data"
    }
   ],
   "source": [
    "muestreo_nidos <- rbind(nidos_sitio1,nidos_sitio2)\n",
    "muestreo_nidos"
   ]
  },
  {
   "cell_type": "code",
   "execution_count": 67,
   "metadata": {
    "colab": {
     "base_uri": "https://localhost:8080/",
     "height": 255
    },
    "executionInfo": {
     "elapsed": 8,
     "status": "ok",
     "timestamp": 1743049618725,
     "user": {
      "displayName": "María Virginia Chirilá",
      "userId": "09177795132827406328"
     },
     "user_tz": 180
    },
    "id": "op2ICHwpp2eM",
    "outputId": "1e698987-106e-42ab-f551-65f844cb89dc"
   },
   "outputs": [
    {
     "data": {
      "text/html": [
       "<table class=\"dataframe\">\n",
       "<caption>A matrix: 6 × 2 of type dbl</caption>\n",
       "<thead>\n",
       "\t<tr><th scope=col>huevos_sitio1</th><th scope=col>huevos_sitio2</th></tr>\n",
       "</thead>\n",
       "<tbody>\n",
       "\t<tr><td>60</td><td>25</td></tr>\n",
       "\t<tr><td>20</td><td>15</td></tr>\n",
       "\t<tr><td>20</td><td>10</td></tr>\n",
       "\t<tr><td>30</td><td>10</td></tr>\n",
       "\t<tr><td>45</td><td>60</td></tr>\n",
       "\t<tr><td>15</td><td>45</td></tr>\n",
       "</tbody>\n",
       "</table>\n"
      ],
      "text/latex": [
       "A matrix: 6 × 2 of type dbl\n",
       "\\begin{tabular}{ll}\n",
       " huevos\\_sitio1 & huevos\\_sitio2\\\\\n",
       "\\hline\n",
       "\t 60 & 25\\\\\n",
       "\t 20 & 15\\\\\n",
       "\t 20 & 10\\\\\n",
       "\t 30 & 10\\\\\n",
       "\t 45 & 60\\\\\n",
       "\t 15 & 45\\\\\n",
       "\\end{tabular}\n"
      ],
      "text/markdown": [
       "\n",
       "A matrix: 6 × 2 of type dbl\n",
       "\n",
       "| huevos_sitio1 | huevos_sitio2 |\n",
       "|---|---|\n",
       "| 60 | 25 |\n",
       "| 20 | 15 |\n",
       "| 20 | 10 |\n",
       "| 30 | 10 |\n",
       "| 45 | 60 |\n",
       "| 15 | 45 |\n",
       "\n"
      ],
      "text/plain": [
       "     huevos_sitio1 huevos_sitio2\n",
       "[1,] 60            25           \n",
       "[2,] 20            15           \n",
       "[3,] 20            10           \n",
       "[4,] 30            10           \n",
       "[5,] 45            60           \n",
       "[6,] 15            45           "
      ]
     },
     "metadata": {},
     "output_type": "display_data"
    }
   ],
   "source": [
    "muestreo_huevos <- cbind(huevos_sitio1,huevos_sitio2)\n",
    "muestreo_huevos"
   ]
  },
  {
   "cell_type": "markdown",
   "metadata": {
    "id": "Et3wGBAVMmbX"
   },
   "source": [
    "<a name='8.3'></a>\n",
    "## 8.3) Data Frames\n",
    "\n",
    "Los data frames son estructuras bidimensionales similares a las matrices, pero con columnas con diferentes tipos de datos(numérico, carácter, etc.).\n",
    "\n"
   ]
  },
  {
   "cell_type": "markdown",
   "metadata": {
    "id": "bYLQCrhZF1jk"
   },
   "source": [
    "<a name='8.3.1'></a>\n",
    "### 8.3.1) Crear data frames\n",
    "\n",
    "**Podemos crear data frames a partir de matrices, tablas y vectores**"
   ]
  },
  {
   "cell_type": "code",
   "execution_count": 68,
   "metadata": {
    "colab": {
     "base_uri": "https://localhost:8080/"
    },
    "executionInfo": {
     "elapsed": 27,
     "status": "ok",
     "timestamp": 1743049618754,
     "user": {
      "displayName": "María Virginia Chirilá",
      "userId": "09177795132827406328"
     },
     "user_tz": 180
    },
    "id": "KKDxr4hTCJub",
    "outputId": "26699e38-113b-42ad-a687-8fc9826897bf"
   },
   "outputs": [
    {
     "name": "stdout",
     "output_type": "stream",
     "text": [
      "  puntos_muestreo   observador\n",
      "1              P1         Juan\n",
      "2              P2         Juan\n",
      "3              P3        Julia\n",
      "4              P4       Martín\n",
      "5              P5       Martín\n",
      "6              P6 Juan y Julia\n"
     ]
    }
   ],
   "source": [
    "# A partir de vectores\n",
    "puntos_muestreo <- c(\"P1\",\"P2\", \"P3\",\"P4\",\"P5\",\"P6\")\n",
    "observador <- c(\"Juan\", \"Juan\", \"Julia\", \"Martín\",\"Martín\",\"Juan y Julia\")\n",
    "df_ptos <- data.frame(puntos_muestreo, observador)\n",
    "print(df_ptos)\n",
    "\n"
   ]
  },
  {
   "cell_type": "code",
   "execution_count": 69,
   "metadata": {
    "colab": {
     "base_uri": "https://localhost:8080/"
    },
    "executionInfo": {
     "elapsed": 40,
     "status": "ok",
     "timestamp": 1743049618825,
     "user": {
      "displayName": "María Virginia Chirilá",
      "userId": "09177795132827406328"
     },
     "user_tz": 180
    },
    "id": "mq1ghjEdDKZZ",
    "outputId": "5f4b064f-51ac-4cf7-dd53-448c0d627d84"
   },
   "outputs": [
    {
     "name": "stdout",
     "output_type": "stream",
     "text": [
      "  huevos_sitio1 huevos_sitio2\n",
      "1            60            25\n",
      "2            20            15\n",
      "3            20            10\n",
      "4            30            10\n",
      "5            45            60\n",
      "6            15            45\n"
     ]
    }
   ],
   "source": [
    "# A partir de una matriz\n",
    "df_huevos <- as.data.frame( muestreo_huevos)\n",
    "print(df_huevos)"
   ]
  },
  {
   "cell_type": "code",
   "execution_count": 70,
   "metadata": {
    "colab": {
     "base_uri": "https://localhost:8080/"
    },
    "executionInfo": {
     "elapsed": 19,
     "status": "ok",
     "timestamp": 1743049618827,
     "user": {
      "displayName": "María Virginia Chirilá",
      "userId": "09177795132827406328"
     },
     "user_tz": 180
    },
    "id": "hpjJiXyLGqHP",
    "outputId": "30390d05-d4cf-4713-d565-d4e552349f57"
   },
   "outputs": [
    {
     "name": "stdout",
     "output_type": "stream",
     "text": [
      "             [,1] [,2] [,3] [,4] [,5] [,6]\n",
      "nidos_sitio1   12    4    4    6    9    3\n",
      "nidos_sitio2    5    3    2    2   12    9\n"
     ]
    }
   ],
   "source": [
    "#Podemos utilizar los datos de las filas de una matriz y crear un data frame\n",
    "print(muestreo_nidos)#La matriz"
   ]
  },
  {
   "cell_type": "code",
   "execution_count": 71,
   "metadata": {
    "colab": {
     "base_uri": "https://localhost:8080/"
    },
    "executionInfo": {
     "elapsed": 18,
     "status": "ok",
     "timestamp": 1743049618845,
     "user": {
      "displayName": "María Virginia Chirilá",
      "userId": "09177795132827406328"
     },
     "user_tz": 180
    },
    "id": "gIZvUMRxHG6h",
    "outputId": "196baaa5-2b01-49f4-a79a-284aaa4749e9"
   },
   "outputs": [
    {
     "name": "stdout",
     "output_type": "stream",
     "text": [
      "  nidos_sitio1 nidos_sitio2\n",
      "1           12            5\n",
      "2            4            3\n",
      "3            4            2\n",
      "4            6            2\n",
      "5            9           12\n",
      "6            3            9\n"
     ]
    }
   ],
   "source": [
    "#usar las filas de la matriz para crear el data frame\n",
    "df_nidos <- data.frame(nidos_sitio1 = muestreo_nidos[1,], nidos_sitio2= muestreo_nidos[2,])\n",
    "print(df_nidos)"
   ]
  },
  {
   "cell_type": "code",
   "execution_count": 72,
   "metadata": {
    "colab": {
     "base_uri": "https://localhost:8080/"
    },
    "executionInfo": {
     "elapsed": 28,
     "status": "ok",
     "timestamp": 1743049618875,
     "user": {
      "displayName": "María Virginia Chirilá",
      "userId": "09177795132827406328"
     },
     "user_tz": 180
    },
    "id": "DUnci5PUDhTL",
    "outputId": "f4273bb7-d555-4128-d8f2-70f3feeac907"
   },
   "outputs": [
    {
     "name": "stdout",
     "output_type": "stream",
     "text": [
      "puntos_muestreo\n",
      "P1 P2 P3 P4 P5 P6 \n",
      " 3  3  2  3  1  2 \n"
     ]
    }
   ],
   "source": [
    "# Crear un df a Partir de una tabla\n",
    "conteo <- c(\"P1\",\"P2\",\"P1\", \"P2\", \"P3\", \"P4\" ,\"P6\" ,\"P1\", \"P4\", \"P2\", \"P3\",\"P4\",\"P5\",\"P6\")\n",
    "num_especies <- table(puntos_muestreo= conteo)\n",
    "print(num_especies)\n",
    "# Las tablas son estruturas de datos que cuentan frecuencias\n",
    "# de factores o variables categóricas"
   ]
  },
  {
   "cell_type": "code",
   "execution_count": 73,
   "metadata": {
    "colab": {
     "base_uri": "https://localhost:8080/"
    },
    "executionInfo": {
     "elapsed": 12,
     "status": "ok",
     "timestamp": 1743049618876,
     "user": {
      "displayName": "María Virginia Chirilá",
      "userId": "09177795132827406328"
     },
     "user_tz": 180
    },
    "id": "wX_PXmSjE32u",
    "outputId": "a6375456-612a-4a72-f5e7-b4a5f31779a3"
   },
   "outputs": [
    {
     "name": "stdout",
     "output_type": "stream",
     "text": [
      "  puntos_muestreo Freq\n",
      "1              P1    3\n",
      "2              P2    3\n",
      "3              P3    2\n",
      "4              P4    3\n",
      "5              P5    1\n",
      "6              P6    2\n"
     ]
    }
   ],
   "source": [
    "# Converir tabla en data frame\n",
    "df_num_especies<- as.data.frame(num_especies)\n",
    "print(df_num_especies)"
   ]
  },
  {
   "cell_type": "markdown",
   "metadata": {
    "id": "fQCCo9iSFrCT"
   },
   "source": [
    "<a name='8.3.2'></a>\n",
    "### 8.3.2) Conocer la estructura de un data frame\n",
    "\n",
    "Existen funciones como summary(), str(), ncol(), nrow() y length() que nos permiten investigar sobre la estructura de nuestro data frame"
   ]
  },
  {
   "cell_type": "code",
   "execution_count": 74,
   "metadata": {
    "colab": {
     "base_uri": "https://localhost:8080/"
    },
    "executionInfo": {
     "elapsed": 19,
     "status": "ok",
     "timestamp": 1743049618959,
     "user": {
      "displayName": "María Virginia Chirilá",
      "userId": "09177795132827406328"
     },
     "user_tz": 180
    },
    "id": "ARUI2xQwGWl6",
    "outputId": "b56c9e99-9eed-4549-ef3f-c214962a673d"
   },
   "outputs": [
    {
     "name": "stdout",
     "output_type": "stream",
     "text": [
      "'data.frame':\t6 obs. of  2 variables:\n",
      " $ huevos_sitio1: num  60 20 20 30 45 15\n",
      " $ huevos_sitio2: num  25 15 10 10 60 45\n"
     ]
    }
   ],
   "source": [
    "str(df_huevos) #con str vemos cuantas observaciones tiene cada columna y cuantas variables hay"
   ]
  },
  {
   "cell_type": "code",
   "execution_count": 75,
   "metadata": {
    "colab": {
     "base_uri": "https://localhost:8080/",
     "height": 144
    },
    "executionInfo": {
     "elapsed": 5,
     "status": "ok",
     "timestamp": 1743049618966,
     "user": {
      "displayName": "María Virginia Chirilá",
      "userId": "09177795132827406328"
     },
     "user_tz": 180
    },
    "id": "qWAHYic6HTYj",
    "outputId": "2ceb08b0-f1a8-40ac-9e08-814e5ad09288"
   },
   "outputs": [
    {
     "data": {
      "text/plain": [
       " huevos_sitio1   huevos_sitio2  \n",
       " Min.   :15.00   Min.   :10.00  \n",
       " 1st Qu.:20.00   1st Qu.:11.25  \n",
       " Median :25.00   Median :20.00  \n",
       " Mean   :31.67   Mean   :27.50  \n",
       " 3rd Qu.:41.25   3rd Qu.:40.00  \n",
       " Max.   :60.00   Max.   :60.00  "
      ]
     },
     "metadata": {},
     "output_type": "display_data"
    }
   ],
   "source": [
    "summary(df_huevos) # Con summary() podemos obtener algunas medidas estadísticas importantes"
   ]
  },
  {
   "cell_type": "code",
   "execution_count": 76,
   "metadata": {
    "colab": {
     "base_uri": "https://localhost:8080/",
     "height": 34
    },
    "executionInfo": {
     "elapsed": 8,
     "status": "ok",
     "timestamp": 1743049618999,
     "user": {
      "displayName": "María Virginia Chirilá",
      "userId": "09177795132827406328"
     },
     "user_tz": 180
    },
    "id": "x1P_ns-MHzkK",
    "outputId": "f25c35bd-1e8b-48f7-9c2d-479bffd82bcc"
   },
   "outputs": [
    {
     "data": {
      "text/html": [
       "6"
      ],
      "text/latex": [
       "6"
      ],
      "text/markdown": [
       "6"
      ],
      "text/plain": [
       "[1] 6"
      ]
     },
     "metadata": {},
     "output_type": "display_data"
    }
   ],
   "source": [
    "nrow(df_huevos) #podemos ver cuantas filas tiene el df"
   ]
  },
  {
   "cell_type": "code",
   "execution_count": 77,
   "metadata": {
    "colab": {
     "base_uri": "https://localhost:8080/",
     "height": 34
    },
    "executionInfo": {
     "elapsed": 15,
     "status": "ok",
     "timestamp": 1743049619012,
     "user": {
      "displayName": "María Virginia Chirilá",
      "userId": "09177795132827406328"
     },
     "user_tz": 180
    },
    "id": "V1HACeW7H5nd",
    "outputId": "90c908ea-a105-4e68-a996-ca164b4cec47"
   },
   "outputs": [
    {
     "data": {
      "text/html": [
       "2"
      ],
      "text/latex": [
       "2"
      ],
      "text/markdown": [
       "2"
      ],
      "text/plain": [
       "[1] 2"
      ]
     },
     "metadata": {},
     "output_type": "display_data"
    }
   ],
   "source": [
    "ncol(df_huevos) #Podemos ver cuantas columnas tiene el df"
   ]
  },
  {
   "cell_type": "code",
   "execution_count": 78,
   "metadata": {
    "colab": {
     "base_uri": "https://localhost:8080/",
     "height": 34
    },
    "executionInfo": {
     "elapsed": 73,
     "status": "ok",
     "timestamp": 1743049619086,
     "user": {
      "displayName": "María Virginia Chirilá",
      "userId": "09177795132827406328"
     },
     "user_tz": 180
    },
    "id": "uAVIJUREH_mw",
    "outputId": "503f4c30-eb82-44a2-8383-099ee2c3e238"
   },
   "outputs": [
    {
     "data": {
      "text/html": [
       "2"
      ],
      "text/latex": [
       "2"
      ],
      "text/markdown": [
       "2"
      ],
      "text/plain": [
       "[1] 2"
      ]
     },
     "metadata": {},
     "output_type": "display_data"
    }
   ],
   "source": [
    "length(df_huevos) #Tambien nos dice cuantas columnas hay"
   ]
  },
  {
   "cell_type": "code",
   "execution_count": 79,
   "metadata": {
    "colab": {
     "base_uri": "https://localhost:8080/",
     "height": 34
    },
    "executionInfo": {
     "elapsed": 10,
     "status": "ok",
     "timestamp": 1743049619095,
     "user": {
      "displayName": "María Virginia Chirilá",
      "userId": "09177795132827406328"
     },
     "user_tz": 180
    },
    "id": "DG9a_uUsIJpo",
    "outputId": "2f71769c-bb3b-4db9-9a5a-c747ab9787b8"
   },
   "outputs": [
    {
     "data": {
      "text/html": [
       "<style>\n",
       ".list-inline {list-style: none; margin:0; padding: 0}\n",
       ".list-inline>li {display: inline-block}\n",
       ".list-inline>li:not(:last-child)::after {content: \"\\00b7\"; padding: 0 .5ex}\n",
       "</style>\n",
       "<ol class=list-inline><li>'huevos_sitio1'</li><li>'huevos_sitio2'</li></ol>\n"
      ],
      "text/latex": [
       "\\begin{enumerate*}\n",
       "\\item 'huevos\\_sitio1'\n",
       "\\item 'huevos\\_sitio2'\n",
       "\\end{enumerate*}\n"
      ],
      "text/markdown": [
       "1. 'huevos_sitio1'\n",
       "2. 'huevos_sitio2'\n",
       "\n",
       "\n"
      ],
      "text/plain": [
       "[1] \"huevos_sitio1\" \"huevos_sitio2\""
      ]
     },
     "metadata": {},
     "output_type": "display_data"
    }
   ],
   "source": [
    "names(df_huevos)#me permite ver los nombres de las variables colnames() también funciona"
   ]
  },
  {
   "cell_type": "code",
   "execution_count": 80,
   "metadata": {
    "colab": {
     "base_uri": "https://localhost:8080/",
     "height": 192
    },
    "executionInfo": {
     "elapsed": 9,
     "status": "ok",
     "timestamp": 1743049619106,
     "user": {
      "displayName": "María Virginia Chirilá",
      "userId": "09177795132827406328"
     },
     "user_tz": 180
    },
    "id": "E9eZI1WQr1ln",
    "outputId": "bd56e08f-e547-4df2-bac9-0d31967b19f4"
   },
   "outputs": [
    {
     "data": {
      "text/html": [
       "<table class=\"dataframe\">\n",
       "<caption>A data.frame: 3 × 2</caption>\n",
       "<thead>\n",
       "\t<tr><th></th><th scope=col>huevos_sitio1</th><th scope=col>huevos_sitio2</th></tr>\n",
       "\t<tr><th></th><th scope=col>&lt;dbl&gt;</th><th scope=col>&lt;dbl&gt;</th></tr>\n",
       "</thead>\n",
       "<tbody>\n",
       "\t<tr><th scope=row>1</th><td>60</td><td>25</td></tr>\n",
       "\t<tr><th scope=row>2</th><td>20</td><td>15</td></tr>\n",
       "\t<tr><th scope=row>3</th><td>20</td><td>10</td></tr>\n",
       "</tbody>\n",
       "</table>\n"
      ],
      "text/latex": [
       "A data.frame: 3 × 2\n",
       "\\begin{tabular}{r|ll}\n",
       "  & huevos\\_sitio1 & huevos\\_sitio2\\\\\n",
       "  & <dbl> & <dbl>\\\\\n",
       "\\hline\n",
       "\t1 & 60 & 25\\\\\n",
       "\t2 & 20 & 15\\\\\n",
       "\t3 & 20 & 10\\\\\n",
       "\\end{tabular}\n"
      ],
      "text/markdown": [
       "\n",
       "A data.frame: 3 × 2\n",
       "\n",
       "| <!--/--> | huevos_sitio1 &lt;dbl&gt; | huevos_sitio2 &lt;dbl&gt; |\n",
       "|---|---|---|\n",
       "| 1 | 60 | 25 |\n",
       "| 2 | 20 | 15 |\n",
       "| 3 | 20 | 10 |\n",
       "\n"
      ],
      "text/plain": [
       "  huevos_sitio1 huevos_sitio2\n",
       "1 60            25           \n",
       "2 20            15           \n",
       "3 20            10           "
      ]
     },
     "metadata": {},
     "output_type": "display_data"
    }
   ],
   "source": [
    "# head() nos permite ver las primeras filas del df\n",
    "head(df_huevos, 3) #en el segundo argumento escirbimos la cantidad de filas que queremos ver"
   ]
  },
  {
   "cell_type": "markdown",
   "metadata": {
    "id": "2eF9BO7pImIr"
   },
   "source": [
    "<a name='8.3.3'></a>\n",
    "### 8.3.3) Extraer datos de un data frame\n",
    "\n",
    "Al igual que las matrices los data frames tienen dos dimensiones por lo que podemos extraer valores de ellos utilizando indices:\n",
    "\n",
    "                  data_frame[fila, columna]\n",
    "\n",
    "Pero tambien podemos acceder con el nombre de la columna o con $"
   ]
  },
  {
   "cell_type": "code",
   "execution_count": 81,
   "metadata": {
    "colab": {
     "base_uri": "https://localhost:8080/",
     "height": 34
    },
    "executionInfo": {
     "elapsed": 7,
     "status": "ok",
     "timestamp": 1743049619111,
     "user": {
      "displayName": "María Virginia Chirilá",
      "userId": "09177795132827406328"
     },
     "user_tz": 180
    },
    "id": "u7_Pv2AbJfio",
    "outputId": "92f00561-5fd3-4143-fec8-1829a9856663"
   },
   "outputs": [
    {
     "data": {
      "text/html": [
       "'Juan'"
      ],
      "text/latex": [
       "'Juan'"
      ],
      "text/markdown": [
       "'Juan'"
      ],
      "text/plain": [
       "[1] \"Juan\""
      ]
     },
     "metadata": {},
     "output_type": "display_data"
    }
   ],
   "source": [
    "#accedemos al valor de la fila 1 de la columna 2\n",
    "df_ptos[1,2]"
   ]
  },
  {
   "cell_type": "code",
   "execution_count": 82,
   "metadata": {
    "colab": {
     "base_uri": "https://localhost:8080/",
     "height": 34
    },
    "executionInfo": {
     "elapsed": 5,
     "status": "ok",
     "timestamp": 1743049619118,
     "user": {
      "displayName": "María Virginia Chirilá",
      "userId": "09177795132827406328"
     },
     "user_tz": 180
    },
    "id": "t42AZKMYJou1",
    "outputId": "b94c0ad0-3144-4966-f882-510a4c6e65c1"
   },
   "outputs": [
    {
     "data": {
      "text/html": [
       "'Juan'"
      ],
      "text/latex": [
       "'Juan'"
      ],
      "text/markdown": [
       "'Juan'"
      ],
      "text/plain": [
       "[1] \"Juan\""
      ]
     },
     "metadata": {},
     "output_type": "display_data"
    }
   ],
   "source": [
    "#Podemos obtener el mismo resultado si hacemos esto:\n",
    "df_ptos[ 1, \"observador\"]"
   ]
  },
  {
   "cell_type": "code",
   "execution_count": 83,
   "metadata": {
    "colab": {
     "base_uri": "https://localhost:8080/",
     "height": 34
    },
    "executionInfo": {
     "elapsed": 7,
     "status": "ok",
     "timestamp": 1743049619127,
     "user": {
      "displayName": "María Virginia Chirilá",
      "userId": "09177795132827406328"
     },
     "user_tz": 180
    },
    "id": "WgGUWuUWJ-9j",
    "outputId": "119a99a9-1310-4737-9c30-44f303092e72"
   },
   "outputs": [
    {
     "data": {
      "text/html": [
       "'Juan'"
      ],
      "text/latex": [
       "'Juan'"
      ],
      "text/markdown": [
       "'Juan'"
      ],
      "text/plain": [
       "[1] \"Juan\""
      ]
     },
     "metadata": {},
     "output_type": "display_data"
    }
   ],
   "source": [
    "# o si hacemos esto:\n",
    "df_ptos$observador[1] #Seleccionamos el elemento uno de la columna observador"
   ]
  },
  {
   "cell_type": "code",
   "execution_count": 84,
   "metadata": {
    "colab": {
     "base_uri": "https://localhost:8080/",
     "height": 34
    },
    "executionInfo": {
     "elapsed": 10,
     "status": "ok",
     "timestamp": 1743049619138,
     "user": {
      "displayName": "María Virginia Chirilá",
      "userId": "09177795132827406328"
     },
     "user_tz": 180
    },
    "id": "BwtP2iM5KSWC",
    "outputId": "17093a8b-9c3f-4ccc-f2b8-367befcdbbbb"
   },
   "outputs": [
    {
     "data": {
      "text/html": [
       "<style>\n",
       ".list-inline {list-style: none; margin:0; padding: 0}\n",
       ".list-inline>li {display: inline-block}\n",
       ".list-inline>li:not(:last-child)::after {content: \"\\00b7\"; padding: 0 .5ex}\n",
       "</style>\n",
       "<ol class=list-inline><li>'Juan'</li><li>'Juan'</li><li>'Julia'</li><li>'Martín'</li><li>'Martín'</li><li>'Juan y Julia'</li></ol>\n"
      ],
      "text/latex": [
       "\\begin{enumerate*}\n",
       "\\item 'Juan'\n",
       "\\item 'Juan'\n",
       "\\item 'Julia'\n",
       "\\item 'Martín'\n",
       "\\item 'Martín'\n",
       "\\item 'Juan y Julia'\n",
       "\\end{enumerate*}\n"
      ],
      "text/markdown": [
       "1. 'Juan'\n",
       "2. 'Juan'\n",
       "3. 'Julia'\n",
       "4. 'Martín'\n",
       "5. 'Martín'\n",
       "6. 'Juan y Julia'\n",
       "\n",
       "\n"
      ],
      "text/plain": [
       "[1] \"Juan\"         \"Juan\"         \"Julia\"        \"Martín\"       \"Martín\"      \n",
       "[6] \"Juan y Julia\""
      ]
     },
     "metadata": {},
     "output_type": "display_data"
    }
   ],
   "source": [
    "# el simbolo $ nos permite acceder a los datos de columnas individuales\n",
    "df_ptos$observador"
   ]
  },
  {
   "cell_type": "markdown",
   "metadata": {
    "id": "vwGB0a-ZLHKR"
   },
   "source": [
    "<a name='8.3.4'></a>\n",
    "### 8.3.4) Unir data frames por columnas\n",
    "\n",
    "Podemos unir dos o más data frames utilizando las funciones cbind() y merge(). Para evitar errores siempre debemos asegurarnos que el numero de filas es igual en los data frames que vamos a unir."
   ]
  },
  {
   "cell_type": "markdown",
   "metadata": {
    "id": "QB-eWKJTLeSA"
   },
   "source": [
    "**cbind()** Te permite unir más de dos data frames sin tener en cuenta si las columnas se repiten o no entre df."
   ]
  },
  {
   "cell_type": "code",
   "execution_count": 85,
   "metadata": {
    "colab": {
     "base_uri": "https://localhost:8080/",
     "height": 286
    },
    "executionInfo": {
     "elapsed": 90,
     "status": "ok",
     "timestamp": 1743049619229,
     "user": {
      "displayName": "María Virginia Chirilá",
      "userId": "09177795132827406328"
     },
     "user_tz": 180
    },
    "id": "cuDI-f68NIBw",
    "outputId": "a0336902-7054-46c0-b5dd-739ad29c0910"
   },
   "outputs": [
    {
     "data": {
      "text/html": [
       "<table class=\"dataframe\">\n",
       "<caption>A data.frame: 6 × 8</caption>\n",
       "<thead>\n",
       "\t<tr><th scope=col>puntos_muestreo</th><th scope=col>observador</th><th scope=col>huevos_sitio1</th><th scope=col>huevos_sitio2</th><th scope=col>nidos_sitio1</th><th scope=col>nidos_sitio2</th><th scope=col>puntos_muestreo</th><th scope=col>Freq</th></tr>\n",
       "\t<tr><th scope=col>&lt;chr&gt;</th><th scope=col>&lt;chr&gt;</th><th scope=col>&lt;dbl&gt;</th><th scope=col>&lt;dbl&gt;</th><th scope=col>&lt;dbl&gt;</th><th scope=col>&lt;dbl&gt;</th><th scope=col>&lt;fct&gt;</th><th scope=col>&lt;int&gt;</th></tr>\n",
       "</thead>\n",
       "<tbody>\n",
       "\t<tr><td>P1</td><td>Juan        </td><td>60</td><td>25</td><td>12</td><td> 5</td><td>P1</td><td>3</td></tr>\n",
       "\t<tr><td>P2</td><td>Juan        </td><td>20</td><td>15</td><td> 4</td><td> 3</td><td>P2</td><td>3</td></tr>\n",
       "\t<tr><td>P3</td><td>Julia       </td><td>20</td><td>10</td><td> 4</td><td> 2</td><td>P3</td><td>2</td></tr>\n",
       "\t<tr><td>P4</td><td>Martín      </td><td>30</td><td>10</td><td> 6</td><td> 2</td><td>P4</td><td>3</td></tr>\n",
       "\t<tr><td>P5</td><td>Martín      </td><td>45</td><td>60</td><td> 9</td><td>12</td><td>P5</td><td>1</td></tr>\n",
       "\t<tr><td>P6</td><td>Juan y Julia</td><td>15</td><td>45</td><td> 3</td><td> 9</td><td>P6</td><td>2</td></tr>\n",
       "</tbody>\n",
       "</table>\n"
      ],
      "text/latex": [
       "A data.frame: 6 × 8\n",
       "\\begin{tabular}{llllllll}\n",
       " puntos\\_muestreo & observador & huevos\\_sitio1 & huevos\\_sitio2 & nidos\\_sitio1 & nidos\\_sitio2 & puntos\\_muestreo & Freq\\\\\n",
       " <chr> & <chr> & <dbl> & <dbl> & <dbl> & <dbl> & <fct> & <int>\\\\\n",
       "\\hline\n",
       "\t P1 & Juan         & 60 & 25 & 12 &  5 & P1 & 3\\\\\n",
       "\t P2 & Juan         & 20 & 15 &  4 &  3 & P2 & 3\\\\\n",
       "\t P3 & Julia        & 20 & 10 &  4 &  2 & P3 & 2\\\\\n",
       "\t P4 & Martín       & 30 & 10 &  6 &  2 & P4 & 3\\\\\n",
       "\t P5 & Martín       & 45 & 60 &  9 & 12 & P5 & 1\\\\\n",
       "\t P6 & Juan y Julia & 15 & 45 &  3 &  9 & P6 & 2\\\\\n",
       "\\end{tabular}\n"
      ],
      "text/markdown": [
       "\n",
       "A data.frame: 6 × 8\n",
       "\n",
       "| puntos_muestreo &lt;chr&gt; | observador &lt;chr&gt; | huevos_sitio1 &lt;dbl&gt; | huevos_sitio2 &lt;dbl&gt; | nidos_sitio1 &lt;dbl&gt; | nidos_sitio2 &lt;dbl&gt; | puntos_muestreo &lt;fct&gt; | Freq &lt;int&gt; |\n",
       "|---|---|---|---|---|---|---|---|\n",
       "| P1 | Juan         | 60 | 25 | 12 |  5 | P1 | 3 |\n",
       "| P2 | Juan         | 20 | 15 |  4 |  3 | P2 | 3 |\n",
       "| P3 | Julia        | 20 | 10 |  4 |  2 | P3 | 2 |\n",
       "| P4 | Martín       | 30 | 10 |  6 |  2 | P4 | 3 |\n",
       "| P5 | Martín       | 45 | 60 |  9 | 12 | P5 | 1 |\n",
       "| P6 | Juan y Julia | 15 | 45 |  3 |  9 | P6 | 2 |\n",
       "\n"
      ],
      "text/plain": [
       "  puntos_muestreo observador   huevos_sitio1 huevos_sitio2 nidos_sitio1\n",
       "1 P1              Juan         60            25            12          \n",
       "2 P2              Juan         20            15             4          \n",
       "3 P3              Julia        20            10             4          \n",
       "4 P4              Martín       30            10             6          \n",
       "5 P5              Martín       45            60             9          \n",
       "6 P6              Juan y Julia 15            45             3          \n",
       "  nidos_sitio2 puntos_muestreo Freq\n",
       "1  5           P1              3   \n",
       "2  3           P2              3   \n",
       "3  2           P3              2   \n",
       "4  2           P4              3   \n",
       "5 12           P5              1   \n",
       "6  9           P6              2   "
      ]
     },
     "metadata": {},
     "output_type": "display_data"
    }
   ],
   "source": [
    "cbind(df_ptos,df_huevos,df_nidos, df_num_especies)"
   ]
  },
  {
   "cell_type": "markdown",
   "metadata": {
    "id": "JM3du9QCNt58"
   },
   "source": [
    "Como vemos tenemos dos columnas con el mismo nombre y el mismo dato (puntos_muestreo). Para evitar columnas repetidas utilizamos merge que tiene en cuenta las columnas comunes y no las duplica.\n",
    "Merge tiene distintos argumentos que nos permiten unir de forma diferente los data frames:\n",
    "\n",
    "**Opciones de merge():**\n",
    " * by = \"columna\": Especifica la columna clave (la repetida).\n",
    " * all.x = TRUE: Left join (mantiene todas las filas del primer df).\n",
    " * all.y = TRUE: Right join (mantiene todas las filas del segundo df).\n",
    " * all = TRUE: Full join (mantiene todas las filas de ambos, incluyendo las repetidas).\n",
    "\n",
    "El unico problema con merge es que solo permite unir de a dos data frames. Para obtener nuestro data frame final sin columnas repetidas nuestro código sería:"
   ]
  },
  {
   "cell_type": "code",
   "execution_count": 86,
   "metadata": {
    "colab": {
     "base_uri": "https://localhost:8080/",
     "height": 286
    },
    "executionInfo": {
     "elapsed": 87,
     "status": "ok",
     "timestamp": 1743049619309,
     "user": {
      "displayName": "María Virginia Chirilá",
      "userId": "09177795132827406328"
     },
     "user_tz": 180
    },
    "id": "horrAFc6OD2o",
    "outputId": "7678f42c-57a2-47a6-9d84-4688edc14ebd"
   },
   "outputs": [
    {
     "data": {
      "text/html": [
       "<table class=\"dataframe\">\n",
       "<caption>A data.frame: 6 × 7</caption>\n",
       "<thead>\n",
       "\t<tr><th scope=col>puntos_muestreo</th><th scope=col>observador</th><th scope=col>huevos_sitio1</th><th scope=col>huevos_sitio2</th><th scope=col>nidos_sitio1</th><th scope=col>nidos_sitio2</th><th scope=col>Freq</th></tr>\n",
       "\t<tr><th scope=col>&lt;chr&gt;</th><th scope=col>&lt;chr&gt;</th><th scope=col>&lt;dbl&gt;</th><th scope=col>&lt;dbl&gt;</th><th scope=col>&lt;dbl&gt;</th><th scope=col>&lt;dbl&gt;</th><th scope=col>&lt;int&gt;</th></tr>\n",
       "</thead>\n",
       "<tbody>\n",
       "\t<tr><td>P1</td><td>Juan        </td><td>60</td><td>25</td><td>12</td><td> 5</td><td>3</td></tr>\n",
       "\t<tr><td>P2</td><td>Juan        </td><td>20</td><td>15</td><td> 4</td><td> 3</td><td>3</td></tr>\n",
       "\t<tr><td>P3</td><td>Julia       </td><td>20</td><td>10</td><td> 4</td><td> 2</td><td>2</td></tr>\n",
       "\t<tr><td>P4</td><td>Martín      </td><td>30</td><td>10</td><td> 6</td><td> 2</td><td>3</td></tr>\n",
       "\t<tr><td>P5</td><td>Martín      </td><td>45</td><td>60</td><td> 9</td><td>12</td><td>1</td></tr>\n",
       "\t<tr><td>P6</td><td>Juan y Julia</td><td>15</td><td>45</td><td> 3</td><td> 9</td><td>2</td></tr>\n",
       "</tbody>\n",
       "</table>\n"
      ],
      "text/latex": [
       "A data.frame: 6 × 7\n",
       "\\begin{tabular}{lllllll}\n",
       " puntos\\_muestreo & observador & huevos\\_sitio1 & huevos\\_sitio2 & nidos\\_sitio1 & nidos\\_sitio2 & Freq\\\\\n",
       " <chr> & <chr> & <dbl> & <dbl> & <dbl> & <dbl> & <int>\\\\\n",
       "\\hline\n",
       "\t P1 & Juan         & 60 & 25 & 12 &  5 & 3\\\\\n",
       "\t P2 & Juan         & 20 & 15 &  4 &  3 & 3\\\\\n",
       "\t P3 & Julia        & 20 & 10 &  4 &  2 & 2\\\\\n",
       "\t P4 & Martín       & 30 & 10 &  6 &  2 & 3\\\\\n",
       "\t P5 & Martín       & 45 & 60 &  9 & 12 & 1\\\\\n",
       "\t P6 & Juan y Julia & 15 & 45 &  3 &  9 & 2\\\\\n",
       "\\end{tabular}\n"
      ],
      "text/markdown": [
       "\n",
       "A data.frame: 6 × 7\n",
       "\n",
       "| puntos_muestreo &lt;chr&gt; | observador &lt;chr&gt; | huevos_sitio1 &lt;dbl&gt; | huevos_sitio2 &lt;dbl&gt; | nidos_sitio1 &lt;dbl&gt; | nidos_sitio2 &lt;dbl&gt; | Freq &lt;int&gt; |\n",
       "|---|---|---|---|---|---|---|\n",
       "| P1 | Juan         | 60 | 25 | 12 |  5 | 3 |\n",
       "| P2 | Juan         | 20 | 15 |  4 |  3 | 3 |\n",
       "| P3 | Julia        | 20 | 10 |  4 |  2 | 2 |\n",
       "| P4 | Martín       | 30 | 10 |  6 |  2 | 3 |\n",
       "| P5 | Martín       | 45 | 60 |  9 | 12 | 1 |\n",
       "| P6 | Juan y Julia | 15 | 45 |  3 |  9 | 2 |\n",
       "\n"
      ],
      "text/plain": [
       "  puntos_muestreo observador   huevos_sitio1 huevos_sitio2 nidos_sitio1\n",
       "1 P1              Juan         60            25            12          \n",
       "2 P2              Juan         20            15             4          \n",
       "3 P3              Julia        20            10             4          \n",
       "4 P4              Martín       30            10             6          \n",
       "5 P5              Martín       45            60             9          \n",
       "6 P6              Juan y Julia 15            45             3          \n",
       "  nidos_sitio2 Freq\n",
       "1  5           3   \n",
       "2  3           3   \n",
       "3  2           2   \n",
       "4  2           3   \n",
       "5 12           1   \n",
       "6  9           2   "
      ]
     },
     "metadata": {},
     "output_type": "display_data"
    }
   ],
   "source": [
    "\n",
    "df_merged <- cbind(df_ptos,df_huevos,df_nidos) #Crear un df uniendo todos los df que no tengan iguales columnas\n",
    "df_final <- merge(df_merged, df_num_especies, by = \"puntos_muestreo\") #Unir el df creado con el que tiene la columna en comun\n",
    "df_final"
   ]
  },
  {
   "cell_type": "markdown",
   "metadata": {
    "id": "HnYZCwquR4Pa"
   },
   "source": [
    "<a name='8.3.5'></a>\n",
    "### 8.3.5) Agregar o modificar datos en un data frame **texto en negrita**\n",
    "\n",
    "Podemos agregar datos a un data frame utilizando rbind() y modificar un dato específico o columna especifica utilizando los indices o $."
   ]
  },
  {
   "cell_type": "code",
   "execution_count": 87,
   "metadata": {
    "colab": {
     "base_uri": "https://localhost:8080/"
    },
    "executionInfo": {
     "elapsed": 121,
     "status": "ok",
     "timestamp": 1743049619375,
     "user": {
      "displayName": "María Virginia Chirilá",
      "userId": "09177795132827406328"
     },
     "user_tz": 180
    },
    "id": "He9by2XBS248",
    "outputId": "ca880cf5-8a6b-4ffe-e5c0-a67a9e63f8aa"
   },
   "outputs": [
    {
     "name": "stdout",
     "output_type": "stream",
     "text": [
      "  puntos_muestreo observador huevos_sitio1 huevos_sitio2 nidos_sitio1\n",
      "1              P1        Ana            23            25            4\n",
      "2              P2       Juan            10            17            2\n",
      "3              P3 Ana y Juan            34            10            6\n",
      "4              P4     Carlos            12            12            3\n",
      "5              P5     Carlos            10            14            2\n",
      "6              P6     Carlos             7             9            1\n",
      "  nidos_sitio2 Freq\n",
      "1            5    2\n",
      "2            3    2\n",
      "3            2    1\n",
      "4            2    1\n",
      "5            3    4\n",
      "6            2    5\n"
     ]
    }
   ],
   "source": [
    "#por ejemplo tenemos un nuevo data frame con datos para agregar a nuestro data frame final\n",
    "\n",
    "nuevos_datos <- data.frame(puntos_muestreo=c( \"P1\",\"P2\", \"P3\",\"P4\",\"P5\",\"P6\"),\n",
    "                          observador= c(\"Ana\", \"Juan\", \"Ana y Juan\", \"Carlos\", \"Carlos\", \"Carlos\") ,\n",
    "                          huevos_sitio1= c(23,10,34,12,10,7),\n",
    "                          huevos_sitio2= c(25, 17, 10, 12, 14,9),\n",
    "                          nidos_sitio1= c(4,2,6,3,2,1),\n",
    "                          nidos_sitio2= c(5,3,2,2,3,2),\n",
    "                          Freq=c(2,2,1,1,4,5))\n",
    "print(nuevos_datos)"
   ]
  },
  {
   "cell_type": "code",
   "execution_count": 88,
   "metadata": {
    "colab": {
     "base_uri": "https://localhost:8080/"
    },
    "executionInfo": {
     "elapsed": 52,
     "status": "ok",
     "timestamp": 1743049619429,
     "user": {
      "displayName": "María Virginia Chirilá",
      "userId": "09177795132827406328"
     },
     "user_tz": 180
    },
    "id": "qGk57oPqUoxf",
    "outputId": "30205096-94fd-4f3b-a4b0-94f593c59fad"
   },
   "outputs": [
    {
     "name": "stdout",
     "output_type": "stream",
     "text": [
      "   puntos_muestreo   observador huevos_sitio1 huevos_sitio2 nidos_sitio1\n",
      "1               P1         Juan            60            25           12\n",
      "2               P2         Juan            20            15            4\n",
      "3               P3        Julia            20            10            4\n",
      "4               P4       Martín            30            10            6\n",
      "5               P5       Martín            45            60            9\n",
      "6               P6 Juan y Julia            15            45            3\n",
      "7               P1          Ana            23            25            4\n",
      "8               P2         Juan            10            17            2\n",
      "9               P3   Ana y Juan            34            10            6\n",
      "10              P4       Carlos            12            12            3\n",
      "11              P5       Carlos            10            14            2\n",
      "12              P6       Carlos             7             9            1\n",
      "   nidos_sitio2 Freq\n",
      "1             5    3\n",
      "2             3    3\n",
      "3             2    2\n",
      "4             2    3\n",
      "5            12    1\n",
      "6             9    2\n",
      "7             5    2\n",
      "8             3    2\n",
      "9             2    1\n",
      "10            2    1\n",
      "11            3    4\n",
      "12            2    5\n"
     ]
    }
   ],
   "source": [
    "#Para agregar estos datos al df_final usamos rbind() la condicion es que los df\n",
    "# tienen que tener igual numero de columnas y los nombres y el orden tienen que ser iguales\n",
    "\n",
    "df_final <- rbind(df_final, nuevos_datos)\n",
    "print(df_final)"
   ]
  },
  {
   "cell_type": "markdown",
   "metadata": {
    "id": "aa7AHlXRrvf-"
   },
   "source": [
    "**Modificar un dato o registro particular**"
   ]
  },
  {
   "cell_type": "code",
   "execution_count": 89,
   "metadata": {
    "colab": {
     "base_uri": "https://localhost:8080/"
    },
    "executionInfo": {
     "elapsed": 20,
     "status": "ok",
     "timestamp": 1743049619448,
     "user": {
      "displayName": "María Virginia Chirilá",
      "userId": "09177795132827406328"
     },
     "user_tz": 180
    },
    "id": "0CfzzPJppFyp",
    "outputId": "f132ded2-1292-4677-a789-62c3c3e412c0"
   },
   "outputs": [
    {
     "name": "stdout",
     "output_type": "stream",
     "text": [
      "  puntos_muestreo observador huevos_sitio1 huevos_sitio2 nidos_sitio1\n",
      "5              P5     Martín            45            60            9\n",
      "6              P6       Juan            15            45            3\n",
      "7              P1        Ana            23            25            4\n",
      "  nidos_sitio2 Freq\n",
      "5           12    1\n",
      "6            9    2\n",
      "7            5    2\n"
     ]
    }
   ],
   "source": [
    "\n",
    "#Por ejemplo queremos modificar en la columna observador el dato en la fila 6\n",
    "# Juan y Julia por Juan\n",
    "df_final[6 , \"observador\"] <- \"Juan\"\n",
    "\n",
    "print(df_final[5:7, ],) # Vemos que el dato 6 en la columna observador cambio"
   ]
  },
  {
   "cell_type": "markdown",
   "metadata": {
    "id": "DHiol39osoaU"
   },
   "source": [
    "**Agregar columnas** Se puede agregar columnas nuevas con indices o con $ y dandole un nombre nuevo a nuestra variable."
   ]
  },
  {
   "cell_type": "code",
   "execution_count": 90,
   "metadata": {
    "colab": {
     "base_uri": "https://localhost:8080/"
    },
    "executionInfo": {
     "elapsed": 15,
     "status": "ok",
     "timestamp": 1743049619464,
     "user": {
      "displayName": "María Virginia Chirilá",
      "userId": "09177795132827406328"
     },
     "user_tz": 180
    },
    "id": "7vxp7it3tBQt",
    "outputId": "4387d569-c681-485c-8f21-560d9dd99fad"
   },
   "outputs": [
    {
     "name": "stdout",
     "output_type": "stream",
     "text": [
      " [1] 2022 2022 2022 2022 2022 2022 2023 2023 2023 2023 2023 2023\n"
     ]
    }
   ],
   "source": [
    "# Quiero agregar datos sobre los años de muestreo\n",
    "anios <- c(rep(2022, 6), rep(2023,6))\n",
    "print(anios)"
   ]
  },
  {
   "cell_type": "code",
   "execution_count": 91,
   "metadata": {
    "colab": {
     "base_uri": "https://localhost:8080/"
    },
    "executionInfo": {
     "elapsed": 138,
     "status": "ok",
     "timestamp": 1743049619604,
     "user": {
      "displayName": "María Virginia Chirilá",
      "userId": "09177795132827406328"
     },
     "user_tz": 180
    },
    "id": "7FUusnWwtZ-c",
    "outputId": "e996e2c7-56f2-4a84-9446-015cde67efa6"
   },
   "outputs": [
    {
     "name": "stdout",
     "output_type": "stream",
     "text": [
      "  puntos_muestreo observador huevos_sitio1 huevos_sitio2 nidos_sitio1\n",
      "1              P1       Juan            60            25           12\n",
      "2              P2       Juan            20            15            4\n",
      "3              P3      Julia            20            10            4\n",
      "4              P4     Martín            30            10            6\n",
      "5              P5     Martín            45            60            9\n",
      "6              P6       Juan            15            45            3\n",
      "  nidos_sitio2 Freq anios_muestreo\n",
      "1            5    3           2022\n",
      "2            3    3           2022\n",
      "3            2    2           2022\n",
      "4            2    3           2022\n",
      "5           12    1           2022\n",
      "6            9    2           2022\n"
     ]
    }
   ],
   "source": [
    "#Puedo agregar esta nueva columna de esta manera\n",
    "df_final$anios_muestreo <- anios\n",
    "print(head(df_final))"
   ]
  },
  {
   "cell_type": "code",
   "execution_count": 92,
   "metadata": {
    "colab": {
     "base_uri": "https://localhost:8080/"
    },
    "executionInfo": {
     "elapsed": 78,
     "status": "ok",
     "timestamp": 1743049619607,
     "user": {
      "displayName": "María Virginia Chirilá",
      "userId": "09177795132827406328"
     },
     "user_tz": 180
    },
    "id": "r4hREk0htrAc",
    "outputId": "dc4d4068-3e2f-4a12-f189-2278ab562ac9"
   },
   "outputs": [
    {
     "name": "stdout",
     "output_type": "stream",
     "text": [
      "  puntos_muestreo observador huevos_sitio1 huevos_sitio2 nidos_sitio1\n",
      "1              P1       Juan            60            25           12\n",
      "2              P2       Juan            20            15            4\n",
      "3              P3      Julia            20            10            4\n",
      "4              P4     Martín            30            10            6\n",
      "5              P5     Martín            45            60            9\n",
      "6              P6       Juan            15            45            3\n",
      "  nidos_sitio2 Freq anios_muestreo temp_media\n",
      "1            5    3           2022       25.5\n",
      "2            3    3           2022       25.5\n",
      "3            2    2           2022       25.5\n",
      "4            2    3           2022       25.5\n",
      "5           12    1           2022       25.5\n",
      "6            9    2           2022       25.5\n"
     ]
    }
   ],
   "source": [
    "# o de esta manera\n",
    "temperatura <- c(rep(25.5, 6), rep(30.7, 6))\n",
    "df_final[\"temp_media\"] <- temperatura\n",
    "print(head(df_final))"
   ]
  },
  {
   "cell_type": "markdown",
   "metadata": {
    "id": "ovTfBR5vvHCu"
   },
   "source": [
    "<a name='8.3.6'></a>\n",
    "### 8.3.6) Utilizar operadores lógicos para filtrar datos en data frames\n",
    "\n",
    "Se pueden utilizar operadores logicos para filtrar datos en nuestros data frames\n"
   ]
  },
  {
   "cell_type": "code",
   "execution_count": 93,
   "metadata": {
    "colab": {
     "base_uri": "https://localhost:8080/",
     "height": 192
    },
    "executionInfo": {
     "elapsed": 59,
     "status": "ok",
     "timestamp": 1743049619619,
     "user": {
      "displayName": "María Virginia Chirilá",
      "userId": "09177795132827406328"
     },
     "user_tz": 180
    },
    "id": "054g77oevh5y",
    "outputId": "5f3d66f2-726e-443c-935e-d346312df2c5"
   },
   "outputs": [
    {
     "data": {
      "text/html": [
       "<table class=\"dataframe\">\n",
       "<caption>A data.frame: 3 × 9</caption>\n",
       "<thead>\n",
       "\t<tr><th></th><th scope=col>puntos_muestreo</th><th scope=col>observador</th><th scope=col>huevos_sitio1</th><th scope=col>huevos_sitio2</th><th scope=col>nidos_sitio1</th><th scope=col>nidos_sitio2</th><th scope=col>Freq</th><th scope=col>anios_muestreo</th><th scope=col>temp_media</th></tr>\n",
       "\t<tr><th></th><th scope=col>&lt;chr&gt;</th><th scope=col>&lt;chr&gt;</th><th scope=col>&lt;dbl&gt;</th><th scope=col>&lt;dbl&gt;</th><th scope=col>&lt;dbl&gt;</th><th scope=col>&lt;dbl&gt;</th><th scope=col>&lt;dbl&gt;</th><th scope=col>&lt;dbl&gt;</th><th scope=col>&lt;dbl&gt;</th></tr>\n",
       "</thead>\n",
       "<tbody>\n",
       "\t<tr><th scope=row>1</th><td>P1</td><td>Juan      </td><td>60</td><td>25</td><td>12</td><td> 5</td><td>3</td><td>2022</td><td>25.5</td></tr>\n",
       "\t<tr><th scope=row>5</th><td>P5</td><td>Martín    </td><td>45</td><td>60</td><td> 9</td><td>12</td><td>1</td><td>2022</td><td>25.5</td></tr>\n",
       "\t<tr><th scope=row>9</th><td>P3</td><td>Ana y Juan</td><td>34</td><td>10</td><td> 6</td><td> 2</td><td>1</td><td>2023</td><td>30.7</td></tr>\n",
       "</tbody>\n",
       "</table>\n"
      ],
      "text/latex": [
       "A data.frame: 3 × 9\n",
       "\\begin{tabular}{r|lllllllll}\n",
       "  & puntos\\_muestreo & observador & huevos\\_sitio1 & huevos\\_sitio2 & nidos\\_sitio1 & nidos\\_sitio2 & Freq & anios\\_muestreo & temp\\_media\\\\\n",
       "  & <chr> & <chr> & <dbl> & <dbl> & <dbl> & <dbl> & <dbl> & <dbl> & <dbl>\\\\\n",
       "\\hline\n",
       "\t1 & P1 & Juan       & 60 & 25 & 12 &  5 & 3 & 2022 & 25.5\\\\\n",
       "\t5 & P5 & Martín     & 45 & 60 &  9 & 12 & 1 & 2022 & 25.5\\\\\n",
       "\t9 & P3 & Ana y Juan & 34 & 10 &  6 &  2 & 1 & 2023 & 30.7\\\\\n",
       "\\end{tabular}\n"
      ],
      "text/markdown": [
       "\n",
       "A data.frame: 3 × 9\n",
       "\n",
       "| <!--/--> | puntos_muestreo &lt;chr&gt; | observador &lt;chr&gt; | huevos_sitio1 &lt;dbl&gt; | huevos_sitio2 &lt;dbl&gt; | nidos_sitio1 &lt;dbl&gt; | nidos_sitio2 &lt;dbl&gt; | Freq &lt;dbl&gt; | anios_muestreo &lt;dbl&gt; | temp_media &lt;dbl&gt; |\n",
       "|---|---|---|---|---|---|---|---|---|---|\n",
       "| 1 | P1 | Juan       | 60 | 25 | 12 |  5 | 3 | 2022 | 25.5 |\n",
       "| 5 | P5 | Martín     | 45 | 60 |  9 | 12 | 1 | 2022 | 25.5 |\n",
       "| 9 | P3 | Ana y Juan | 34 | 10 |  6 |  2 | 1 | 2023 | 30.7 |\n",
       "\n"
      ],
      "text/plain": [
       "  puntos_muestreo observador huevos_sitio1 huevos_sitio2 nidos_sitio1\n",
       "1 P1              Juan       60            25            12          \n",
       "5 P5              Martín     45            60             9          \n",
       "9 P3              Ana y Juan 34            10             6          \n",
       "  nidos_sitio2 Freq anios_muestreo temp_media\n",
       "1  5           3    2022           25.5      \n",
       "5 12           1    2022           25.5      \n",
       "9  2           1    2023           30.7      "
      ]
     },
     "metadata": {},
     "output_type": "display_data"
    }
   ],
   "source": [
    "# puntos de muestreo del sitio 1 con cantidad de huevos mayor a 30\n",
    "df_final[df_final$huevos_sitio1 > 30, ] #aqui pedimos que nos tome la columna huevos_sitio1 y nos filtre las filas > 30 y que nos de todas las columnas"
   ]
  },
  {
   "cell_type": "code",
   "execution_count": 94,
   "metadata": {
    "colab": {
     "base_uri": "https://localhost:8080/",
     "height": 192
    },
    "executionInfo": {
     "elapsed": 123,
     "status": "ok",
     "timestamp": 1743049619744,
     "user": {
      "displayName": "María Virginia Chirilá",
      "userId": "09177795132827406328"
     },
     "user_tz": 180
    },
    "id": "9EYoreK2xD3G",
    "outputId": "123733cd-96f5-4720-8db0-acc944c3c2cc"
   },
   "outputs": [
    {
     "data": {
      "text/html": [
       "<table class=\"dataframe\">\n",
       "<caption>A data.frame: 3 × 9</caption>\n",
       "<thead>\n",
       "\t<tr><th></th><th scope=col>puntos_muestreo</th><th scope=col>observador</th><th scope=col>huevos_sitio1</th><th scope=col>huevos_sitio2</th><th scope=col>nidos_sitio1</th><th scope=col>nidos_sitio2</th><th scope=col>Freq</th><th scope=col>anios_muestreo</th><th scope=col>temp_media</th></tr>\n",
       "\t<tr><th></th><th scope=col>&lt;chr&gt;</th><th scope=col>&lt;chr&gt;</th><th scope=col>&lt;dbl&gt;</th><th scope=col>&lt;dbl&gt;</th><th scope=col>&lt;dbl&gt;</th><th scope=col>&lt;dbl&gt;</th><th scope=col>&lt;dbl&gt;</th><th scope=col>&lt;dbl&gt;</th><th scope=col>&lt;dbl&gt;</th></tr>\n",
       "</thead>\n",
       "<tbody>\n",
       "\t<tr><th scope=row>1</th><td>P1</td><td>Juan      </td><td>60</td><td>25</td><td>12</td><td> 5</td><td>3</td><td>2022</td><td>25.5</td></tr>\n",
       "\t<tr><th scope=row>5</th><td>P5</td><td>Martín    </td><td>45</td><td>60</td><td> 9</td><td>12</td><td>1</td><td>2022</td><td>25.5</td></tr>\n",
       "\t<tr><th scope=row>9</th><td>P3</td><td>Ana y Juan</td><td>34</td><td>10</td><td> 6</td><td> 2</td><td>1</td><td>2023</td><td>30.7</td></tr>\n",
       "</tbody>\n",
       "</table>\n"
      ],
      "text/latex": [
       "A data.frame: 3 × 9\n",
       "\\begin{tabular}{r|lllllllll}\n",
       "  & puntos\\_muestreo & observador & huevos\\_sitio1 & huevos\\_sitio2 & nidos\\_sitio1 & nidos\\_sitio2 & Freq & anios\\_muestreo & temp\\_media\\\\\n",
       "  & <chr> & <chr> & <dbl> & <dbl> & <dbl> & <dbl> & <dbl> & <dbl> & <dbl>\\\\\n",
       "\\hline\n",
       "\t1 & P1 & Juan       & 60 & 25 & 12 &  5 & 3 & 2022 & 25.5\\\\\n",
       "\t5 & P5 & Martín     & 45 & 60 &  9 & 12 & 1 & 2022 & 25.5\\\\\n",
       "\t9 & P3 & Ana y Juan & 34 & 10 &  6 &  2 & 1 & 2023 & 30.7\\\\\n",
       "\\end{tabular}\n"
      ],
      "text/markdown": [
       "\n",
       "A data.frame: 3 × 9\n",
       "\n",
       "| <!--/--> | puntos_muestreo &lt;chr&gt; | observador &lt;chr&gt; | huevos_sitio1 &lt;dbl&gt; | huevos_sitio2 &lt;dbl&gt; | nidos_sitio1 &lt;dbl&gt; | nidos_sitio2 &lt;dbl&gt; | Freq &lt;dbl&gt; | anios_muestreo &lt;dbl&gt; | temp_media &lt;dbl&gt; |\n",
       "|---|---|---|---|---|---|---|---|---|---|\n",
       "| 1 | P1 | Juan       | 60 | 25 | 12 |  5 | 3 | 2022 | 25.5 |\n",
       "| 5 | P5 | Martín     | 45 | 60 |  9 | 12 | 1 | 2022 | 25.5 |\n",
       "| 9 | P3 | Ana y Juan | 34 | 10 |  6 |  2 | 1 | 2023 | 30.7 |\n",
       "\n"
      ],
      "text/plain": [
       "  puntos_muestreo observador huevos_sitio1 huevos_sitio2 nidos_sitio1\n",
       "1 P1              Juan       60            25            12          \n",
       "5 P5              Martín     45            60             9          \n",
       "9 P3              Ana y Juan 34            10             6          \n",
       "  nidos_sitio2 Freq anios_muestreo temp_media\n",
       "1  5           3    2022           25.5      \n",
       "5 12           1    2022           25.5      \n",
       "9  2           1    2023           30.7      "
      ]
     },
     "metadata": {},
     "output_type": "display_data"
    }
   ],
   "source": [
    "# podemos obtener el mismo resultado si hacemos esto\n",
    "df_final[df_final[\"huevos_sitio1\"] > 30, ]"
   ]
  },
  {
   "cell_type": "code",
   "execution_count": 95,
   "metadata": {
    "colab": {
     "base_uri": "https://localhost:8080/",
     "height": 192
    },
    "executionInfo": {
     "elapsed": 145,
     "status": "ok",
     "timestamp": 1743049619890,
     "user": {
      "displayName": "María Virginia Chirilá",
      "userId": "09177795132827406328"
     },
     "user_tz": 180
    },
    "id": "PgFYXWEIwvEm",
    "outputId": "dde55d24-df48-49e2-b3f6-a717b627aaa3"
   },
   "outputs": [
    {
     "data": {
      "text/html": [
       "<table class=\"dataframe\">\n",
       "<caption>A data.frame: 3 × 9</caption>\n",
       "<thead>\n",
       "\t<tr><th></th><th scope=col>puntos_muestreo</th><th scope=col>observador</th><th scope=col>huevos_sitio1</th><th scope=col>huevos_sitio2</th><th scope=col>nidos_sitio1</th><th scope=col>nidos_sitio2</th><th scope=col>Freq</th><th scope=col>anios_muestreo</th><th scope=col>temp_media</th></tr>\n",
       "\t<tr><th></th><th scope=col>&lt;chr&gt;</th><th scope=col>&lt;chr&gt;</th><th scope=col>&lt;dbl&gt;</th><th scope=col>&lt;dbl&gt;</th><th scope=col>&lt;dbl&gt;</th><th scope=col>&lt;dbl&gt;</th><th scope=col>&lt;dbl&gt;</th><th scope=col>&lt;dbl&gt;</th><th scope=col>&lt;dbl&gt;</th></tr>\n",
       "</thead>\n",
       "<tbody>\n",
       "\t<tr><th scope=row>1</th><td>P1</td><td>Juan      </td><td>60</td><td>25</td><td>12</td><td> 5</td><td>3</td><td>2022</td><td>25.5</td></tr>\n",
       "\t<tr><th scope=row>5</th><td>P5</td><td>Martín    </td><td>45</td><td>60</td><td> 9</td><td>12</td><td>1</td><td>2022</td><td>25.5</td></tr>\n",
       "\t<tr><th scope=row>9</th><td>P3</td><td>Ana y Juan</td><td>34</td><td>10</td><td> 6</td><td> 2</td><td>1</td><td>2023</td><td>30.7</td></tr>\n",
       "</tbody>\n",
       "</table>\n"
      ],
      "text/latex": [
       "A data.frame: 3 × 9\n",
       "\\begin{tabular}{r|lllllllll}\n",
       "  & puntos\\_muestreo & observador & huevos\\_sitio1 & huevos\\_sitio2 & nidos\\_sitio1 & nidos\\_sitio2 & Freq & anios\\_muestreo & temp\\_media\\\\\n",
       "  & <chr> & <chr> & <dbl> & <dbl> & <dbl> & <dbl> & <dbl> & <dbl> & <dbl>\\\\\n",
       "\\hline\n",
       "\t1 & P1 & Juan       & 60 & 25 & 12 &  5 & 3 & 2022 & 25.5\\\\\n",
       "\t5 & P5 & Martín     & 45 & 60 &  9 & 12 & 1 & 2022 & 25.5\\\\\n",
       "\t9 & P3 & Ana y Juan & 34 & 10 &  6 &  2 & 1 & 2023 & 30.7\\\\\n",
       "\\end{tabular}\n"
      ],
      "text/markdown": [
       "\n",
       "A data.frame: 3 × 9\n",
       "\n",
       "| <!--/--> | puntos_muestreo &lt;chr&gt; | observador &lt;chr&gt; | huevos_sitio1 &lt;dbl&gt; | huevos_sitio2 &lt;dbl&gt; | nidos_sitio1 &lt;dbl&gt; | nidos_sitio2 &lt;dbl&gt; | Freq &lt;dbl&gt; | anios_muestreo &lt;dbl&gt; | temp_media &lt;dbl&gt; |\n",
       "|---|---|---|---|---|---|---|---|---|---|\n",
       "| 1 | P1 | Juan       | 60 | 25 | 12 |  5 | 3 | 2022 | 25.5 |\n",
       "| 5 | P5 | Martín     | 45 | 60 |  9 | 12 | 1 | 2022 | 25.5 |\n",
       "| 9 | P3 | Ana y Juan | 34 | 10 |  6 |  2 | 1 | 2023 | 30.7 |\n",
       "\n"
      ],
      "text/plain": [
       "  puntos_muestreo observador huevos_sitio1 huevos_sitio2 nidos_sitio1\n",
       "1 P1              Juan       60            25            12          \n",
       "5 P5              Martín     45            60             9          \n",
       "9 P3              Ana y Juan 34            10             6          \n",
       "  nidos_sitio2 Freq anios_muestreo temp_media\n",
       "1  5           3    2022           25.5      \n",
       "5 12           1    2022           25.5      \n",
       "9  2           1    2023           30.7      "
      ]
     },
     "metadata": {},
     "output_type": "display_data"
    }
   ],
   "source": [
    "# o si usamos la función subset()\n",
    "subset(df_final, huevos_sitio1>30)"
   ]
  },
  {
   "cell_type": "code",
   "execution_count": 96,
   "metadata": {
    "colab": {
     "base_uri": "https://localhost:8080/",
     "height": 160
    },
    "executionInfo": {
     "elapsed": 79,
     "status": "ok",
     "timestamp": 1743049619964,
     "user": {
      "displayName": "María Virginia Chirilá",
      "userId": "09177795132827406328"
     },
     "user_tz": 180
    },
    "id": "pG2m6x2YzHRS",
    "outputId": "0c7e2ecf-165b-456d-a93e-3c1dfd42d12c"
   },
   "outputs": [
    {
     "data": {
      "text/html": [
       "<table class=\"dataframe\">\n",
       "<caption>A data.frame: 2 × 9</caption>\n",
       "<thead>\n",
       "\t<tr><th></th><th scope=col>puntos_muestreo</th><th scope=col>observador</th><th scope=col>huevos_sitio1</th><th scope=col>huevos_sitio2</th><th scope=col>nidos_sitio1</th><th scope=col>nidos_sitio2</th><th scope=col>Freq</th><th scope=col>anios_muestreo</th><th scope=col>temp_media</th></tr>\n",
       "\t<tr><th></th><th scope=col>&lt;chr&gt;</th><th scope=col>&lt;chr&gt;</th><th scope=col>&lt;dbl&gt;</th><th scope=col>&lt;dbl&gt;</th><th scope=col>&lt;dbl&gt;</th><th scope=col>&lt;dbl&gt;</th><th scope=col>&lt;dbl&gt;</th><th scope=col>&lt;dbl&gt;</th><th scope=col>&lt;dbl&gt;</th></tr>\n",
       "</thead>\n",
       "<tbody>\n",
       "\t<tr><th scope=row>3</th><td>P3</td><td>Julia</td><td>20</td><td>10</td><td>4</td><td>2</td><td>2</td><td>2022</td><td>25.5</td></tr>\n",
       "\t<tr><th scope=row>7</th><td>P1</td><td>Ana  </td><td>23</td><td>25</td><td>4</td><td>5</td><td>2</td><td>2023</td><td>30.7</td></tr>\n",
       "</tbody>\n",
       "</table>\n"
      ],
      "text/latex": [
       "A data.frame: 2 × 9\n",
       "\\begin{tabular}{r|lllllllll}\n",
       "  & puntos\\_muestreo & observador & huevos\\_sitio1 & huevos\\_sitio2 & nidos\\_sitio1 & nidos\\_sitio2 & Freq & anios\\_muestreo & temp\\_media\\\\\n",
       "  & <chr> & <chr> & <dbl> & <dbl> & <dbl> & <dbl> & <dbl> & <dbl> & <dbl>\\\\\n",
       "\\hline\n",
       "\t3 & P3 & Julia & 20 & 10 & 4 & 2 & 2 & 2022 & 25.5\\\\\n",
       "\t7 & P1 & Ana   & 23 & 25 & 4 & 5 & 2 & 2023 & 30.7\\\\\n",
       "\\end{tabular}\n"
      ],
      "text/markdown": [
       "\n",
       "A data.frame: 2 × 9\n",
       "\n",
       "| <!--/--> | puntos_muestreo &lt;chr&gt; | observador &lt;chr&gt; | huevos_sitio1 &lt;dbl&gt; | huevos_sitio2 &lt;dbl&gt; | nidos_sitio1 &lt;dbl&gt; | nidos_sitio2 &lt;dbl&gt; | Freq &lt;dbl&gt; | anios_muestreo &lt;dbl&gt; | temp_media &lt;dbl&gt; |\n",
       "|---|---|---|---|---|---|---|---|---|---|\n",
       "| 3 | P3 | Julia | 20 | 10 | 4 | 2 | 2 | 2022 | 25.5 |\n",
       "| 7 | P1 | Ana   | 23 | 25 | 4 | 5 | 2 | 2023 | 30.7 |\n",
       "\n"
      ],
      "text/plain": [
       "  puntos_muestreo observador huevos_sitio1 huevos_sitio2 nidos_sitio1\n",
       "3 P3              Julia      20            10            4           \n",
       "7 P1              Ana        23            25            4           \n",
       "  nidos_sitio2 Freq anios_muestreo temp_media\n",
       "3 2            2    2022           25.5      \n",
       "7 5            2    2023           30.7      "
      ]
     },
     "metadata": {},
     "output_type": "display_data"
    }
   ],
   "source": [
    "# Filtar filas que contengan determinados nombres\n",
    "df_final[df_final$observador %in% c(\"Ana\", \"Julia\"), ]\n"
   ]
  },
  {
   "cell_type": "markdown",
   "metadata": {
    "id": "zSs34G4PxiYT"
   },
   "source": [
    "**Filtrar con míltiples condiciones**"
   ]
  },
  {
   "cell_type": "code",
   "execution_count": 97,
   "metadata": {
    "colab": {
     "base_uri": "https://localhost:8080/",
     "height": 160
    },
    "executionInfo": {
     "elapsed": 10,
     "status": "ok",
     "timestamp": 1743049619972,
     "user": {
      "displayName": "María Virginia Chirilá",
      "userId": "09177795132827406328"
     },
     "user_tz": 180
    },
    "id": "H4ruOiHixhWu",
    "outputId": "81e5e86a-4aa9-427f-d247-7cd539f634b2"
   },
   "outputs": [
    {
     "data": {
      "text/html": [
       "<table class=\"dataframe\">\n",
       "<caption>A data.frame: 2 × 9</caption>\n",
       "<thead>\n",
       "\t<tr><th></th><th scope=col>puntos_muestreo</th><th scope=col>observador</th><th scope=col>huevos_sitio1</th><th scope=col>huevos_sitio2</th><th scope=col>nidos_sitio1</th><th scope=col>nidos_sitio2</th><th scope=col>Freq</th><th scope=col>anios_muestreo</th><th scope=col>temp_media</th></tr>\n",
       "\t<tr><th></th><th scope=col>&lt;chr&gt;</th><th scope=col>&lt;chr&gt;</th><th scope=col>&lt;dbl&gt;</th><th scope=col>&lt;dbl&gt;</th><th scope=col>&lt;dbl&gt;</th><th scope=col>&lt;dbl&gt;</th><th scope=col>&lt;dbl&gt;</th><th scope=col>&lt;dbl&gt;</th><th scope=col>&lt;dbl&gt;</th></tr>\n",
       "</thead>\n",
       "<tbody>\n",
       "\t<tr><th scope=row>6</th><td>P6</td><td>Juan</td><td>15</td><td>45</td><td>3</td><td>9</td><td>2</td><td>2022</td><td>25.5</td></tr>\n",
       "\t<tr><th scope=row>8</th><td>P2</td><td>Juan</td><td>10</td><td>17</td><td>2</td><td>3</td><td>2</td><td>2023</td><td>30.7</td></tr>\n",
       "</tbody>\n",
       "</table>\n"
      ],
      "text/latex": [
       "A data.frame: 2 × 9\n",
       "\\begin{tabular}{r|lllllllll}\n",
       "  & puntos\\_muestreo & observador & huevos\\_sitio1 & huevos\\_sitio2 & nidos\\_sitio1 & nidos\\_sitio2 & Freq & anios\\_muestreo & temp\\_media\\\\\n",
       "  & <chr> & <chr> & <dbl> & <dbl> & <dbl> & <dbl> & <dbl> & <dbl> & <dbl>\\\\\n",
       "\\hline\n",
       "\t6 & P6 & Juan & 15 & 45 & 3 & 9 & 2 & 2022 & 25.5\\\\\n",
       "\t8 & P2 & Juan & 10 & 17 & 2 & 3 & 2 & 2023 & 30.7\\\\\n",
       "\\end{tabular}\n"
      ],
      "text/markdown": [
       "\n",
       "A data.frame: 2 × 9\n",
       "\n",
       "| <!--/--> | puntos_muestreo &lt;chr&gt; | observador &lt;chr&gt; | huevos_sitio1 &lt;dbl&gt; | huevos_sitio2 &lt;dbl&gt; | nidos_sitio1 &lt;dbl&gt; | nidos_sitio2 &lt;dbl&gt; | Freq &lt;dbl&gt; | anios_muestreo &lt;dbl&gt; | temp_media &lt;dbl&gt; |\n",
       "|---|---|---|---|---|---|---|---|---|---|\n",
       "| 6 | P6 | Juan | 15 | 45 | 3 | 9 | 2 | 2022 | 25.5 |\n",
       "| 8 | P2 | Juan | 10 | 17 | 2 | 3 | 2 | 2023 | 30.7 |\n",
       "\n"
      ],
      "text/plain": [
       "  puntos_muestreo observador huevos_sitio1 huevos_sitio2 nidos_sitio1\n",
       "6 P6              Juan       15            45            3           \n",
       "8 P2              Juan       10            17            2           \n",
       "  nidos_sitio2 Freq anios_muestreo temp_media\n",
       "6 9            2    2022           25.5      \n",
       "8 3            2    2023           30.7      "
      ]
     },
     "metadata": {},
     "output_type": "display_data"
    }
   ],
   "source": [
    "# Filtar las observaciones que hizo Juan que tuvieron valores de frecuencia igual o menores a 2\n",
    "df_final[df_final[\"observador\"] == \"Juan\" & df_final[\"Freq\"] <= 2, ]"
   ]
  },
  {
   "cell_type": "code",
   "execution_count": 98,
   "metadata": {
    "colab": {
     "base_uri": "https://localhost:8080/",
     "height": 160
    },
    "executionInfo": {
     "elapsed": 77,
     "status": "ok",
     "timestamp": 1743049620050,
     "user": {
      "displayName": "María Virginia Chirilá",
      "userId": "09177795132827406328"
     },
     "user_tz": 180
    },
    "id": "zL1y95DeyeKn",
    "outputId": "6c334021-6ecc-4a70-bc23-d8d37498792e"
   },
   "outputs": [
    {
     "data": {
      "text/html": [
       "<table class=\"dataframe\">\n",
       "<caption>A data.frame: 2 × 9</caption>\n",
       "<thead>\n",
       "\t<tr><th></th><th scope=col>puntos_muestreo</th><th scope=col>observador</th><th scope=col>huevos_sitio1</th><th scope=col>huevos_sitio2</th><th scope=col>nidos_sitio1</th><th scope=col>nidos_sitio2</th><th scope=col>Freq</th><th scope=col>anios_muestreo</th><th scope=col>temp_media</th></tr>\n",
       "\t<tr><th></th><th scope=col>&lt;chr&gt;</th><th scope=col>&lt;chr&gt;</th><th scope=col>&lt;dbl&gt;</th><th scope=col>&lt;dbl&gt;</th><th scope=col>&lt;dbl&gt;</th><th scope=col>&lt;dbl&gt;</th><th scope=col>&lt;dbl&gt;</th><th scope=col>&lt;dbl&gt;</th><th scope=col>&lt;dbl&gt;</th></tr>\n",
       "</thead>\n",
       "<tbody>\n",
       "\t<tr><th scope=row>6</th><td>P6</td><td>Juan</td><td>15</td><td>45</td><td>3</td><td>9</td><td>2</td><td>2022</td><td>25.5</td></tr>\n",
       "\t<tr><th scope=row>8</th><td>P2</td><td>Juan</td><td>10</td><td>17</td><td>2</td><td>3</td><td>2</td><td>2023</td><td>30.7</td></tr>\n",
       "</tbody>\n",
       "</table>\n"
      ],
      "text/latex": [
       "A data.frame: 2 × 9\n",
       "\\begin{tabular}{r|lllllllll}\n",
       "  & puntos\\_muestreo & observador & huevos\\_sitio1 & huevos\\_sitio2 & nidos\\_sitio1 & nidos\\_sitio2 & Freq & anios\\_muestreo & temp\\_media\\\\\n",
       "  & <chr> & <chr> & <dbl> & <dbl> & <dbl> & <dbl> & <dbl> & <dbl> & <dbl>\\\\\n",
       "\\hline\n",
       "\t6 & P6 & Juan & 15 & 45 & 3 & 9 & 2 & 2022 & 25.5\\\\\n",
       "\t8 & P2 & Juan & 10 & 17 & 2 & 3 & 2 & 2023 & 30.7\\\\\n",
       "\\end{tabular}\n"
      ],
      "text/markdown": [
       "\n",
       "A data.frame: 2 × 9\n",
       "\n",
       "| <!--/--> | puntos_muestreo &lt;chr&gt; | observador &lt;chr&gt; | huevos_sitio1 &lt;dbl&gt; | huevos_sitio2 &lt;dbl&gt; | nidos_sitio1 &lt;dbl&gt; | nidos_sitio2 &lt;dbl&gt; | Freq &lt;dbl&gt; | anios_muestreo &lt;dbl&gt; | temp_media &lt;dbl&gt; |\n",
       "|---|---|---|---|---|---|---|---|---|---|\n",
       "| 6 | P6 | Juan | 15 | 45 | 3 | 9 | 2 | 2022 | 25.5 |\n",
       "| 8 | P2 | Juan | 10 | 17 | 2 | 3 | 2 | 2023 | 30.7 |\n",
       "\n"
      ],
      "text/plain": [
       "  puntos_muestreo observador huevos_sitio1 huevos_sitio2 nidos_sitio1\n",
       "6 P6              Juan       15            45            3           \n",
       "8 P2              Juan       10            17            2           \n",
       "  nidos_sitio2 Freq anios_muestreo temp_media\n",
       "6 9            2    2022           25.5      \n",
       "8 3            2    2023           30.7      "
      ]
     },
     "metadata": {},
     "output_type": "display_data"
    }
   ],
   "source": [
    "# lo mismo con subset\n",
    "subset(df_final, observador== \"Juan\" & Freq <= 2)"
   ]
  },
  {
   "cell_type": "markdown",
   "metadata": {
    "id": "OJ63Dc-eJN6Z"
   },
   "source": [
    "<a name='8.4'></a>\n",
    "## 8.4) Listas\n",
    "\n",
    "En R, una lista es una estructura de datos flexible y versátil que puede almacenar elementos de diferentes tipos (números, caracteres, vectores, matrices, data frames, incluso otras listas) en un único objeto. A diferencia de vectores, matrices o data frames, las listas no requieren que todos sus elementos sean del mismo tipo o longitud.\n",
    "\n",
    "Podemos crear una lista con la función list(). Las listas pueden tener elementos con un nombre asignado o no. La diferencia es pequeña; en ambos casos, es util pensar en una lista como una gran caja llena de bolsas con todo tipo de cosas. Si estas bolsas están etiquetadas en lugar de numeradas, tienes una lista con elementos con nombre.\n",
    "\n",
    "**Crear una lista sin nombres**"
   ]
  },
  {
   "cell_type": "code",
   "execution_count": 99,
   "metadata": {
    "colab": {
     "base_uri": "https://localhost:8080/"
    },
    "executionInfo": {
     "elapsed": 144,
     "status": "ok",
     "timestamp": 1743049620129,
     "user": {
      "displayName": "María Virginia Chirilá",
      "userId": "09177795132827406328"
     },
     "user_tz": 180
    },
    "id": "1Tfw013LtSdD",
    "outputId": "1257518f-c1ca-4f08-9aec-d8c9a586feef"
   },
   "outputs": [
    {
     "name": "stdout",
     "output_type": "stream",
     "text": [
      "[[1]]\n",
      "             [,1] [,2] [,3] [,4] [,5] [,6]\n",
      "nidos_sitio1   12    4    4    6    9    3\n",
      "nidos_sitio2    5    3    2    2   12    9\n",
      "\n",
      "[[2]]\n",
      "     huevos_sitio1 huevos_sitio2\n",
      "[1,]            60            25\n",
      "[2,]            20            15\n",
      "[3,]            20            10\n",
      "[4,]            30            10\n",
      "[5,]            45            60\n",
      "[6,]            15            45\n",
      "\n"
     ]
    }
   ],
   "source": [
    "muestreo_sn <- list(muestreo_nidos, muestreo_huevos )\n",
    "print(muestreo_sn)\n"
   ]
  },
  {
   "cell_type": "markdown",
   "metadata": {
    "id": "lX1dPuJAt-5u"
   },
   "source": [
    "**Crear una lista con nombres**\n"
   ]
  },
  {
   "cell_type": "code",
   "execution_count": 100,
   "metadata": {
    "colab": {
     "base_uri": "https://localhost:8080/"
    },
    "executionInfo": {
     "elapsed": 86,
     "status": "ok",
     "timestamp": 1743049620213,
     "user": {
      "displayName": "María Virginia Chirilá",
      "userId": "09177795132827406328"
     },
     "user_tz": 180
    },
    "id": "SINrvkBcuQYw",
    "outputId": "19147420-7789-40b6-b285-b50584cae550"
   },
   "outputs": [
    {
     "name": "stdout",
     "output_type": "stream",
     "text": [
      "$Nidos\n",
      "             [,1] [,2] [,3] [,4] [,5] [,6]\n",
      "nidos_sitio1   12    4    4    6    9    3\n",
      "nidos_sitio2    5    3    2    2   12    9\n",
      "\n",
      "$huevos\n",
      "     huevos_sitio1 huevos_sitio2\n",
      "[1,]            60            25\n",
      "[2,]            20            15\n",
      "[3,]            20            10\n",
      "[4,]            30            10\n",
      "[5,]            45            60\n",
      "[6,]            15            45\n",
      "\n"
     ]
    }
   ],
   "source": [
    "mi_muestreo <- list(Nidos = muestreo_nidos, huevos = muestreo_huevos)\n",
    "print(mi_muestreo)"
   ]
  },
  {
   "cell_type": "code",
   "execution_count": 101,
   "metadata": {
    "colab": {
     "base_uri": "https://localhost:8080/",
     "height": 34
    },
    "executionInfo": {
     "elapsed": 12,
     "status": "ok",
     "timestamp": 1743049620221,
     "user": {
      "displayName": "María Virginia Chirilá",
      "userId": "09177795132827406328"
     },
     "user_tz": 180
    },
    "id": "KzryZ-3bt-XW",
    "outputId": "bcfd4cb1-0ddb-439e-ea40-caab237457cf"
   },
   "outputs": [
    {
     "data": {
      "text/html": [
       "<style>\n",
       ".list-inline {list-style: none; margin:0; padding: 0}\n",
       ".list-inline>li {display: inline-block}\n",
       ".list-inline>li:not(:last-child)::after {content: \"\\00b7\"; padding: 0 .5ex}\n",
       "</style>\n",
       "<ol class=list-inline><li>'Nidos'</li><li>'huevos'</li></ol>\n"
      ],
      "text/latex": [
       "\\begin{enumerate*}\n",
       "\\item 'Nidos'\n",
       "\\item 'huevos'\n",
       "\\end{enumerate*}\n"
      ],
      "text/markdown": [
       "1. 'Nidos'\n",
       "2. 'huevos'\n",
       "\n",
       "\n"
      ],
      "text/plain": [
       "[1] \"Nidos\"  \"huevos\""
      ]
     },
     "metadata": {},
     "output_type": "display_data"
    }
   ],
   "source": [
    "#Puedo averiguar los nombres de los elementos de una lista con names()\n",
    "names(mi_muestreo)"
   ]
  },
  {
   "cell_type": "code",
   "execution_count": 102,
   "metadata": {
    "colab": {
     "base_uri": "https://localhost:8080/",
     "height": 34
    },
    "executionInfo": {
     "elapsed": 11,
     "status": "ok",
     "timestamp": 1743049620234,
     "user": {
      "displayName": "María Virginia Chirilá",
      "userId": "09177795132827406328"
     },
     "user_tz": 180
    },
    "id": "aSDEWsJQun_r",
    "outputId": "c04a5c89-3b78-439e-b803-a84e49b02765"
   },
   "outputs": [
    {
     "data": {
      "text/html": [
       "2"
      ],
      "text/latex": [
       "2"
      ],
      "text/markdown": [
       "2"
      ],
      "text/plain": [
       "[1] 2"
      ]
     },
     "metadata": {},
     "output_type": "display_data"
    }
   ],
   "source": [
    "#Podemos saber la cantidad de elementos de la lista con length()\n",
    "length(mi_muestreo)"
   ]
  },
  {
   "cell_type": "markdown",
   "metadata": {
    "id": "R5pqHaRruxgz"
   },
   "source": [
    "**Acceder a los elementos de una lista**\n",
    "\n",
    "En el caso de una lista con nombre, se puede acceder a los componentes usando el símbolo $, al igual que con los data frames.\n",
    "\n",
    "Tanto para listas con nombre como sin nombre, se pueden usar otros dos métodos para acceder a los componentes de una lista:\n",
    "* Usar [[ ]] proporciona el componente en sí, si por ejemplo el elemento de interés es una matriz devolvera una matriz.\n",
    "* Usar [ ] proporciona una sublista con los componentes seleccionados, si por ejemplo el elemento es una matriz devolvera una lista con la matriz."
   ]
  },
  {
   "cell_type": "code",
   "execution_count": 103,
   "metadata": {
    "colab": {
     "base_uri": "https://localhost:8080/"
    },
    "executionInfo": {
     "elapsed": 29,
     "status": "ok",
     "timestamp": 1743049620259,
     "user": {
      "displayName": "María Virginia Chirilá",
      "userId": "09177795132827406328"
     },
     "user_tz": 180
    },
    "id": "zs6nSfRTvv65",
    "outputId": "022b39ff-989f-4ace-c87b-64101bed6c64"
   },
   "outputs": [
    {
     "name": "stdout",
     "output_type": "stream",
     "text": [
      "     huevos_sitio1 huevos_sitio2\n",
      "[1,]            60            25\n",
      "[2,]            20            15\n",
      "[3,]            20            10\n",
      "[4,]            30            10\n",
      "[5,]            45            60\n",
      "[6,]            15            45\n"
     ]
    }
   ],
   "source": [
    "print(mi_muestreo$huevos)"
   ]
  },
  {
   "cell_type": "code",
   "execution_count": 104,
   "metadata": {
    "colab": {
     "base_uri": "https://localhost:8080/"
    },
    "executionInfo": {
     "elapsed": 25,
     "status": "ok",
     "timestamp": 1743049620297,
     "user": {
      "displayName": "María Virginia Chirilá",
      "userId": "09177795132827406328"
     },
     "user_tz": 180
    },
    "id": "KuoGLXZdv5bu",
    "outputId": "98d308b8-3fd8-48e8-8329-2787e8dc423c"
   },
   "outputs": [
    {
     "name": "stdout",
     "output_type": "stream",
     "text": [
      "     huevos_sitio1 huevos_sitio2\n",
      "[1,]            60            25\n",
      "[2,]            20            15\n",
      "[3,]            20            10\n",
      "[4,]            30            10\n",
      "[5,]            45            60\n",
      "[6,]            15            45\n"
     ]
    }
   ],
   "source": [
    "print(mi_muestreo[[2]])"
   ]
  },
  {
   "cell_type": "code",
   "execution_count": 105,
   "metadata": {
    "colab": {
     "base_uri": "https://localhost:8080/"
    },
    "executionInfo": {
     "elapsed": 57,
     "status": "ok",
     "timestamp": 1743049620353,
     "user": {
      "displayName": "María Virginia Chirilá",
      "userId": "09177795132827406328"
     },
     "user_tz": 180
    },
    "id": "Kk-yJ8Lrwhrg",
    "outputId": "7397e479-3fb2-4a2c-9548-159845844e53"
   },
   "outputs": [
    {
     "name": "stdout",
     "output_type": "stream",
     "text": [
      "$huevos\n",
      "     huevos_sitio1 huevos_sitio2\n",
      "[1,]            60            25\n",
      "[2,]            20            15\n",
      "[3,]            20            10\n",
      "[4,]            30            10\n",
      "[5,]            45            60\n",
      "[6,]            15            45\n",
      "\n"
     ]
    }
   ],
   "source": [
    "print(mi_muestreo[2]) #mirar el nombre de la lista huevos"
   ]
  },
  {
   "cell_type": "markdown",
   "metadata": {
    "id": "YMhQoRw2w2uh"
   },
   "source": [
    "Si por ejemplo queremos acceder a los datos de la columna 2 de la matriz de huevos de la lista mi_muestreo tengo que utilizar indices consecutivos"
   ]
  },
  {
   "cell_type": "code",
   "execution_count": 106,
   "metadata": {
    "colab": {
     "base_uri": "https://localhost:8080/",
     "height": 34
    },
    "executionInfo": {
     "elapsed": 65,
     "status": "ok",
     "timestamp": 1743049620419,
     "user": {
      "displayName": "María Virginia Chirilá",
      "userId": "09177795132827406328"
     },
     "user_tz": 180
    },
    "id": "Rm00OPsxxAoT",
    "outputId": "7d93b033-a54e-40b4-9570-e982c1979c15"
   },
   "outputs": [
    {
     "data": {
      "text/html": [
       "<style>\n",
       ".list-inline {list-style: none; margin:0; padding: 0}\n",
       ".list-inline>li {display: inline-block}\n",
       ".list-inline>li:not(:last-child)::after {content: \"\\00b7\"; padding: 0 .5ex}\n",
       "</style>\n",
       "<ol class=list-inline><li>25</li><li>15</li><li>10</li><li>10</li><li>60</li><li>45</li></ol>\n"
      ],
      "text/latex": [
       "\\begin{enumerate*}\n",
       "\\item 25\n",
       "\\item 15\n",
       "\\item 10\n",
       "\\item 10\n",
       "\\item 60\n",
       "\\item 45\n",
       "\\end{enumerate*}\n"
      ],
      "text/markdown": [
       "1. 25\n",
       "2. 15\n",
       "3. 10\n",
       "4. 10\n",
       "5. 60\n",
       "6. 45\n",
       "\n",
       "\n"
      ],
      "text/plain": [
       "[1] 25 15 10 10 60 45"
      ]
     },
     "metadata": {},
     "output_type": "display_data"
    }
   ],
   "source": [
    "mi_muestreo[[2]][,2]"
   ]
  },
  {
   "cell_type": "code",
   "execution_count": 107,
   "metadata": {
    "colab": {
     "base_uri": "https://localhost:8080/",
     "height": 73
    },
    "executionInfo": {
     "elapsed": 55,
     "status": "error",
     "timestamp": 1743051077123,
     "user": {
      "displayName": "María Virginia Chirilá",
      "userId": "09177795132827406328"
     },
     "user_tz": 180
    },
    "id": "yU1vypAKxYlR",
    "outputId": "e1ba68f8-ff3e-4645-b7fa-3431bb07f74b"
   },
   "outputs": [
    {
     "ename": "ERROR",
     "evalue": "Error in mi_muestreo[2][, 2]: número incorreto de dimensiones\n",
     "output_type": "error",
     "traceback": [
      "Error in mi_muestreo[2][, 2]: número incorreto de dimensiones\nTraceback:\n"
     ]
    }
   ],
   "source": [
    "mi_muestreo[2][,2] #da error\n",
    "\n",
    "#¿Por qué ocurre el error?\n",
    "# mi_muestreo[2] devuelve una sub-lista (no la matriz directamente).\n",
    "# Es equivalente a mi_muestreo[[2]] pero envuelto en una lista.\n",
    "# Al intentar usar [, 2] sobre una lista (no una matriz), R no puede aplicar indexación bidimensional."
   ]
  },
  {
   "cell_type": "markdown",
   "metadata": {
    "id": "ndgdWEVk7d4Q"
   },
   "source": [
    "**Cambiar o agregar componentes a una lista**\n"
   ]
  },
  {
   "cell_type": "code",
   "execution_count": 108,
   "metadata": {
    "colab": {
     "base_uri": "https://localhost:8080/"
    },
    "executionInfo": {
     "elapsed": 40,
     "status": "ok",
     "timestamp": 1743051056909,
     "user": {
      "displayName": "María Virginia Chirilá",
      "userId": "09177795132827406328"
     },
     "user_tz": 180
    },
    "id": "jt_xL88d7ojQ",
    "outputId": "1c7540f7-f3a9-4fce-cd19-f1fa8f8b8578"
   },
   "outputs": [
    {
     "name": "stdout",
     "output_type": "stream",
     "text": [
      "             [,1] [,2] [,3] [,4] [,5] [,6]\n",
      "nidos_sitio1   12    4    4    6    9    3\n",
      "nidos_sitio2    5    3    2    2   12    9\n"
     ]
    }
   ],
   "source": [
    "#Supongamos que tengo que actualizar mi matriz con datos de nidos\n",
    "print(muestreo_nidos)"
   ]
  },
  {
   "cell_type": "code",
   "execution_count": 109,
   "metadata": {
    "colab": {
     "base_uri": "https://localhost:8080/"
    },
    "executionInfo": {
     "elapsed": 68,
     "status": "ok",
     "timestamp": 1743051059369,
     "user": {
      "displayName": "María Virginia Chirilá",
      "userId": "09177795132827406328"
     },
     "user_tz": 180
    },
    "id": "PhrWhPzC8N2n",
    "outputId": "73d49f0a-5772-45c8-d76d-6448c5e9d447"
   },
   "outputs": [
    {
     "name": "stdout",
     "output_type": "stream",
     "text": [
      "             [,1] [,2] [,3] [,4] [,5] [,6]\n",
      "nidos_sitio1   14    5    6    6   10    4\n",
      "nidos_sitio2    5    3    2    2   12    9\n"
     ]
    }
   ],
   "source": [
    "#Actualizo por ejemplo los valores del sitio 1\n",
    "muestreo_nidos[1, ] <- c(14, 5,6,6,10,4)\n",
    "print(muestreo_nidos)"
   ]
  },
  {
   "cell_type": "code",
   "execution_count": 110,
   "metadata": {
    "colab": {
     "base_uri": "https://localhost:8080/"
    },
    "executionInfo": {
     "elapsed": 57,
     "status": "ok",
     "timestamp": 1743051062284,
     "user": {
      "displayName": "María Virginia Chirilá",
      "userId": "09177795132827406328"
     },
     "user_tz": 180
    },
    "id": "Xj26Jlab8w96",
    "outputId": "98895bc8-d483-42e1-e9c3-7899a2ee21c8"
   },
   "outputs": [
    {
     "name": "stdout",
     "output_type": "stream",
     "text": [
      "$Nidos\n",
      "             [,1] [,2] [,3] [,4] [,5] [,6]\n",
      "nidos_sitio1   14    5    6    6   10    4\n",
      "nidos_sitio2    5    3    2    2   12    9\n",
      "\n",
      "$huevos\n",
      "             [,1] [,2] [,3] [,4] [,5] [,6]\n",
      "nidos_sitio1   14    5    6    6   10    4\n",
      "nidos_sitio2    5    3    2    2   12    9\n",
      "\n"
     ]
    }
   ],
   "source": [
    "# ahora tengo que agregar esta nueva matriz a mi lista mi_muestreo\n",
    "#podría hacerlo así\n",
    "mi_muestreo$Nidos <- muestreo_nidos\n",
    "#o así\n",
    "mi_muestreo[[2]] <- muestreo_nidos\n",
    "print(mi_muestreo)"
   ]
  },
  {
   "cell_type": "markdown",
   "metadata": {
    "id": "mWmNUtSm-q6T"
   },
   "source": [
    "**Agregar elementos nuevos a una lista**"
   ]
  },
  {
   "cell_type": "code",
   "execution_count": 111,
   "metadata": {
    "colab": {
     "base_uri": "https://localhost:8080/"
    },
    "executionInfo": {
     "elapsed": 64,
     "status": "ok",
     "timestamp": 1743051065009,
     "user": {
      "displayName": "María Virginia Chirilá",
      "userId": "09177795132827406328"
     },
     "user_tz": 180
    },
    "id": "VzuaPLHD-xtg",
    "outputId": "866dcf5d-284a-4da4-8eb1-62b05a1360cb"
   },
   "outputs": [
    {
     "name": "stdout",
     "output_type": "stream",
     "text": [
      "$Nidos\n",
      "             [,1] [,2] [,3] [,4] [,5] [,6]\n",
      "nidos_sitio1   14    5    6    6   10    4\n",
      "nidos_sitio2    5    3    2    2   12    9\n",
      "\n",
      "$huevos\n",
      "             [,1] [,2] [,3] [,4] [,5] [,6]\n",
      "nidos_sitio1   14    5    6    6   10    4\n",
      "nidos_sitio2    5    3    2    2   12    9\n",
      "\n",
      "$temperatura\n",
      "[1] 35.2 32.1 27.4 25.7\n",
      "\n"
     ]
    }
   ],
   "source": [
    "# Podemos agregar nuevos elementos con nombre de la siguiente manera\n",
    "temperatura_media_meses_muestreo <- c(35.2, 32.1, 27.4,25.7)\n",
    "\n",
    "# Creando un nuevo elemento en la lista llamado temperatura\n",
    "#Así,\n",
    "mi_muestreo$temperatura <- temperatura_media_meses_muestreo\n",
    "# o así:\n",
    "mi_muestreo[[\"temperatura\"]] <- temperatura_media_meses_muestreo\n",
    "\n",
    "print(mi_muestreo)"
   ]
  },
  {
   "cell_type": "code",
   "execution_count": 112,
   "metadata": {
    "colab": {
     "base_uri": "https://localhost:8080/"
    },
    "executionInfo": {
     "elapsed": 78,
     "status": "ok",
     "timestamp": 1743051067976,
     "user": {
      "displayName": "María Virginia Chirilá",
      "userId": "09177795132827406328"
     },
     "user_tz": 180
    },
    "id": "Dv0DWzBV-xvu",
    "outputId": "01add425-bbf6-4354-d823-97387a50bf4a"
   },
   "outputs": [
    {
     "name": "stdout",
     "output_type": "stream",
     "text": [
      "[[1]]\n",
      "             [,1] [,2] [,3] [,4] [,5] [,6]\n",
      "nidos_sitio1   12    4    4    6    9    3\n",
      "nidos_sitio2    5    3    2    2   12    9\n",
      "\n",
      "[[2]]\n",
      "     huevos_sitio1 huevos_sitio2\n",
      "[1,]            60            25\n",
      "[2,]            20            15\n",
      "[3,]            20            10\n",
      "[4,]            30            10\n",
      "[5,]            45            60\n",
      "[6,]            15            45\n",
      "\n",
      "[[3]]\n",
      "[1] 35.2 32.1 27.4 25.7\n",
      "\n"
     ]
    }
   ],
   "source": [
    "#Podemos agregar un elemento nuevo sin nombre simplemente agregando un elemento\n",
    "# en un numero de indice superior al mayor de nuestra lista, como en los vectores\n",
    "\n",
    "muestreo_sn[[3]] <- temperatura_media_meses_muestreo\n",
    "print(muestreo_sn)\n",
    "\n"
   ]
  },
  {
   "cell_type": "markdown",
   "metadata": {
    "id": "kbN6pPWmBAt0"
   },
   "source": [
    "**Eliminar un elemento**\n",
    "Podemos eliminar un elemento con NULL"
   ]
  },
  {
   "cell_type": "code",
   "execution_count": 113,
   "metadata": {
    "colab": {
     "base_uri": "https://localhost:8080/"
    },
    "executionInfo": {
     "elapsed": 51,
     "status": "ok",
     "timestamp": 1743051070443,
     "user": {
      "displayName": "María Virginia Chirilá",
      "userId": "09177795132827406328"
     },
     "user_tz": 180
    },
    "id": "kyo_CNTfBDWE",
    "outputId": "20d95d8e-2d73-4326-abd1-7b4ac82cd514"
   },
   "outputs": [
    {
     "name": "stdout",
     "output_type": "stream",
     "text": [
      "$Nidos\n",
      "             [,1] [,2] [,3] [,4] [,5] [,6]\n",
      "nidos_sitio1   14    5    6    6   10    4\n",
      "nidos_sitio2    5    3    2    2   12    9\n",
      "\n",
      "$huevos\n",
      "             [,1] [,2] [,3] [,4] [,5] [,6]\n",
      "nidos_sitio1   14    5    6    6   10    4\n",
      "nidos_sitio2    5    3    2    2   12    9\n",
      "\n"
     ]
    }
   ],
   "source": [
    "mi_muestreo[[3]] <- NULL\n",
    "print(mi_muestreo)"
   ]
  },
  {
   "cell_type": "markdown",
   "metadata": {
    "id": "8V58CwtZJZ3y"
   },
   "source": [
    "<a name='9'></a>\n",
    "# 9) Referencias\n",
    "* Zuur, Alain & Ieno, Elena & Meesters, Erik. (2009). A Beginner’s Guide to R. 10.1007/978-0-387-93837-0.\n",
    "* Matloff, Norman (2011). The Art of R Programming: A Tour of Statistical Software Design. 978-1-59327-384-2.\n",
    "* Crawley, Michael J. (2013). The R book. Chichester, West Sussex, United Kingdom :Wiley."
   ]
  }
 ],
 "metadata": {
  "colab": {
   "authorship_tag": "ABX9TyM/Mum7zsz/JUE4t5hMg+ol",
   "mount_file_id": "14e1g-1QJCiH9bWKiUAZV8j7rZIguPeBo",
   "provenance": [],
   "toc_visible": true
  },
  "kernelspec": {
   "display_name": "R-4.4.0",
   "language": "R",
   "name": "r-4.4.0"
  },
  "language_info": {
   "codemirror_mode": "r",
   "file_extension": ".r",
   "mimetype": "text/x-r-source",
   "name": "R",
   "pygments_lexer": "r",
   "version": "4.4.0"
  }
 },
 "nbformat": 4,
 "nbformat_minor": 1
}
