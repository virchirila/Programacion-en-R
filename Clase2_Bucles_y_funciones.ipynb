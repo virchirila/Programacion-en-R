{
 "cells": [
  {
   "cell_type": "markdown",
   "metadata": {
    "id": "m7XG8hej5D3V"
   },
   "source": [
    "<center>\n",
    "<img src=\"imagenes/logo-FCEN.png\" alt=\"FCEN\" style=\"width:1200px;\"/>\n",
    "</center>\n",
    "\n",
    "<font size= \"6\">Curso de posgrado y materia optativa     \n",
    "**Introducción a la programación en R en Biología** </font>\n",
    "\n",
    "**Docentes:**\n",
    "\n",
    "*   Dra. Melisa Olave\n",
    "*   Dra. Laura García\n",
    "*   Lic. Leonardo Gatica\n",
    "*   Lic. María Virginia Chirilá\n",
    "*   Belén Battistela\n",
    "\n",
    "Material elaborado por María Virginia Chirilá\n",
    "\n",
    "---\n",
    "<font size= \"6\">**Clase 2 - Bucles, estructuras if-else y funciones**</font>\n",
    "\n",
    "# 🚀Objetivos de esta clase\n",
    "*   Entender la vectorización en R y cuándo usar bucles, funciones y estructuras if-else\n",
    "*   Diferenciar loops for vs. while.\n",
    "*   Poder crear loops for, while y aplicar la condición if-else, para automatizar procesos.\n",
    "*   Poder crear una funciones que reciban parámetros y devuelvan elementos de interés.\n",
    "*   Reconocer errores en nuestro código. Por ejemplo, identificar loops infinitos en while."
   ]
  },
  {
   "cell_type": "markdown",
   "metadata": {
    "id": "lXATfJ91P5NB"
   },
   "source": [
    "# Índice\n",
    "<p style=\"text-align: justify; line-height: 1.6; font-size:16px\">\n",
    "\n",
    "- [1 - Comenzamos a codear... esta vez de verdad](#1)\n",
    "- [2 - Estucturas de control, if, if-else y else if](#2)\n",
    "    - [2.1 - Estructuras if ](#2.1)\n",
    "    - [2.2 - Estructuras if-else ](#2.2)\n",
    "    - [2.3 - Múltiples condiciones else if ](#2.3)\n",
    "- [3 - Funciones](#3)\n",
    "    - [3.1 - Funciones creadas por el usuario. Ejemplo sencillo, creamos una función matemática](#3.1)\n",
    "    - [3.2 - Funciones creadas por el usuario. Ejemplo integrando funciones y estructuras de control](#3.2)\n",
    "    - [3.3 - Funciones creadas por el usuario. Ejemplo un poco más complejo con gráficos](#3.3)\n",
    "- [4 - Bucles for y while](#4)\n",
    "    - [4.1 - Bucles for](#4.1)\n",
    "      - [4.1.1 - Aplicar bucles for a vectores](#4.1.1)\n",
    "      - [4.1.2 - Guardar datos generados en un bucle en un vector](#4.1.2)\n",
    "      - [4.1.3 - Aplicar bucles for a data frames](#4.1.3)\n",
    "      - [4.1.4 - Aplicar bucles for en funciones](#4.1.4)\n",
    "      - [4.1.5 - Aplicar bucles for en listas](#4.1.5)\n",
    "      - [4.1.6 - Guardar datos generados en un bucle en una lista](#4.1.6)\n",
    "      - [4.1.7 - Bucles for anidados](#4.1.7)\n",
    "    - [4.2 - Bucles while](#4.2)\n",
    "    - [4.3 - for vs while](#4.3)\n",
    "- [5 - Referencias](#9)\n",
    "</p>"
   ]
  },
  {
   "cell_type": "markdown",
   "metadata": {
    "id": "3ZSYRBF5mbdH"
   },
   "source": [
    "# **Antes de empezar**\n",
    "Google Colab primeramente trabaja con Pyhton como entorno de ejecución. Por eso, para poder correr las celdas de código de este notebook tenemos que cambiar el entorno de ejecución en el menú que esta arriba a la derecha. Ver imagen.\n",
    "\n",
    "<center>\n",
    "<img src=\"imagenes/entorno1.png\" alt=\"FCEN\" style=\"width:400px;\"/>\n",
    "</center>\n"
   ]
  },
  {
   "cell_type": "markdown",
   "metadata": {},
   "source": [
    "Seleccionar R como entorno de ejecución  \n",
    "<center>\n",
    "<img src=\"imagenes/entorno2.png\" alt=\"FCEN\" style=\"width:400px;\"/>\n",
    "</center>\n"
   ]
  },
  {
   "cell_type": "markdown",
   "metadata": {
    "id": "ejoskVDSIxLQ"
   },
   "source": [
    "<a name='1'></a>\n",
    "#  **1) Comenzamos a codear...esta vez de verdad** 👷💻\n",
    "\n",
    "En nuestra carrera como científicos habrá situaciones en las cuales necesitaremos repetir un análisis o proceso múltiples veces para poder tener resultados y aquí es dónde saber programar en R nos puede servir de gran ayuda. En esta clase aprenderemos conceptos y herramientas dentro de R que serán esenciales para poder automatizar procesos más adelante y que por lo tanto nos servirán para nuestros análisis e investigaciones.\n",
    "\n",
    "Quizás muchos de estos conceptos o procesos los abrumen en un principio, pero tienen que saber que esta sensación es normal y que la única clave es la práctica. Por eso, si tienen la oportunidad de poder practicar con datos de ustedes o con datos sintéticos, más alla de los ejercicios de la clase háganlo!\n",
    "\n",
    "Sin más que decir, comencémos!!\n",
    "\n"
   ]
  },
  {
   "cell_type": "markdown",
   "metadata": {
    "id": "4gNGa3VERGCT"
   },
   "source": [
    "<a name='2'></a>\n",
    "#  **2) Estructuras de control if, if-else y else if** 🚧\n",
    "\n"
   ]
  },
  {
   "cell_type": "markdown",
   "metadata": {
    "id": "BVCY2k79oNq1"
   },
   "source": [
    "<a name='2.1'></a>\n",
    "## 2.1) Estructuras if\n",
    "\n",
    "Las **estructuras if** permiten controlar el flujo de un programa en R, ejecutando código solo si se cumple una condición. Son esenciales para tomar decisiones en el código.\n",
    "\n",
    "Una sentencia if en R consta de tres elementos:\n",
    "\n",
    "* La palabra clave **if**\n",
    "* Un valor lógico entre paréntesis (o una expresión que da como resultado un valor lógico)\n",
    "* Un bloque de código entre llaves que debe ejecutarse cuando el valor lógico es VERDADERO.\n",
    "\n",
    "  \n",
    "              if (condición) {\n",
    "                # Código que se ejecuta si la condición es TRUE\n",
    "              }\n",
    "\n",
    "Veamos un ejemplo simple:\n"
   ]
  },
  {
   "cell_type": "code",
   "execution_count": 2,
   "metadata": {
    "colab": {
     "base_uri": "https://localhost:8080/"
    },
    "id": "ZdEBCZHCiht6",
    "outputId": "7deac656-a975-4acc-b015-60de4318b342"
   },
   "outputs": [
    {
     "name": "stdout",
     "output_type": "stream",
     "text": [
      "[1] \"x es mayor que 5\"\n"
     ]
    }
   ],
   "source": [
    "x <- 10\n",
    "if (x > 5) {\n",
    "  print(\"x es mayor que 5\")\n",
    "}\n"
   ]
  },
  {
   "cell_type": "markdown",
   "metadata": {
    "id": "Qksd9Rkmn07F"
   },
   "source": [
    "<a name='2.2'></a>\n",
    "## 2.2) Estructuras if-else\n",
    "\n",
    "Las **estructuras if-else** permiten no sólo ejecutar código cuando una condición es verdadera sino que tambien nos permite trabajar cuando es falsa.\n",
    "\n",
    "Una sentencia con if y else tiene esta estructura:\n",
    "\n",
    "* Comienza con **if**\n",
    "* La condición que queremos que se cumpla\n",
    "* Lo que queremos que se ejecute cuando se cumpla la condición.\n",
    "* Un **else**\n",
    "* Lo que queremos que se ejecute si no se cumple la primera condición.\n",
    "\n",
    "```\n",
    "  if (condición) {\n",
    "    # Código que se ejecuta si la condición es TRUE\n",
    "  } else {\n",
    "    # Lo que queremos que se ejecute si no se cumple\n",
    "  }\n",
    "```\n",
    "\n",
    "Veamos un ejemplo simple:\n"
   ]
  },
  {
   "cell_type": "code",
   "execution_count": 3,
   "metadata": {
    "colab": {
     "base_uri": "https://localhost:8080/"
    },
    "id": "f8lvSlVyrbmH",
    "outputId": "f0d8c2d2-34ee-4921-8af8-d8d9e087b078"
   },
   "outputs": [
    {
     "name": "stdout",
     "output_type": "stream",
     "text": [
      "[1] \"Desaprobado\"\n"
     ]
    }
   ],
   "source": [
    "nota.parcial <- 5\n",
    "if (nota.parcial >= 6) {\n",
    "  print(\"Aprobado\")\n",
    "} else {\n",
    "  print(\"Desaprobado\")\n",
    "}"
   ]
  },
  {
   "cell_type": "markdown",
   "metadata": {
    "id": "0SRXGHuksGFw"
   },
   "source": [
    "<a name='2.3'></a>\n",
    "## 2.3) Multiples condiciones else if\n",
    "\n",
    "Las **estructuras if y else** te permiten trabajar con dos opciones. Pero muchas veces pasa que tenemos más de dos posibles opciones.\n",
    "\n",
    "En ese caso lo que se nos ocurre en primera instancia es anidar los if y else.\n",
    "\n",
    "Veamos un ejemplo simple de como sería este anidamiento:"
   ]
  },
  {
   "cell_type": "code",
   "execution_count": 4,
   "metadata": {
    "colab": {
     "base_uri": "https://localhost:8080/"
    },
    "id": "uLzthAofrbo0",
    "outputId": "90abf27e-4733-4ba8-9319-c18438c096b0"
   },
   "outputs": [
    {
     "name": "stdout",
     "output_type": "stream",
     "text": [
      "[1] \"Larrea nitida\"\n"
     ]
    }
   ],
   "source": [
    "#queremos distinguir la especie de jarilla de acuerdo a la forma de su hoja\n",
    "formasposibles <- c(\"cuña\",\"dos foliolos divergentes\", \"5-8 foliolos\")\n",
    "\n",
    "formadehoja <- formasposibles[3]\n",
    "\n",
    "if(formadehoja == \"cuña\"){\n",
    "  print(\"Larrea cuneifolia\")\n",
    "} else {\n",
    "  if(formadehoja == \"dos foliolos divergentes\"){\n",
    "    print(\"Larrea divaricata\")\n",
    "  }else{\n",
    "    print(\"Larrea nitida\")\n",
    "  }\n",
    "}"
   ]
  },
  {
   "cell_type": "markdown",
   "metadata": {
    "id": "X6OqN5Zh03y3"
   },
   "source": [
    "Sólo con tres posibles opciones este código resulta difícil de seguir, imagínense con más opciones, podemos llegar a confundirnos mucho.\n",
    "\n",
    "Por suerte R te permite escibir el código mucho más simple utilizando la sentencia **else if**\n",
    "\n",
    "Para nuestro ejemplo el código con else if se vería así:"
   ]
  },
  {
   "cell_type": "code",
   "execution_count": 5,
   "metadata": {
    "colab": {
     "base_uri": "https://localhost:8080/"
    },
    "id": "OlwHqGy003FP",
    "outputId": "3af5a0c2-69fa-4712-a73c-ea8c39d4cad1"
   },
   "outputs": [
    {
     "name": "stdout",
     "output_type": "stream",
     "text": [
      "[1] \"Larrea nitida\"\n"
     ]
    }
   ],
   "source": [
    "formasposibles <- c(\"cuña\",\"dos foliolos divergentes\", \"5-8 foliolos\")\n",
    "formadehoja <- formasposibles[3]\n",
    "\n",
    "if(formadehoja == \"cuña\"){\n",
    "  print(\"Larrea cuneifolia\")\n",
    "} else if(formadehoja == \"dos foliolos divergentes\"){\n",
    "  print(\"Larrea divaricata\")\n",
    "}else{\n",
    "  print(\"Larrea nitida\")\n",
    "}\n"
   ]
  },
  {
   "cell_type": "code",
   "execution_count": 6,
   "metadata": {
    "colab": {
     "base_uri": "https://localhost:8080/"
    },
    "id": "Xr-inR9R5XUF",
    "outputId": "414ba19c-e03b-441c-952e-4f887347ce50"
   },
   "outputs": [
    {
     "name": "stdout",
     "output_type": "stream",
     "text": [
      "[1] \"Cleistocactus, Cereus, Trichocereus o Stetsonia\"\n"
     ]
    }
   ],
   "source": [
    "# Ahora veamos con mas de tres opciones\n",
    "# En este ejemplo queremos filtrar especies de Cactáceas de acuerdo a la\n",
    "# morfología del tallo\n",
    "\n",
    "tallosposibles <- c(\"cladodio\",\n",
    "\"tallo cilíndrico de mas de 1 m erecto\",\n",
    "\"tallo cilíndrico de mas de 1 m rastrero\",\n",
    "\"tallo cilíndrico epífitas\",\n",
    "\"tallo globoso\")\n",
    "\n",
    "tallo <- tallosposibles[2]\n",
    "\n",
    "if(tallo == \"cladodio\"){\n",
    "  print(\"Opuntia o Airampoa\")\n",
    "} else if(tallo == \"tallo cilíndrico de mas de 1 m erecto\"){\n",
    "  print(\"Cleistocactus, Cereus, Trichocereus o Stetsonia\")\n",
    "} else if(tallo == \"tallo cilíndrico epífitas\") {\n",
    "  print(\"Rhipsalis o Pfeiffera\")\n",
    "} else if(tallo == \"tallo cilíndrico de mas de 1 m rastrero\"){\n",
    "  print(\"Harrisia\")\n",
    "} else if(tallo == \"tallo globoso\") {\n",
    "  print(\"Parodia, Echinopsis, Lobivia, Gymnocalycium, Rebutia, Blossfeldia\")\n",
    "} else{\n",
    "  print(\"otras especies\")\n",
    "}"
   ]
  },
  {
   "cell_type": "markdown",
   "metadata": {
    "id": "xCUOphkZXNxZ"
   },
   "source": [
    "<a name='3'></a>\n",
    "#  **3) Funciones** 🔢\n",
    "En R, una función es un bloque de código reutilizable que realiza una tarea específica, toma unos argumentos (datos de entrada), ejecuta operaciones con ellos y devuelve un resultado. Las funciones son esenciales para:\n",
    "\n",
    "* Evitar repetir código.\n",
    "* Organizar y modularizar programas.\n",
    "* Facilitar el mantenimiento y la legibilidad.\n",
    "\n",
    "Las funciones tienen la siguiente estrcutura:\n",
    "```\n",
    "nombre_funcion <- function(argumento1, argumento2, ...) {\n",
    "  # Cuerpo de la función (operaciones)\n",
    "  resultado <- argumento1 + argumento2  # Ejemplo\n",
    "  return(resultado)  # Devuelve el resultado\n",
    "  }\n",
    "```\n",
    "\n",
    "Existen diferentes tipos de funciones según su origen.\n",
    "\n",
    "a) **Funciones Base (incorporadas en R)**\n",
    "Son las que vienen con la instalación básica de R (no requieren paquetes adicionales).\n",
    "Ejemplos: mean(), sd(), lm()\n",
    "\n",
    "b) **Funciones de paquetes externos** Son funciones creadas por otras personas y compiladas dentro de paquetes o librerías. Para poder utilizarlas debemos instalar y cargar las librerías que las contienen. Ejemplo: la función std.error() del paquete plotrix te permite calcular el error estándar de la media de una serie de datos.\n",
    "\n",
    "c) **Funciones creadas por el usuario** Son funciones que definimos nosotros. Son las que aprenderemos a crear en esta clase.\n",
    "\n"
   ]
  },
  {
   "cell_type": "markdown",
   "metadata": {
    "id": "7IIIPcHWAun1"
   },
   "source": [
    "<a name='3.1'></a>\n",
    "## 3.1) Funciones creadas por el usuario. Ejemplo sencillo, creamos una función matemática\n",
    "\n",
    "\n",
    "Veamos un ejemplo sencillo:\n",
    "\n",
    "Para convertir de grados Celsius a Fahrenheit se debe aplicar esta ecuación matemática:\n",
    "\n",
    "                    °F = (°C * 9/5) + 32\n",
    "\n",
    "Si tenemos una lista de temperaturas en grados Celsius, por ejemplo: 23, 25, 40, 34, 16, aplicar esta fórmula manualmente a cada valor puede ser muy tedioso y propenso a errores.\n",
    "\n",
    "Por suerte, R nos facilita la vida. Podemos usar una función para que realice esta conversión por nosotros, sin tener que escribir la fórmula una y otra vez.\n",
    "\n",
    "En este caso, podemos crear una función que reciba como entrada una temperatura en °C (a la que llamaremos celsius) y que nos devuelva el valor equivalente en °F. Dentro de la función, colocaremos la ecuación, y cada vez que llamemos a la función con un nuevo valor, R hará el cálculo automáticamente.\n",
    "\n",
    "El valor que le pasamos a la función (en este caso, la temperatura en °C) se llama argumento o dato de entrada. La función toma ese dato, lo usa dentro de la fórmula y luego nos devuelve el resultado, que será la temperatura en °F.\n",
    "\n",
    "**Nota:** *es importantísimo decirle a la función qué queremos que nos devuelva, esto lo definimos con return()*\n",
    "\n",
    "Veamos como sería en el código:"
   ]
  },
  {
   "cell_type": "code",
   "execution_count": 7,
   "metadata": {
    "id": "oWmTDiPRA8nD"
   },
   "outputs": [],
   "source": [
    "# Función que convierte Celsius a Fahrenheit , el nombre de la función  puede ser\n",
    "# el que elijas\n",
    "\n",
    "# 1er paso definir la función\n",
    "celsius_a_fahrenheit <- function(celsius) {\n",
    "  fahrenheit <- (celsius * 9/5) + 32 #en esta linea celsius toma el valor que nosotros le demos y calcula\n",
    "  return(fahrenheit)\n",
    "}"
   ]
  },
  {
   "cell_type": "code",
   "execution_count": 8,
   "metadata": {
    "colab": {
     "base_uri": "https://localhost:8080/"
    },
    "id": "Vpq7sJU6AnIi",
    "outputId": "df802f97-177f-4e1c-e68e-8ba508c7f86a"
   },
   "outputs": [
    {
     "name": "stdout",
     "output_type": "stream",
     "text": [
      "23 grados Celsius equivalen a 73.4 grados Fahrenheit \n",
      "40 grados Celsius equivalen a 104 grados Fahrenheit \n",
      "10 grados Celsius equivalen a 50 grados Fahrenheit \n"
     ]
    }
   ],
   "source": [
    "# 2do paso utilizarla con cualquier dato\n",
    "temperaturas <- c(23, 25, 40, 34, 16) #datos\n",
    "\n",
    "c23<- celsius_a_fahrenheit(celsius= temperaturas[1]) #aplicar función\n",
    "#Notar que la función toma en el argumento celsius solo un valor, no toma vectores\n",
    "cat(temperaturas[1],\"grados Celsius equivalen a\", c23, \"grados Fahrenheit \\n\")\n",
    "\n",
    "c40<- celsius_a_fahrenheit(celsius= temperaturas[3])\n",
    "cat(temperaturas[3],\"grados Celsius equivalen a\", c40, \"grados Fahrenheit \\n\")\n",
    "\n",
    "c10<- celsius_a_fahrenheit(celsius= 10) #Notar que la función tomo un valor no contenido en el vector temperaturas e igual funciono\n",
    "cat(10,\"grados Celsius equivalen a\", c10, \"grados Fahrenheit \\n\")\n",
    "\n"
   ]
  },
  {
   "cell_type": "markdown",
   "metadata": {
    "id": "R0HBFbr4H8GH"
   },
   "source": [
    "<a name='3.2'></a>\n",
    "## 3.2) Funciones creadas por el usuario. Ejemplo integrando funciones y estructuras de control.\n",
    "\n",
    "Podemos tomar nuestro conocimiento sobre estructuras de control y aplicarlo en funciones también.\n",
    "\n",
    "Por ejemplo:\n",
    "\n",
    "Necesito hacer una función que reciba el valor de pH del suelo y el porcentaje de materia orgánica y que con esta información me diga de que tipo de suelo se trata\n"
   ]
  },
  {
   "cell_type": "code",
   "execution_count": 9,
   "metadata": {
    "id": "aVqsgAi2MHHB"
   },
   "outputs": [],
   "source": [
    "tipo_suelo <- function(ph, mat.org){\n",
    "  if (ph >= 6.5 & mat.org >= 5.0){\n",
    "    print(\"Suelo fértil con buen balance químico y alta materia orgánica.\")\n",
    "  } else if(ph >= 6.5 & mat.org < 5.0){\n",
    "    print(\"Suelo fértil, pero bajo en materia orgánica\")\n",
    "  } else{\n",
    "    print(\"Suelo ácido\")\n",
    "  }\n",
    "}"
   ]
  },
  {
   "cell_type": "code",
   "execution_count": 10,
   "metadata": {
    "colab": {
     "base_uri": "https://localhost:8080/"
    },
    "id": "tm0smugfOp3x",
    "outputId": "6c3f83c7-49e0-4a1b-84b9-7e82981879d5"
   },
   "outputs": [
    {
     "name": "stdout",
     "output_type": "stream",
     "text": [
      "[1] \"Suelo fértil, pero bajo en materia orgánica\"\n"
     ]
    }
   ],
   "source": [
    "tipo_suelo(ph = 8, mat.org = 4)"
   ]
  },
  {
   "cell_type": "markdown",
   "metadata": {
    "id": "1ezswF6gFwZt"
   },
   "source": [
    "<a name='3.3'></a>\n",
    "## 3.3) Funciones creadas por el usuario. Ejemplo un poco más complejo con gráficos\n",
    "\n",
    "En clases vimos ejemplos de regresiones lineales y despúes graficamos los puntos y las lineas de regresión\n",
    "\n",
    "**¿Qué pasaría si necesitaramos realizar el mismo análisis y el mismo tipo de gráfico múltiples veces para diferentes variables?**\n",
    "\n",
    " Con el conocimiento que adquirimos sabemos que podemos salvarnos de repetir el código infinidad de veces gracias a las funciones.\n"
   ]
  },
  {
   "cell_type": "markdown",
   "metadata": {
    "id": "QJr6BGMTT8bm"
   },
   "source": [
    "\n",
    "<font size= \"4\" color= red >**Pero antes de empezar y para poder trabajar necesitamos cargar los datos \"abundancia.csv\" al entorno de colab**</font>\n",
    "\n",
    "Para hacerlo, subimos el csv en la solapa archivos que esta en la barra de herramientas de la izquierda (foto)\n",
    "\n",
    "<center>\n",
    "<img src=\"imagenes/cargar-archivo.png\" alt=\"carga-archivo\" style=\"width:300px;\"/>\n",
    "</center>\n",
    "\n"
   ]
  },
  {
   "cell_type": "markdown",
   "metadata": {},
   "source": [
    "Una vez que cargamos el csv en el entorno ya podemos trabajar con él.\n",
    "\n",
    "**Nota:** Google colab borra los archivos una vez que se cierra el notebook. Por lo que si queres trabajar otro día con estos datos tenes que volver a cargarlos.\n",
    "\n"
   ]
  },
  {
   "cell_type": "code",
   "execution_count": 11,
   "metadata": {
    "colab": {
     "base_uri": "https://localhost:8080/",
     "height": 286
    },
    "id": "dxfSPE69NWLQ",
    "outputId": "2c9993c9-1921-4e95-f621-30ee64db4ba1"
   },
   "outputs": [
    {
     "data": {
      "text/html": [
       "<table class=\"dataframe\">\n",
       "<caption>A data.frame: 6 × 5</caption>\n",
       "<thead>\n",
       "\t<tr><th></th><th scope=col>muestreo</th><th scope=col>abundancia</th><th scope=col>temperatura</th><th scope=col>humedad</th><th scope=col>ph</th></tr>\n",
       "\t<tr><th></th><th scope=col>&lt;int&gt;</th><th scope=col>&lt;int&gt;</th><th scope=col>&lt;dbl&gt;</th><th scope=col>&lt;dbl&gt;</th><th scope=col>&lt;dbl&gt;</th></tr>\n",
       "</thead>\n",
       "<tbody>\n",
       "\t<tr><th scope=row>1</th><td>1</td><td>59</td><td>21.03913</td><td>53.99901</td><td>3.671082</td></tr>\n",
       "\t<tr><th scope=row>2</th><td>2</td><td>76</td><td>31.55441</td><td>29.95412</td><td>8.736513</td></tr>\n",
       "\t<tr><th scope=row>3</th><td>3</td><td>62</td><td>23.58852</td><td>43.97517</td><td>6.209560</td></tr>\n",
       "\t<tr><th scope=row>4</th><td>4</td><td>44</td><td>33.54337</td><td>85.90264</td><td>5.605208</td></tr>\n",
       "\t<tr><th scope=row>5</th><td>5</td><td>64</td><td>34.74981</td><td>43.46122</td><td>4.818013</td></tr>\n",
       "\t<tr><th scope=row>6</th><td>6</td><td>46</td><td>15.95669</td><td>80.13152</td><td>8.161726</td></tr>\n",
       "</tbody>\n",
       "</table>\n"
      ],
      "text/latex": [
       "A data.frame: 6 × 5\n",
       "\\begin{tabular}{r|lllll}\n",
       "  & muestreo & abundancia & temperatura & humedad & ph\\\\\n",
       "  & <int> & <int> & <dbl> & <dbl> & <dbl>\\\\\n",
       "\\hline\n",
       "\t1 & 1 & 59 & 21.03913 & 53.99901 & 3.671082\\\\\n",
       "\t2 & 2 & 76 & 31.55441 & 29.95412 & 8.736513\\\\\n",
       "\t3 & 3 & 62 & 23.58852 & 43.97517 & 6.209560\\\\\n",
       "\t4 & 4 & 44 & 33.54337 & 85.90264 & 5.605208\\\\\n",
       "\t5 & 5 & 64 & 34.74981 & 43.46122 & 4.818013\\\\\n",
       "\t6 & 6 & 46 & 15.95669 & 80.13152 & 8.161726\\\\\n",
       "\\end{tabular}\n"
      ],
      "text/markdown": [
       "\n",
       "A data.frame: 6 × 5\n",
       "\n",
       "| <!--/--> | muestreo &lt;int&gt; | abundancia &lt;int&gt; | temperatura &lt;dbl&gt; | humedad &lt;dbl&gt; | ph &lt;dbl&gt; |\n",
       "|---|---|---|---|---|---|\n",
       "| 1 | 1 | 59 | 21.03913 | 53.99901 | 3.671082 |\n",
       "| 2 | 2 | 76 | 31.55441 | 29.95412 | 8.736513 |\n",
       "| 3 | 3 | 62 | 23.58852 | 43.97517 | 6.209560 |\n",
       "| 4 | 4 | 44 | 33.54337 | 85.90264 | 5.605208 |\n",
       "| 5 | 5 | 64 | 34.74981 | 43.46122 | 4.818013 |\n",
       "| 6 | 6 | 46 | 15.95669 | 80.13152 | 8.161726 |\n",
       "\n"
      ],
      "text/plain": [
       "  muestreo abundancia temperatura humedad  ph      \n",
       "1 1        59         21.03913    53.99901 3.671082\n",
       "2 2        76         31.55441    29.95412 8.736513\n",
       "3 3        62         23.58852    43.97517 6.209560\n",
       "4 4        44         33.54337    85.90264 5.605208\n",
       "5 5        64         34.74981    43.46122 4.818013\n",
       "6 6        46         15.95669    80.13152 8.161726"
      ]
     },
     "metadata": {},
     "output_type": "display_data"
    }
   ],
   "source": [
    "# Leer el archivo\n",
    "path <- \"./data/abundancia.csv\"\n",
    "datos <- read.table(path, header=T, sep = \",\", dec=\".\")\n",
    "head(datos) # vemos que tienen las primeras filas"
   ]
  },
  {
   "cell_type": "markdown",
   "metadata": {
    "id": "MiLTlmTH0l25"
   },
   "source": [
    "Entonces como dijimos, las clases pasadas aprendimos a ajustar una regresión lineal con lm() y creamos un gráfico con nuestros datos y la recta de regresión.\n",
    "\n",
    "Hicimos algo así:"
   ]
  },
  {
   "cell_type": "code",
   "execution_count": 12,
   "metadata": {
    "colab": {
     "base_uri": "https://localhost:8080/",
     "height": 559
    },
    "id": "SSqv_fYjIEhT",
    "outputId": "d8266493-a245-436d-c7bd-18922c32f740"
   },
   "outputs": [
    {
     "data": {
      "text/plain": [
       "\n",
       "Call:\n",
       "lm(formula = datos[, \"abundancia\"] ~ datos[, \"temperatura\"])\n",
       "\n",
       "Coefficients:\n",
       "           (Intercept)  datos[, \"temperatura\"]  \n",
       "               42.0828                  0.7031  \n"
      ]
     },
     "metadata": {},
     "output_type": "display_data"
    },
    {
     "data": {
      "image/png": "[encoded data removed]",
      "text/plain": [
       "plot without title"
      ]
     },
     "metadata": {
      "image/png": {
       "height": 420,
       "width": 420
      }
     },
     "output_type": "display_data"
    }
   ],
   "source": [
    "# Ajustamos un modelo de regresión lineal\n",
    "mo <- lm(datos[,\"abundancia\"]~datos[,\"temperatura\"])\n",
    "mo\n",
    "\n",
    "# y graficamos los datos y la recta de regresión\n",
    "plot(x= datos[, \"temperatura\"], y = datos[,\"abundancia\"],\n",
    "ylab=\"abundancia\", xlab=\"temperatura\",  pch=16, col = \"grey60\")\n",
    "abline(mo, col=\"firebrick\", lwd=2)\n"
   ]
  },
  {
   "cell_type": "markdown",
   "metadata": {
    "id": "LS4ucIgE01nj"
   },
   "source": [
    "Ahora, supongamos que queremos correr un análisis similar para cada una de estas variables x o predictoras: temperatura, humedad y ph. ¿Cómo hacemos?\n",
    "\n",
    "Bueno, podemos crear una función que nos automatice el proceso y nos evite repetir la escritura de código.\n",
    "\n",
    "Veamos como podemos hacerla.\n",
    "\n",
    "Para empezar tenemos que pensar que datos de entrada (o argumentos) tendrá nuestra función. Para esto miramos el código original (el de la celda anterior) y tratamos de reconocer con que elementos comunes trabaja el código y cuales de ellos además pueden modificarse.\n",
    "\n",
    "Por ejemplo, los nombres de las columnas del data frame se pueden modificar a cualquier nombre que deseemos (temperatura, humendad, ph, abundancia). Por lo tanto, podemos definir dos argumentos para indicar que variable o nombre de columna queremos utilizar como variable x y que otra variable o nombre queremos como y.\n",
    "\n",
    "**Para nuestra primera versión de esta función, podríamos pensar como argumentos a:**\n",
    "\n",
    "* El **data frame** (lo vamos a llamar **df**, podés usar el nombre que quieras), es útil definir el data frame como argumento, porque nos permitirá por ejemplo en un futuro utilizar la función con otro data frame diferente.\n",
    "* El nombre de la **variable x** o predictora (lo llamemos **var.x**)\n",
    "* El nombre de la **variable y** o respuesta (lo llamemos **var.y**)\n",
    "\n",
    "Como sería la función:"
   ]
  },
  {
   "cell_type": "code",
   "execution_count": 13,
   "metadata": {
    "id": "faKKz1L1Yw7i"
   },
   "outputs": [],
   "source": [
    "reg_y_grafico <- function(df, var.y, var.x){ #definimos nuestros argumentos\n",
    "  mo <- lm(df[,var.y]~df[,var.x]) #ajustamos modelo\n",
    "  plot(x= df[, var.x], y = df[,var.y],\n",
    "  ylab=var.y, xlab= var.x,  pch=16, col = \"grey60\") #graficamos los puntos\n",
    "  abline(mo, col=\"firebrick\", lwd=2) #graficamos la linea de regresion\n",
    "  return(mo) #le pedimos que nos devuelva los coeficientes del modelo\n",
    "}\n",
    "\n",
    "# notar que todo lo que era datos en el codigo anterior ahora es df\n",
    "# todo lo que era \"abundancia\" es ahora var.y\n",
    "# todo lo que era \"temperatura\" es var.x\n",
    "\n",
    "# Nota: para el caso de los gráficos no es necesario pedirle que nos devuelva con return()"
   ]
  },
  {
   "cell_type": "code",
   "execution_count": 14,
   "metadata": {
    "colab": {
     "base_uri": "https://localhost:8080/",
     "height": 559
    },
    "id": "3_Tt4NFs7Zuh",
    "outputId": "a4a4792c-91a7-430b-9f3a-98e821a5b618"
   },
   "outputs": [
    {
     "data": {
      "text/plain": [
       "\n",
       "Call:\n",
       "lm(formula = df[, var.y] ~ df[, var.x])\n",
       "\n",
       "Coefficients:\n",
       "(Intercept)  df[, var.x]  \n",
       "    76.4256      -0.3551  \n"
      ]
     },
     "metadata": {},
     "output_type": "display_data"
    },
    {
     "data": {
      "image/png": "[encoded data removed]",
      "text/plain": [
       "plot without title"
      ]
     },
     "metadata": {
      "image/png": {
       "height": 420,
       "width": 420
      }
     },
     "output_type": "display_data"
    }
   ],
   "source": [
    "# Momento de usarla con la variable humedad\n",
    "reg_y_grafico(df=datos, var.y = \"abundancia\" ,var.x= \"humedad\")"
   ]
  },
  {
   "cell_type": "markdown",
   "metadata": {
    "id": "p-H6bMaFFkG3"
   },
   "source": [
    "Podemos customizar nuestra función aun más con más argumentos\n",
    "por ejemplo definir el color de la línea y de los puntos.\n",
    "¿Cómo se vería la nueva función?"
   ]
  },
  {
   "cell_type": "code",
   "execution_count": 15,
   "metadata": {
    "id": "QFHIZ6Md8piE"
   },
   "outputs": [],
   "source": [
    "reg_y_grafico_color <- function(df, var.y, var.x, colorlinea, colorpuntos){\n",
    "  mo <- lm(df[,var.y]~df[,var.x])\n",
    "  plot(x= df[, var.x], y = df[,var.y],\n",
    "  ylab=var.y, xlab= var.x,  pch=16, col = colorpuntos)\n",
    "  abline(mo, col= colorlinea, lwd=2)\n",
    "  return(mo)\n",
    "}\n",
    "\n",
    "# aqui agregué dos argumentos nuevos, colorlinea y colorpuntos que me permiten\n",
    "# ajustar el color de la linea de regresión y de los puntos al color que yo\n",
    "# quiera\n"
   ]
  },
  {
   "cell_type": "code",
   "execution_count": 16,
   "metadata": {
    "colab": {
     "base_uri": "https://localhost:8080/",
     "height": 1000
    },
    "id": "YVvxpDEx9qif",
    "outputId": "44437185-0bf6-44d6-bc82-e4cdbe07b7cb"
   },
   "outputs": [
    {
     "data": {
      "text/plain": [
       "\n",
       "Call:\n",
       "lm(formula = df[, var.y] ~ df[, var.x])\n",
       "\n",
       "Coefficients:\n",
       "(Intercept)  df[, var.x]  \n",
       "    76.4256      -0.3551  \n"
      ]
     },
     "metadata": {},
     "output_type": "display_data"
    },
    {
     "data": {
      "image/png": "[encoded data removed]",
      "text/plain": [
       "plot without title"
      ]
     },
     "metadata": {
      "image/png": {
       "height": 420,
       "width": 420
      }
     },
     "output_type": "display_data"
    },
    {
     "data": {
      "text/plain": [
       "\n",
       "Call:\n",
       "lm(formula = df[, var.y] ~ df[, var.x])\n",
       "\n",
       "Coefficients:\n",
       "(Intercept)  df[, var.x]  \n",
       "    42.0828       0.7031  \n"
      ]
     },
     "metadata": {},
     "output_type": "display_data"
    },
    {
     "data": {
      "image/png": "[encoded data removed]",
      "text/plain": [
       "plot without title"
      ]
     },
     "metadata": {
      "image/png": {
       "height": 420,
       "width": 420
      }
     },
     "output_type": "display_data"
    }
   ],
   "source": [
    "# Momento de usarla\n",
    "#Para humedad\n",
    "reg_y_grafico_color(df=datos, var.y = \"abundancia\" ,var.x= \"humedad\",\n",
    "colorlinea=\"firebrick\", colorpuntos= \"#ffc5c5\")\n",
    "\n",
    "# firebrick es el nombre de un color dentro del listado de colores de R\n",
    "# Para poder ver todo el listado y los nombres entrar aqui\n",
    "# https://r-charts.com/colors/\n",
    "\n",
    "# en R además, podemos usar codigos HEX para acceder a colores particulares en\n",
    "# este caso #ffc5c5 es el codigo HEX de un color rojo claro.\n",
    "\n",
    "\n",
    "#Para temperatura\n",
    "reg_y_grafico_color(df=datos, var.y = \"abundancia\" ,var.x= \"temperatura\",\n",
    "colorlinea=\"dodgerblue4\", colorpuntos= \"lightblue\")"
   ]
  },
  {
   "cell_type": "markdown",
   "metadata": {
    "id": "YcSiuCU0aZoI"
   },
   "source": [
    "<a name='4'></a>\n",
    "#  **4) Bucles for y while** ➿\n",
    "\n",
    "En la sección 3.1 creamos una función que nos convertía grados Celsius a Fahrenheit.\n",
    "```\n",
    "celsius_a_fahrenheit <- function(celsius) {\n",
    "  fahrenheit <- (celsius * 9/5) + 32\n",
    "  return(fahrenheit)\n",
    "}\n",
    "\n",
    "```\n",
    "Vimos que esta función tenía la limitación de trabajar con solo un valor, es decir, que era incapaz de convertirnos más de un valor de temperatura en una sola ejecución de código.\n",
    "\n",
    "Bueno R y otros lenguajes de programación tienen estructuras llamadas **bucles o loops** que te permiten **repetir** un bloque de código múltiples veces.\n",
    "\n",
    "Por lo tanto, estas estructuras pueden ayudarnos a resolver el problema de la función celsius_a_fahrenheit y lograr que esta se ejecute múltiples veces para diferentes valores de temperatura.\n",
    "\n",
    "Resulta interesante resolver este problema de las temperaturas pero primero tenemos que entender de una manera más simple como funcionan los loops. Ya volveremos a la función celsius_a_fahrenheit más adelante.\n",
    "\n",
    "Dicho esto, empecemos.\n",
    "\n",
    "Existen dos tipos de bucles: **for** y **while**\n",
    "\n",
    "**Los analicemos en detalle**\n",
    "\n"
   ]
  },
  {
   "cell_type": "markdown",
   "metadata": {
    "id": "7GgoDyuNWODL"
   },
   "source": [
    "<a name='4.1'></a>\n",
    "##4.1) Bucles for\n",
    "Los bucles for te permiten repetir una acción o un bloque de código para cada elemento de un objeto. Este objeto puede ser un vector, una lista, un data frame, una matriz, etc. En los bucles for sabemos de antemano cuantas veces se va a repetir el código.\n",
    "\n",
    "Podemos construir un bucle for de la siguiente manera:\n",
    "\n",
    "```\n",
    "for(i in valores){\n",
    "  # bloque de código a ejecutar\n",
    "}\n",
    "```\n",
    "\n",
    "El bucle for consiste en las siguientes partes:\n",
    "* La palabra clave **for** seguida de un paréntesis.\n",
    "* Un **identificador** dentro del parentesis. En el ejemplo, usamos **i**, pero se puede utilizar cualquier nombre o letra\n",
    "* La palabra clave **in** que sigue al identificador i.\n",
    "* Un **vector** con valores para iterar o recorrer. En este ejemplo usamos un objeto llamado valores, pero puede ser cualquier vector.\n",
    "* El **bloque de código** entre llaves el cual queremos que se ejecute para cada elemento del vector valores\n",
    "\n",
    "Como funciona el bucle for:\n",
    "\n",
    "\n",
    "<center>\n",
    "<img src=\"imagenes/for.jpg\" alt=\"FCEN\" style=\"width:300px;\"/>\n",
    "</center>\n",
    "\n",
    "\n",
    "\n"
   ]
  },
  {
   "cell_type": "markdown",
   "metadata": {},
   "source": [
    "Ejemplo sencillo:\n",
    "Queremos imprimir cada elemento dentro de un vector de nombre palabra\n",
    "\n"
   ]
  },
  {
   "cell_type": "code",
   "execution_count": 17,
   "metadata": {
    "colab": {
     "base_uri": "https://localhost:8080/"
    },
    "id": "ddvm-gzaaKWG",
    "outputId": "bac42d96-d511-4626-805f-77697a07de5e"
   },
   "outputs": [
    {
     "name": "stdout",
     "output_type": "stream",
     "text": [
      "la letra es A \n",
      "la letra es R \n",
      "la letra es B \n",
      "la letra es O \n",
      "la letra es L \n"
     ]
    }
   ],
   "source": [
    "palabra <- c(\"A\",\"R\",\"B\",\"O\",\"L\")\n",
    "for(i in palabra){\n",
    "  cat(\"la letra es\",i, \"\\n\" )\n",
    "}"
   ]
  },
  {
   "cell_type": "markdown",
   "metadata": {
    "id": "FmvsemGGEfmn"
   },
   "source": [
    "Vemos como trabaja el bucle\n",
    "\n",
    "<center>\n",
    "<img src=\"imagenes/for-palabra.jpg\" alt=\"for-palabra\" style=\"width:300px;\"/>\n",
    "</center>\n",
    "\n"
   ]
  },
  {
   "cell_type": "code",
   "execution_count": 18,
   "metadata": {
    "colab": {
     "base_uri": "https://localhost:8080/"
    },
    "id": "I8cT15UNa248",
    "outputId": "45f4933a-fc00-47be-91f2-6f14daa56f45"
   },
   "outputs": [
    {
     "name": "stdout",
     "output_type": "stream",
     "text": [
      "[1] \"Este es el número 1\"\n",
      "[1] \"Este es el número 2\"\n",
      "[1] \"Este es el número 3\"\n",
      "[1] \"Este es el número 4\"\n",
      "[1] \"Este es el número 5\"\n"
     ]
    }
   ],
   "source": [
    "# Otro ejemplo, por cada elemento en 1:5 queremos imprimir Este es el numero y el numero de que se trata\n",
    "for (i in 1:5) {\n",
    "  print(paste(\"Este es el número\", i))\n",
    "}"
   ]
  },
  {
   "cell_type": "code",
   "execution_count": 19,
   "metadata": {
    "colab": {
     "base_uri": "https://localhost:8080/"
    },
    "id": "CloQ0yPIbVOR",
    "outputId": "33ae3872-4790-413f-8e10-6c34a7ac63c8"
   },
   "outputs": [
    {
     "name": "stdout",
     "output_type": "stream",
     "text": [
      "María Eugenia \n",
      "María Virginia \n",
      "María Florencia \n",
      "María Paula \n",
      "María Celeste \n"
     ]
    }
   ],
   "source": [
    "# el vector  puede ser de cualquier tipo por ejemplo caracteres\n",
    "combinaciones <- c(\"Eugenia\", \"Virginia\", \"Florencia\", \"Paula\", \"Celeste\")\n",
    "for(nombre in combinaciones){\n",
    "  cat(\"María\",nombre,\"\\n\")\n",
    "}"
   ]
  },
  {
   "cell_type": "markdown",
   "metadata": {
    "id": "BjVdsppAWPBs"
   },
   "source": [
    "<a name='4.1.1'></a>\n",
    "### 4.1.1) Aplicar bucles for a vectores\n",
    "Un vector es una secuencia de elementos (por ejemplo: temperaturas, nombres, edades).\n",
    "\n",
    "Podemos usar un for para recorrer cada elemento del vector y hacer algo con él.\n"
   ]
  },
  {
   "cell_type": "code",
   "execution_count": 20,
   "metadata": {
    "colab": {
     "base_uri": "https://localhost:8080/"
    },
    "id": "N9Bt_BDWcpyL",
    "outputId": "9392276e-6cdf-4c19-cef5-862e5f0f514a"
   },
   "outputs": [
    {
     "name": "stdout",
     "output_type": "stream",
     "text": [
      "[1] \"Edad: 15\"\n",
      "[1] \"Edad: 22\"\n",
      "[1] \"Edad: 30\"\n",
      "[1] \"Edad: 18\"\n",
      "[1] \"Edad: 27\"\n"
     ]
    }
   ],
   "source": [
    "edades <- c(15, 22, 30, 18, 27)\n",
    "for (i in 1:length(edades)) {\n",
    "  print(paste(\"Edad:\", edades[i]))\n",
    "}\n",
    "\n",
    "# length(edades) = 5, entonces 1:length(edades)= 1:5\n",
    "# Así como esta escrito en este loop i irá cambiando en cada iteración\n",
    "# entre 1 y 5, no tomará los valores de las edades, sino los valores de los indices\n",
    "# del vector edades.\n",
    "#Para poder acceder al valor de edad necesito que me extraiga de edades el elemento\n",
    "# con indice i, por eso ponemos edades[i]"
   ]
  },
  {
   "cell_type": "code",
   "execution_count": 21,
   "metadata": {
    "colab": {
     "base_uri": "https://localhost:8080/",
     "height": 34
    },
    "id": "RblRAoQUew6N",
    "outputId": "ff78233e-c15e-41bf-fa0e-c7dbfdb25d46"
   },
   "outputs": [
    {
     "data": {
      "text/html": [
       "<style>\n",
       ".list-inline {list-style: none; margin:0; padding: 0}\n",
       ".list-inline>li {display: inline-block}\n",
       ".list-inline>li:not(:last-child)::after {content: \"\\00b7\"; padding: 0 .5ex}\n",
       "</style>\n",
       "<ol class=list-inline><li>1</li><li>2</li><li>3</li><li>4</li><li>5</li></ol>\n"
      ],
      "text/latex": [
       "\\begin{enumerate*}\n",
       "\\item 1\n",
       "\\item 2\n",
       "\\item 3\n",
       "\\item 4\n",
       "\\item 5\n",
       "\\end{enumerate*}\n"
      ],
      "text/markdown": [
       "1. 1\n",
       "2. 2\n",
       "3. 3\n",
       "4. 4\n",
       "5. 5\n",
       "\n",
       "\n"
      ],
      "text/plain": [
       "[1] 1 2 3 4 5"
      ]
     },
     "metadata": {},
     "output_type": "display_data"
    }
   ],
   "source": [
    "# Podemos desmenuzar el codigo y ver que es cada parte\n",
    "1:length(edades) #Estos serán los valores que tomará i en el loop"
   ]
  },
  {
   "cell_type": "code",
   "execution_count": 22,
   "metadata": {
    "colab": {
     "base_uri": "https://localhost:8080/"
    },
    "id": "ebaSIcWTe1iS",
    "outputId": "58bcb0f6-067f-4bfc-a59d-bae94e87370c"
   },
   "outputs": [
    {
     "name": "stdout",
     "output_type": "stream",
     "text": [
      "[1] \"Edad: 18\"\n"
     ]
    }
   ],
   "source": [
    "# Por ejemplo, cuando i valga 4 en el loop este será el resultado\n",
    "\n",
    "print(paste(\"Edad:\", edades[4]))"
   ]
  },
  {
   "cell_type": "code",
   "execution_count": 23,
   "metadata": {
    "colab": {
     "base_uri": "https://localhost:8080/"
    },
    "id": "NbV20EkVdFtt",
    "outputId": "c4664d70-02b4-4eab-85be-fd5696236843"
   },
   "outputs": [
    {
     "name": "stdout",
     "output_type": "stream",
     "text": [
      "[1] \"Edad: 15\"\n",
      "[1] \"Edad: 22\"\n",
      "[1] \"Edad: 30\"\n",
      "[1] \"Edad: 18\"\n",
      "[1] \"Edad: 27\"\n"
     ]
    }
   ],
   "source": [
    "# El codigo de arriba puede tambien escribirse así:\n",
    "# y dará el mismo resulado pero será mas fácil de entender\n",
    "\n",
    "edades <- c(15, 22, 30, 18, 27)\n",
    "\n",
    "for (i in edades) { #aca i toma los valores del vector edades no el valor del indice\n",
    "  print(paste(\"Edad:\", i))\n",
    "}"
   ]
  },
  {
   "cell_type": "markdown",
   "metadata": {
    "id": "EVE9l0KmfwW6"
   },
   "source": [
    "Con todo este conocimiento nuevo podemos ahora utilizar la función de conversión de temperaturas para más de un valor"
   ]
  },
  {
   "cell_type": "code",
   "execution_count": 24,
   "metadata": {
    "id": "Z5At8d7bfv5c"
   },
   "outputs": [],
   "source": [
    "# Corremos la función si no la corrimos antes\n",
    "celsius_a_fahrenheit <- function(celsius) {\n",
    "  fahrenheit <- (celsius * 9/5) + 32 #en esta linea celsius toma el valor que nosotros le demos y calcula\n",
    "  return(fahrenheit)\n",
    "}"
   ]
  },
  {
   "cell_type": "code",
   "execution_count": 25,
   "metadata": {
    "colab": {
     "base_uri": "https://localhost:8080/"
    },
    "id": "QV6ZQz1DgWtp",
    "outputId": "7046d58f-0849-48d5-b528-13a626f09675"
   },
   "outputs": [
    {
     "name": "stdout",
     "output_type": "stream",
     "text": [
      "23 grados Celsius equivalen a 73.4 grados Fahrenheit \n",
      "25 grados Celsius equivalen a 77 grados Fahrenheit \n",
      "40 grados Celsius equivalen a 104 grados Fahrenheit \n",
      "34 grados Celsius equivalen a 93.2 grados Fahrenheit \n",
      "16 grados Celsius equivalen a 60.8 grados Fahrenheit \n"
     ]
    }
   ],
   "source": [
    "# aplico un for para que me convierta todas las temperaturas en el vector temperaturas\n",
    "temperaturas <- c(23, 25, 40, 34, 16)\n",
    "\n",
    "for(t in temperaturas){\n",
    "   f = celsius_a_fahrenheit(t)\n",
    "  cat(t,\"grados Celsius equivalen a\", f, \"grados Fahrenheit \\n\")\n",
    "}"
   ]
  },
  {
   "cell_type": "markdown",
   "metadata": {
    "id": "vqyGvg7fhJ5D"
   },
   "source": [
    "<a name='4.1.2'></a>\n",
    "### 4.1.2) Guardar datos generados en un bucle en un vector\n",
    "Hasta ahora hemos utilizado los loops y solo hemos impreso los resultados. En la vida real nos será más útil guardar estos nuevos datos en el caso de que querramos guardarlos o utilizarlos para otras cosas\n",
    "\n",
    "Hay dos formas de guardar nuevos datos en un vector:\n",
    "\n",
    "\n",
    "*   Utilizando concatenar c()\n",
    "*   o utilizando asignación por índices []\n",
    "\n",
    "\n"
   ]
  },
  {
   "cell_type": "markdown",
   "metadata": {
    "id": "l73B6Yd4hJ8u"
   },
   "source": [
    "<font size= \"4\">**Guardar con concatenar c()**</font>\n",
    "\n",
    "\n",
    "La idea es generar un vector vacío he irle agregando elementos nuevos en cada iteración con c().\n",
    "\n",
    "Esta forma es más ineficiente que la asignación por indices porque en cada iteración, R copia todo el vector anterior y añade el nuevo elemento (consumiendo memoria y tiempo). Pero es útil cuando trabajamos con pocos datos."
   ]
  },
  {
   "cell_type": "code",
   "execution_count": 26,
   "metadata": {
    "colab": {
     "base_uri": "https://localhost:8080/"
    },
    "id": "JDN4oDhKkOCB",
    "outputId": "d958a38c-a89b-464b-b68d-362b3ad898af"
   },
   "outputs": [
    {
     "name": "stdout",
     "output_type": "stream",
     "text": [
      "[1]  2  4  6  8 10\n"
     ]
    }
   ],
   "source": [
    "resultados <- c()  # Vector vacío\n",
    "\n",
    "for (i in 1:5) {\n",
    "  nuevos_datos <- i * 2  # Ejemplo: cálculo en cada iteración\n",
    "  resultados <- c(resultados, nuevos_datos)  # Concatenar, siempre el vector vacío primero y segundo el dato nuevo en c()\n",
    "}\n",
    "\n",
    "print(resultados)"
   ]
  },
  {
   "cell_type": "markdown",
   "metadata": {
    "id": "-5Ox2ItSk8Gy"
   },
   "source": [
    "El código ```resultados <- c(resultados, nuevos_datos)``` hace lo siguiente en cada iteración:\n",
    "\n",
    "* Toma el vector actual (```resultados```).\n",
    "* Crea un nuevo vector combinando los datos existentes + el nuevo valor.\n",
    "* Reemplaza el vector antiguo por el nuevo (sobreescritura).\n",
    "\n",
    "Ejemplo detallado (iteración por iteración)\n",
    "\n",
    "**Estado inicial:**\n",
    "```\n",
    "resultados <- c()  # Vector vacío\n",
    "```\n",
    "**Iteración 1**\n",
    "```\n",
    "nuevos_datos <- 1 * 2  # 2\n",
    "resultados <- c(resultados, nuevos_datos)\n",
    "# resultados pasa de c() a c(2)\n",
    "```\n",
    "**Iteración 2**\n",
    "```\n",
    "nuevos_datos <- 2 * 2  # 4\n",
    "resultados <- c(c(2), 4)  # resultados ahora es c(2, 4)\n",
    "```\n",
    "**Iteración 3**\n",
    "```\n",
    "nuevos_datos <- 3 * 2  # 6\n",
    "resultados <- c(c(2,4), 6)\n",
    "# resultados ahora es c(2, 4, 6)\n",
    "```\n",
    "\n",
    "Y asi para el resto de las iteraciones"
   ]
  },
  {
   "cell_type": "markdown",
   "metadata": {
    "id": "90mgkHk8s-tQ"
   },
   "source": [
    "<font size= \"4\">**Guardar con asignación por índices [ ]**</font>\n",
    "\n",
    "La idea es sumar valores nuevos a un vector vacío mediante valores por posición o indices. Como vimos en el notebook de la primera clase, se puede sumar elementos nuevos a un vector si el índice es mayor al del último elemento.\n",
    "Entonces:\n"
   ]
  },
  {
   "cell_type": "code",
   "execution_count": 27,
   "metadata": {
    "colab": {
     "base_uri": "https://localhost:8080/"
    },
    "id": "MM4NiWeks8Z4",
    "outputId": "3e70482e-287a-4eee-b7ea-ce4edd9060f8"
   },
   "outputs": [
    {
     "name": "stdout",
     "output_type": "stream",
     "text": [
      "[1]  2  4  6  8 10\n"
     ]
    }
   ],
   "source": [
    "resultados <- numeric()  # Vector vacío\n",
    "\n",
    "for (i in 1:5) {\n",
    "  resultados[i] <- i * 2  # Asignación directa por índice\n",
    "}\n",
    "\n",
    "print(resultados)"
   ]
  },
  {
   "cell_type": "markdown",
   "metadata": {
    "id": "aR2BRh4ruFVY"
   },
   "source": [
    "En este código cada elemento nuevo que se genera en una iteracióm se agrega al vector resultados con un indice (en este caso i) que siempre es un valor mayor al vector resultados que viene de la iteración anterior."
   ]
  },
  {
   "cell_type": "markdown",
   "metadata": {
    "id": "GmJxMCKQwcVh"
   },
   "source": [
    "<a name='4.1.3'></a>\n",
    "### 4.1.3) Aplicar bucles for a data frames\n",
    "En un data frame podemos recorrer:\n",
    "\n",
    "Filas → fila por fila, accediendo a columnas.\n",
    "\n",
    "Columnas → por nombre o número de columna.\n",
    "\n",
    "Al igual que para los vectores podemos usar un for para recorrer cada elemento y hacer algo con él.\n",
    "\n",
    "En nuestro data frame de abundancias podemos por ejemplo:"
   ]
  },
  {
   "cell_type": "code",
   "execution_count": 28,
   "metadata": {
    "colab": {
     "base_uri": "https://localhost:8080/"
    },
    "id": "siTA2NxCxAhN",
    "outputId": "183b0963-52a0-4009-a031-6358bd6df5c7"
   },
   "outputs": [
    {
     "name": "stdout",
     "output_type": "stream",
     "text": [
      "La media de la variable abundancia es 59.99 el EE es: 5.629107 \n",
      "La media de la variable temperatura es 25.46974 el EE es: 2.676529 \n",
      "La media de la variable humedad es 46.28024 el EE es: 10.61673 \n",
      "La media de la variable ph es 5.402362 el EE es: 0.9214056 \n"
     ]
    }
   ],
   "source": [
    "# Iterar por columnas y hacer calculos como estimar la media y el error\n",
    "# estandar (EE)\n",
    "\n",
    "for (columna in 2:ncol(datos)){ #2:ncol(datos) porque no quiero que me tome en cuenta la primera columna\n",
    "  media = mean(datos[[columna]])\n",
    "  EE =  sd(datos[[columna]]) / sqrt(length(datos)) # Estimar el error estandar sd/sqrt(n)\n",
    "  nombre = names(datos[columna])\n",
    "  cat(\"La media de la variable\", nombre,\"es\",media, \"el EE es:\", EE,\"\\n\")\n",
    "}\n",
    "\n",
    "# datos[[columna]] es lo mismo que datos[,columna] da como resultado un vector\n",
    "# datos[columna] (sin doble corchete y sin coma adentro) da como resultado un\n",
    "# data frame con una sola columna\n",
    "\n",
    "# mean() es una función que necesita un vector para trabajar, por eso usamos\n",
    "# datos[[columna]] dentro de mean().\n",
    "\n",
    "# names() y colnames() son funciones que necesitan data frame, tabla o matriz\n",
    "# para trabajar por eso usamos datos[columna] dentro de estas funciones"
   ]
  },
  {
   "cell_type": "code",
   "execution_count": 29,
   "metadata": {
    "colab": {
     "base_uri": "https://localhost:8080/"
    },
    "id": "bHY0yXAH0Xph",
    "outputId": "93fae842-ffdb-4e9f-b648-1bd928d131f3"
   },
   "outputs": [
    {
     "name": "stdout",
     "output_type": "stream",
     "text": [
      "No se convirtió \n",
      "°C = 31.55441 °F= 88.79793 \n",
      "No se convirtió \n",
      "°C = 33.54337 °F= 92.37806 \n",
      "°C = 34.74981 °F= 94.54966 \n",
      "No se convirtió \n",
      "°C = 26.09022 °F= 78.96239 \n",
      "°C = 33.7408 °F= 92.73344 \n",
      "°C = 26.58014 °F= 79.84424 \n",
      "No se convirtió \n",
      "°C = 35.0935 °F= 95.1683 \n",
      "No se convirtió \n",
      "°C = 29.22898 °F= 84.61217 \n",
      "°C = 27.0253 °F= 80.64554 \n",
      "No se convirtió \n",
      "°C = 33.89632 °F= 93.01338 \n",
      "No se convirtió \n",
      "No se convirtió \n",
      "No se convirtió \n",
      "°C = 35.04458 °F= 95.08024 \n",
      "°C = 33.68033 °F= 92.62459 \n",
      "°C = 29.54887 °F= 85.18797 \n",
      "°C = 28.45064 °F= 83.21116 \n",
      "°C = 35.87967 °F= 96.5834 \n",
      "°C = 28.76982 °F= 83.78568 \n"
     ]
    }
   ],
   "source": [
    "# iterar por filas y usar estructuras if\n",
    "\n",
    "# por ejemplo transformar las temperaturas de °C a °F utilizando\n",
    "# nuestra función de conversión\n",
    "\n",
    "# Considerar las primeras 25 filas\n",
    "# y solo transformar si la temperatura es menor a 25 °C\n",
    "\n",
    "for(fila in 1:25){\n",
    "  c = datos[fila, \"temperatura\"] #accedemos al valor de t en celsius\n",
    "  if(c >=25){\n",
    "    f = celsius_a_fahrenheit(celsius = c) #convertimos\n",
    "    cat(\"°C =\", c, \"°F=\",f, \"\\n\" )\n",
    "  }else{\n",
    "  cat(\"No se convirtió \\n\" )\n",
    "  }\n",
    "}"
   ]
  },
  {
   "cell_type": "markdown",
   "metadata": {
    "id": "tfUmRJutHQqA"
   },
   "source": [
    "<a name='4.1.4'></a>\n",
    "### 4.1.4) Aplicar bucles for en funciones\n",
    "\n",
    "<font size = \"4\"> **Ejemplo con con función Celsius a Fahrenheit** </font>\n",
    "\n",
    "En la sección 3.1 creamos una función que nos convertía de grados celsius a fahrenheit.\n",
    "\n",
    "Esta es la función original:\n",
    "```\n",
    "celsius_a_fahrenheit <- function(celsius) {\n",
    "  fahrenheit <- (celsius * 9/5) + 32\n",
    "  return(fahrenheit)\n",
    "}\n",
    "\n",
    "```\n",
    "En la función original el argumento **celsius** recibe **un solo dato** en formato numerico con el valor de temperatura que queremos convertir.\n",
    "\n",
    "Para mejorar la función podemos decirle a R que nos tome multiples valores de temperatura y que nos los convierta uno a uno.\n",
    "\n",
    "Como quedaría la función nueva?"
   ]
  },
  {
   "cell_type": "code",
   "execution_count": 30,
   "metadata": {
    "id": "9GklOk824Jnk"
   },
   "outputs": [],
   "source": [
    "c_a_f <- function(celsius) {\n",
    "temperaturas <- c() # creamos una lista para que nos guarde todo en un vector\n",
    "for(i in celsius){\n",
    "    fahrenheit <- (i * 9/5) + 32\n",
    "    temperaturas <- c(temperaturas, fahrenheit)\n",
    " }\n",
    "return(temperaturas)\n",
    "}"
   ]
  },
  {
   "cell_type": "markdown",
   "metadata": {
    "id": "F1rewqi46loz"
   },
   "source": [
    "En la nueva función **celsius** es **un vector** con las temperaturas que queremos convertir songamos que creamos este vector así:\n",
    "\n",
    "```temp <- 25:30```\n",
    "\n",
    "y se lo damos a la función de la siguiente manera:\n",
    "```\n",
    "c_a_f(celsius= temp)\n",
    "```\n",
    "Cuando ejecutemos esta función, los valores dentro de ```temp``` iterarán en un bucle for. En cada iteración i contendrá el una de las temperaturas en ```temp```. De esta manera el bucle for permitirá recorrer todo el vector de temperaturas y hacer el la conversión para cada una de ellas:\n",
    "\n",
    "Veamos como sale:"
   ]
  },
  {
   "cell_type": "code",
   "execution_count": 31,
   "metadata": {
    "colab": {
     "base_uri": "https://localhost:8080/",
     "height": 34
    },
    "id": "axNGujw17OaV",
    "outputId": "4c45cbc4-d03e-4add-ebee-92d5e14ec473"
   },
   "outputs": [
    {
     "data": {
      "text/html": [
       "<style>\n",
       ".list-inline {list-style: none; margin:0; padding: 0}\n",
       ".list-inline>li {display: inline-block}\n",
       ".list-inline>li:not(:last-child)::after {content: \"\\00b7\"; padding: 0 .5ex}\n",
       "</style>\n",
       "<ol class=list-inline><li>77</li><li>78.8</li><li>80.6</li><li>82.4</li><li>84.2</li><li>86</li></ol>\n"
      ],
      "text/latex": [
       "\\begin{enumerate*}\n",
       "\\item 77\n",
       "\\item 78.8\n",
       "\\item 80.6\n",
       "\\item 82.4\n",
       "\\item 84.2\n",
       "\\item 86\n",
       "\\end{enumerate*}\n"
      ],
      "text/markdown": [
       "1. 77\n",
       "2. 78.8\n",
       "3. 80.6\n",
       "4. 82.4\n",
       "5. 84.2\n",
       "6. 86\n",
       "\n",
       "\n"
      ],
      "text/plain": [
       "[1] 77.0 78.8 80.6 82.4 84.2 86.0"
      ]
     },
     "metadata": {},
     "output_type": "display_data"
    }
   ],
   "source": [
    "temp <- 25:30\n",
    "c_a_f(celsius = temp)"
   ]
  },
  {
   "cell_type": "markdown",
   "metadata": {
    "id": "XPLVL3Nn5f_s"
   },
   "source": [
    "\n",
    "<font size = \"4\"> **Ejemplo con con función de regresiones y gráficos** </font>\n",
    "\n",
    "En la sección 3.3 creamos una función que nos ajustaba una regresión entre una variable y y una variable x, y además nos hacía un gráfico para estas dos variables y nos dibujaba la recta de regresión.\n",
    "\n",
    "Estaría bueno que la función nos pueda entregar resultados para múltiples variables x en vez de una.\n",
    "¿Cómo podemos mejorar nuestra función?\n",
    "\n",
    "Esta es la función original:\n",
    "```\n",
    "reg_y_grafico <- function(df, var.y, var.x){\n",
    "  mo <- lm(df[,var.y]~df[,var.x])\n",
    "  plot(x= df[, var.x], y = df[,var.y],\n",
    "  ylab=var.y, xlab= var.x,  pch=16, col = \"grey60\")\n",
    "  abline(mo, col=\"firebrick\", lwd=2)\n",
    "  return(mo)\n",
    "}\n",
    "\n",
    "```\n",
    "En la función original el argumento **var.x** recibe **un solo dato** en formato caracter con el nombre de la variable x de interés.\n",
    "\n",
    "Para mejorar la función podemos decirle a R que nos tome multiples variables x en vez de una.\n",
    "\n",
    "Como quedaría la función nueva?"
   ]
  },
  {
   "cell_type": "code",
   "execution_count": 32,
   "metadata": {
    "id": "1aIr4KueHuCF"
   },
   "outputs": [],
   "source": [
    "# nueva función\n",
    "reg_y_grafico_multiple<- function(df, var.y, vars.x){\n",
    "  for (i in vars.x){\n",
    "  mo <- lm(df[,var.y]~df[,i])\n",
    "  plot(x= df[, i], y = df[,var.y],\n",
    "  ylab=var.y, xlab= i,  pch=16, col = \"grey60\")\n",
    "  abline(mo, col= \"firebrick\", lwd=2)\n",
    "  }\n",
    "  return(mo)\n",
    "}\n",
    "#notar por que elemento se reemplazo a var.x en esta nueva función"
   ]
  },
  {
   "cell_type": "markdown",
   "metadata": {
    "id": "VC0MaTzyKhr6"
   },
   "source": [
    "En la nueva función **vars.x** (así se llamará el nuevo argumento) será **un vector** con los nombres de las variables que nos interesan. Supongamos que creamos este vector así:\n",
    "\n",
    "```variablesx <- c(\"temperatura\", \"humedad\", \"ph\")```\n",
    "\n",
    "y se lo damos a la función de la siguiente manera:\n",
    "```\n",
    "reg_y_grafico_multiple(df=datos,var.y = \"abundancia\",vars.x = variablesx)\n",
    "```\n",
    "Cuando ejecutemos esta función, los nombres de las variables dentro de ```variablesx``` iterarán en un bucle for. En cada iteración i contendrá el nombre de una de las tres variables dentro de ```variablesx```. De esta manera el bucle for permitirá recorrer todo el vector de variables x y hacer el análisis y el gráfico para cada una de las ellas.\n",
    "\n",
    "Veamos como sale:"
   ]
  },
  {
   "cell_type": "code",
   "execution_count": 33,
   "metadata": {
    "colab": {
     "base_uri": "https://localhost:8080/",
     "height": 1000
    },
    "id": "dPAWqFAuIj1p",
    "outputId": "80db71c3-886f-4d18-8f58-f2191a5ee278"
   },
   "outputs": [
    {
     "data": {
      "image/png": "[encoded data removed]",
      "text/plain": [
       "plot without title"
      ]
     },
     "metadata": {
      "image/png": {
       "height": 420,
       "width": 420
      }
     },
     "output_type": "display_data"
    },
    {
     "data": {
      "image/png": "[encoded data removed]",
      "text/plain": [
       "plot without title"
      ]
     },
     "metadata": {
      "image/png": {
       "height": 420,
       "width": 420
      }
     },
     "output_type": "display_data"
    },
    {
     "data": {
      "text/plain": [
       "\n",
       "Call:\n",
       "lm(formula = df[, var.y] ~ df[, i])\n",
       "\n",
       "Coefficients:\n",
       "(Intercept)      df[, i]  \n",
       "     52.512        1.384  \n"
      ]
     },
     "metadata": {},
     "output_type": "display_data"
    },
    {
     "data": {
      "image/png": "[encoded data removed]",
      "text/plain": [
       "plot without title"
      ]
     },
     "metadata": {
      "image/png": {
       "height": 420,
       "width": 420
      }
     },
     "output_type": "display_data"
    }
   ],
   "source": [
    "variablesx <- c(\"temperatura\", \"humedad\", \"ph\") #creamos un vector con nuestras variables x\n",
    "#ejecutamos la nueva versión de nuestra funcion\n",
    "reg_y_grafico_multiple(df=datos,var.y = \"abundancia\",vars.x = variablesx)\n"
   ]
  },
  {
   "cell_type": "markdown",
   "metadata": {
    "id": "yIErcrtHmeHy"
   },
   "source": [
    "<a name='4.1.5'></a>\n",
    "### 4.1.5) Aplicar bucles for a listas\n",
    "Una lista en R es una estructura que puede contener objetos de distintos tipos y tamaños: vectores, data frames, números, strings, otras listas, etc.\n",
    "\n",
    "En un bucle for podemos recorrer una lista:\n",
    "* Por posición (índices)\n",
    "* Por nombres (si tiene nombres)\n",
    "* Directamente por los elementos\n",
    "\n",
    "**Ver sección 8.4 del notebook de la clase 1 para repasar sobre listas:**\n",
    "\n",
    "https://colab.research.google.com/drive/14e1g-1QJCiH9bWKiUAZV8j7rZIguPeBo?usp=sharing"
   ]
  },
  {
   "cell_type": "code",
   "execution_count": 34,
   "metadata": {
    "colab": {
     "base_uri": "https://localhost:8080/"
    },
    "id": "iS9LV0CLn--7",
    "outputId": "57e2477c-20ff-40af-92be-10e1cd541157"
   },
   "outputs": [
    {
     "name": "stdout",
     "output_type": "stream",
     "text": [
      "[1] \"Hola\"\n",
      "[1] 42\n",
      "[1] 1 2 3\n"
     ]
    }
   ],
   "source": [
    "# ejemplo simple , imprimir los elementos de una lista\n",
    "\n",
    "mi_lista <- list(\"Hola\", 42, c(1, 2, 3))\n",
    "\n",
    "for (i in 1:length(mi_lista)) {\n",
    "  print(mi_lista[[i]])\n",
    "}"
   ]
  },
  {
   "cell_type": "code",
   "execution_count": 35,
   "metadata": {
    "colab": {
     "base_uri": "https://localhost:8080/"
    },
    "id": "pjyKbgT2pEDj",
    "outputId": "fa3d506a-0f3e-4bda-b84c-6e2fa6f2f4e9"
   },
   "outputs": [
    {
     "name": "stdout",
     "output_type": "stream",
     "text": [
      "[1] 44\n",
      "[1] 3 4 5\n"
     ]
    }
   ],
   "source": [
    "# otro ejemplo sumamos a todos los elementos que son numericos un 2\n",
    "\n",
    "for (i in 1:length(mi_lista)) {\n",
    "  if (is.numeric(mi_lista[[i]])) {\n",
    "    print(mi_lista[[i]] + 2)\n",
    "  }\n",
    "}"
   ]
  },
  {
   "cell_type": "code",
   "execution_count": 36,
   "metadata": {
    "colab": {
     "base_uri": "https://localhost:8080/",
     "height": 34
    },
    "id": "zyPKXF8O2pqk",
    "outputId": "3f47e5fa-0c52-45ee-b8f3-9dc20990e0ce"
   },
   "outputs": [
    {
     "data": {
      "text/html": [
       "<style>\n",
       ".list-inline {list-style: none; margin:0; padding: 0}\n",
       ".list-inline>li {display: inline-block}\n",
       ".list-inline>li:not(:last-child)::after {content: \"\\00b7\"; padding: 0 .5ex}\n",
       "</style>\n",
       "<ol class=list-inline><li>1</li><li>2</li><li>3</li></ol>\n"
      ],
      "text/latex": [
       "\\begin{enumerate*}\n",
       "\\item 1\n",
       "\\item 2\n",
       "\\item 3\n",
       "\\end{enumerate*}\n"
      ],
      "text/markdown": [
       "1. 1\n",
       "2. 2\n",
       "3. 3\n",
       "\n",
       "\n"
      ],
      "text/plain": [
       "[1] 1 2 3"
      ]
     },
     "metadata": {},
     "output_type": "display_data"
    }
   ],
   "source": [
    "1:length(mi_lista[[3]])"
   ]
  },
  {
   "cell_type": "code",
   "execution_count": 37,
   "metadata": {
    "colab": {
     "base_uri": "https://localhost:8080/"
    },
    "id": "Wrp1z0tS2G8q",
    "outputId": "7a667ccf-1d35-4ba3-a927-a58b7b3187b9"
   },
   "outputs": [
    {
     "name": "stdout",
     "output_type": "stream",
     "text": [
      "[1] 11\n",
      "[1] 12\n",
      "[1] 13\n"
     ]
    }
   ],
   "source": [
    "# sumamos + 10 solo a los elementos del objeto 3 de la lista (c(1,2,3))\n",
    "for(k in 1:length(mi_lista[[3]])){ #mi_lista[[3]] accedemos al objeto 3 dentro de la lista\n",
    "  print(k+10)\n",
    "}"
   ]
  },
  {
   "cell_type": "markdown",
   "metadata": {
    "id": "2X5gA5L5vrt0"
   },
   "source": [
    "<a name='4.1.6'></a>\n",
    "### 4.1.6) Guardar datos generados en un bucle en una lista\n",
    "\n",
    "Para guardar nuevos elementos en una lista utilizamos la asignación por indices con [[ ]]. Ejemplo\n"
   ]
  },
  {
   "cell_type": "code",
   "execution_count": 38,
   "metadata": {
    "colab": {
     "base_uri": "https://localhost:8080/"
    },
    "id": "OhS1wXoXrJiA",
    "outputId": "6e41c6d0-f14b-4d38-e37a-c5a6af80c43f"
   },
   "outputs": [
    {
     "name": "stdout",
     "output_type": "stream",
     "text": [
      "$vec1\n",
      "[1] 1 4 9\n",
      "\n",
      "$vec2\n",
      "[1] 16 25 36 49\n",
      "\n",
      "$vec3\n",
      "[1] 64 81\n",
      "\n"
     ]
    }
   ],
   "source": [
    "# Crear una nueva lista con resultados\n",
    "numeros <- list(vec1 = c(1, 2, 3), vec2 = c(4, 5, 6, 7), vec3 = c(8, 9))\n",
    "cuadrados <- list()  # lista vacía para guardar resultados\n",
    "\n",
    "for (i in names(numeros)) { # names(numeros) =c(\"vec1\",\"vec2\",\"vec3\")\n",
    "  cuadrados[[i]] <- numeros[[i]]^2\n",
    "}\n",
    "\n",
    "print(cuadrados)"
   ]
  },
  {
   "cell_type": "markdown",
   "metadata": {
    "id": "TzfR-ohUvWV6"
   },
   "source": [
    "Ejemplo mas complejo\n",
    "\n",
    "Supongamos que corremos multiples regresiones para muchas variables del data frame de abundancia y queremos guardar los resultados en una lista. ¿Cómo hacemos?"
   ]
  },
  {
   "cell_type": "code",
   "execution_count": 39,
   "metadata": {
    "colab": {
     "base_uri": "https://localhost:8080/",
     "height": 521
    },
    "id": "aDSKioTypyfy",
    "outputId": "21661a26-c047-4b90-8f53-4a7366942547"
   },
   "outputs": [
    {
     "data": {
      "text/plain": [
       "$temperatura\n",
       "\n",
       "Call:\n",
       "lm(formula = datos$abundancia ~ datos[, i])\n",
       "\n",
       "Coefficients:\n",
       "(Intercept)   datos[, i]  \n",
       "    42.0828       0.7031  \n",
       "\n",
       "\n",
       "$humedad\n",
       "\n",
       "Call:\n",
       "lm(formula = datos$abundancia ~ datos[, i])\n",
       "\n",
       "Coefficients:\n",
       "(Intercept)   datos[, i]  \n",
       "    76.4256      -0.3551  \n",
       "\n",
       "\n",
       "$ph\n",
       "\n",
       "Call:\n",
       "lm(formula = datos$abundancia ~ datos[, i])\n",
       "\n",
       "Coefficients:\n",
       "(Intercept)   datos[, i]  \n",
       "     52.512        1.384  \n",
       "\n"
      ]
     },
     "metadata": {},
     "output_type": "display_data"
    }
   ],
   "source": [
    "regresiones <- list() #creamos lista vacía\n",
    "variablesx <- c(\"temperatura\", \"humedad\", \"ph\") #creamos un vector con nuestras variables x\n",
    "\n",
    "# Analizamos\n",
    "for (i in variablesx){\n",
    "regresiones[[i]] <- lm(datos$abundancia~datos[, i]) #Guardamos\n",
    "}\n",
    "regresiones\n",
    "#lo que creamos aquí es una lista de tres elementos con las regresiones\n",
    "# de cada una de las tres variables."
   ]
  },
  {
   "cell_type": "markdown",
   "metadata": {
    "id": "CQhQf1oGr9kQ"
   },
   "source": [
    "Es necesario saber que cuando ejecutamos una regresión con lm(), R genera un objeto que es una lista que tiene multiples resultados referidos a nuestro analisis de regresión. Veamos con un ejemplo:"
   ]
  },
  {
   "cell_type": "code",
   "execution_count": 40,
   "metadata": {
    "colab": {
     "base_uri": "https://localhost:8080/"
    },
    "id": "kYcpZdMGr83J",
    "outputId": "3cc3c025-3807-4788-b0b6-4902569c433c"
   },
   "outputs": [
    {
     "name": "stdout",
     "output_type": "stream",
     "text": [
      "List of 12\n",
      " $ coefficients : Named num [1:2] 52.51 1.38\n",
      "  ..- attr(*, \"names\")= chr [1:2] \"(Intercept)\" \"datos$ph\"\n",
      " $ residuals    : Named num [1:100] 1.406 11.395 0.893 -16.271 4.819 ...\n",
      "  ..- attr(*, \"names\")= chr [1:100] \"1\" \"2\" \"3\" \"4\" ...\n",
      " $ effects      : Named num [1:100] -599.9 -28.376 0.312 -16.568 4.892 ...\n",
      "  ..- attr(*, \"names\")= chr [1:100] \"(Intercept)\" \"datos$ph\" \"\" \"\" ...\n",
      " $ rank         : int 2\n",
      " $ fitted.values: Named num [1:100] 57.6 64.6 61.1 60.3 59.2 ...\n",
      "  ..- attr(*, \"names\")= chr [1:100] \"1\" \"2\" \"3\" \"4\" ...\n",
      " $ assign       : int [1:2] 0 1\n",
      " $ qr           :List of 5\n",
      "  ..$ qr   : num [1:100, 1:2] -10 0.1 0.1 0.1 0.1 0.1 0.1 0.1 0.1 0.1 ...\n",
      "  .. ..- attr(*, \"dimnames\")=List of 2\n",
      "  .. .. ..$ : chr [1:100] \"1\" \"2\" \"3\" \"4\" ...\n",
      "  .. .. ..$ : chr [1:2] \"(Intercept)\" \"datos$ph\"\n",
      "  .. ..- attr(*, \"assign\")= int [1:2] 0 1\n",
      "  ..$ qraux: num [1:2] 1.1 1.17\n",
      "  ..$ pivot: int [1:2] 1 2\n",
      "  ..$ tol  : num 1e-07\n",
      "  ..$ rank : int 2\n",
      "  ..- attr(*, \"class\")= chr \"qr\"\n",
      " $ df.residual  : int 98\n",
      " $ xlevels      : Named list()\n",
      " $ call         : language lm(formula = datos$abundancia ~ datos$ph)\n",
      " $ terms        :Classes 'terms', 'formula'  language datos$abundancia ~ datos$ph\n",
      "  .. ..- attr(*, \"variables\")= language list(datos$abundancia, datos$ph)\n",
      "  .. ..- attr(*, \"factors\")= int [1:2, 1] 0 1\n",
      "  .. .. ..- attr(*, \"dimnames\")=List of 2\n",
      "  .. .. .. ..$ : chr [1:2] \"datos$abundancia\" \"datos$ph\"\n",
      "  .. .. .. ..$ : chr \"datos$ph\"\n",
      "  .. ..- attr(*, \"term.labels\")= chr \"datos$ph\"\n",
      "  .. ..- attr(*, \"order\")= int 1\n",
      "  .. ..- attr(*, \"intercept\")= int 1\n",
      "  .. ..- attr(*, \"response\")= int 1\n",
      "  .. ..- attr(*, \".Environment\")=<environment: R_GlobalEnv> \n",
      "  .. ..- attr(*, \"predvars\")= language list(datos$abundancia, datos$ph)\n",
      "  .. ..- attr(*, \"dataClasses\")= Named chr [1:2] \"numeric\" \"numeric\"\n",
      "  .. .. ..- attr(*, \"names\")= chr [1:2] \"datos$abundancia\" \"datos$ph\"\n",
      " $ model        :'data.frame':\t100 obs. of  2 variables:\n",
      "  ..$ datos$abundancia: int [1:100] 59 76 62 44 64 46 37 67 58 63 ...\n",
      "  ..$ datos$ph        : num [1:100] 3.67 8.74 6.21 5.61 4.82 ...\n",
      "  ..- attr(*, \"terms\")=Classes 'terms', 'formula'  language datos$abundancia ~ datos$ph\n",
      "  .. .. ..- attr(*, \"variables\")= language list(datos$abundancia, datos$ph)\n",
      "  .. .. ..- attr(*, \"factors\")= int [1:2, 1] 0 1\n",
      "  .. .. .. ..- attr(*, \"dimnames\")=List of 2\n",
      "  .. .. .. .. ..$ : chr [1:2] \"datos$abundancia\" \"datos$ph\"\n",
      "  .. .. .. .. ..$ : chr \"datos$ph\"\n",
      "  .. .. ..- attr(*, \"term.labels\")= chr \"datos$ph\"\n",
      "  .. .. ..- attr(*, \"order\")= int 1\n",
      "  .. .. ..- attr(*, \"intercept\")= int 1\n",
      "  .. .. ..- attr(*, \"response\")= int 1\n",
      "  .. .. ..- attr(*, \".Environment\")=<environment: R_GlobalEnv> \n",
      "  .. .. ..- attr(*, \"predvars\")= language list(datos$abundancia, datos$ph)\n",
      "  .. .. ..- attr(*, \"dataClasses\")= Named chr [1:2] \"numeric\" \"numeric\"\n",
      "  .. .. .. ..- attr(*, \"names\")= chr [1:2] \"datos$abundancia\" \"datos$ph\"\n",
      " - attr(*, \"class\")= chr \"lm\"\n"
     ]
    }
   ],
   "source": [
    "reg <- lm(datos$abundancia~datos$ph)\n",
    "str(reg)# vemos la estructura de reg\n"
   ]
  },
  {
   "cell_type": "code",
   "execution_count": 41,
   "metadata": {
    "colab": {
     "base_uri": "https://localhost:8080/",
     "height": 34
    },
    "id": "thdsm1O1y5lS",
    "outputId": "b211052c-1277-4c5a-c018-3efb058cd862"
   },
   "outputs": [
    {
     "data": {
      "text/html": [
       "<style>\n",
       ".dl-inline {width: auto; margin:0; padding: 0}\n",
       ".dl-inline>dt, .dl-inline>dd {float: none; width: auto; display: inline-block}\n",
       ".dl-inline>dt::after {content: \":\\0020\"; padding-right: .5ex}\n",
       ".dl-inline>dt:not(:first-of-type) {padding-left: .5ex}\n",
       "</style><dl class=dl-inline><dt>(Intercept)</dt><dd>52.5119909128673</dd><dt>datos$ph</dt><dd>1.38421107672149</dd></dl>\n"
      ],
      "text/latex": [
       "\\begin{description*}\n",
       "\\item[(Intercept)] 52.5119909128673\n",
       "\\item[datos\\textbackslash{}\\$ph] 1.38421107672149\n",
       "\\end{description*}\n"
      ],
      "text/markdown": [
       "(Intercept)\n",
       ":   52.5119909128673datos$ph\n",
       ":   1.38421107672149\n",
       "\n"
      ],
      "text/plain": [
       "(Intercept)    datos$ph \n",
       "  52.511991    1.384211 "
      ]
     },
     "metadata": {},
     "output_type": "display_data"
    }
   ],
   "source": [
    "# accedemos a alos elementos con $ o [[ ]]\n",
    "reg$coefficients"
   ]
  },
  {
   "cell_type": "markdown",
   "metadata": {
    "id": "Da82XeYhw5Rp"
   },
   "source": [
    "Entonces, cuando corrimos las multiples regresiones más arriba con este código:\n",
    "```\n",
    "regresiones <- list() #creamos lista vacía\n",
    "variablesx <- c(\"temperatura\", \"humedad\", \"ph\")\n",
    "\n",
    "for (i in variablesx){\n",
    "regresiones[[i]] <- lm(datos$abundancia~datos[, i])  \n",
    "}\n",
    "```\n",
    "Creamos una **lista de 3 listas cada una con 12 elementos**.\n",
    "¿Cómo haríamos si por alguna razón queremos ver los coeficientes de cada modelo dentro de la lista regresiones?"
   ]
  },
  {
   "cell_type": "code",
   "execution_count": 42,
   "metadata": {
    "colab": {
     "base_uri": "https://localhost:8080/",
     "height": 34
    },
    "id": "1xsuh5hs1S8Y",
    "outputId": "a230ecda-c621-4895-ed3a-7acf7175e8ba"
   },
   "outputs": [
    {
     "data": {
      "text/html": [
       "<style>\n",
       ".dl-inline {width: auto; margin:0; padding: 0}\n",
       ".dl-inline>dt, .dl-inline>dd {float: none; width: auto; display: inline-block}\n",
       ".dl-inline>dt::after {content: \":\\0020\"; padding-right: .5ex}\n",
       ".dl-inline>dt:not(:first-of-type) {padding-left: .5ex}\n",
       "</style><dl class=dl-inline><dt>(Intercept)</dt><dd>42.0827824876832</dd><dt>datos[, i]</dt><dd>0.703078174353758</dd></dl>\n"
      ],
      "text/latex": [
       "\\begin{description*}\n",
       "\\item[(Intercept)] 42.0827824876832\n",
       "\\item[datos\\{{[}\\}, i\\{{]}\\}] 0.703078174353758\n",
       "\\end{description*}\n"
      ],
      "text/markdown": [
       "(Intercept)\n",
       ":   42.0827824876832datos[, i]\n",
       ":   0.703078174353758\n",
       "\n"
      ],
      "text/plain": [
       "(Intercept)  datos[, i] \n",
       " 42.0827825   0.7030782 "
      ]
     },
     "metadata": {},
     "output_type": "display_data"
    }
   ],
   "source": [
    "#Para una variable podemos hacer esto\n",
    "regresiones[[\"temperatura\"]]$coefficients"
   ]
  },
  {
   "cell_type": "code",
   "execution_count": 43,
   "metadata": {
    "colab": {
     "base_uri": "https://localhost:8080/",
     "height": 34
    },
    "id": "SYHnywVv1iX6",
    "outputId": "fa371743-0a66-401f-b085-d80a105cce02"
   },
   "outputs": [
    {
     "data": {
      "text/html": [
       "<style>\n",
       ".dl-inline {width: auto; margin:0; padding: 0}\n",
       ".dl-inline>dt, .dl-inline>dd {float: none; width: auto; display: inline-block}\n",
       ".dl-inline>dt::after {content: \":\\0020\"; padding-right: .5ex}\n",
       ".dl-inline>dt:not(:first-of-type) {padding-left: .5ex}\n",
       "</style><dl class=dl-inline><dt>(Intercept)</dt><dd>42.0827824876832</dd><dt>datos[, i]</dt><dd>0.703078174353758</dd></dl>\n"
      ],
      "text/latex": [
       "\\begin{description*}\n",
       "\\item[(Intercept)] 42.0827824876832\n",
       "\\item[datos\\{{[}\\}, i\\{{]}\\}] 0.703078174353758\n",
       "\\end{description*}\n"
      ],
      "text/markdown": [
       "(Intercept)\n",
       ":   42.0827824876832datos[, i]\n",
       ":   0.703078174353758\n",
       "\n"
      ],
      "text/plain": [
       "(Intercept)  datos[, i] \n",
       " 42.0827825   0.7030782 "
      ]
     },
     "metadata": {},
     "output_type": "display_data"
    }
   ],
   "source": [
    "# el codigo de arriba es lo mismo que esto\n",
    "regresiones$temperatura$coefficients"
   ]
  },
  {
   "cell_type": "code",
   "execution_count": 44,
   "metadata": {
    "colab": {
     "base_uri": "https://localhost:8080/",
     "height": 34
    },
    "id": "lMo0qRP11pDe",
    "outputId": "b10d4c7c-c492-4994-ae85-3aed64e9d3ba"
   },
   "outputs": [
    {
     "data": {
      "text/html": [
       "<style>\n",
       ".dl-inline {width: auto; margin:0; padding: 0}\n",
       ".dl-inline>dt, .dl-inline>dd {float: none; width: auto; display: inline-block}\n",
       ".dl-inline>dt::after {content: \":\\0020\"; padding-right: .5ex}\n",
       ".dl-inline>dt:not(:first-of-type) {padding-left: .5ex}\n",
       "</style><dl class=dl-inline><dt>(Intercept)</dt><dd>42.0827824876832</dd><dt>datos[, i]</dt><dd>0.703078174353758</dd></dl>\n"
      ],
      "text/latex": [
       "\\begin{description*}\n",
       "\\item[(Intercept)] 42.0827824876832\n",
       "\\item[datos\\{{[}\\}, i\\{{]}\\}] 0.703078174353758\n",
       "\\end{description*}\n"
      ],
      "text/markdown": [
       "(Intercept)\n",
       ":   42.0827824876832datos[, i]\n",
       ":   0.703078174353758\n",
       "\n"
      ],
      "text/plain": [
       "(Intercept)  datos[, i] \n",
       " 42.0827825   0.7030782 "
      ]
     },
     "metadata": {},
     "output_type": "display_data"
    }
   ],
   "source": [
    "# o esto\n",
    "regresiones$temperatura[[\"coefficients\"]]"
   ]
  },
  {
   "cell_type": "code",
   "execution_count": 45,
   "metadata": {
    "colab": {
     "base_uri": "https://localhost:8080/"
    },
    "id": "EPXlQWOosm73",
    "outputId": "f5de538d-0de9-45dc-8684-a680c679a305"
   },
   "outputs": [
    {
     "name": "stdout",
     "output_type": "stream",
     "text": [
      "Variable: temperatura \n",
      " 42.08278 0.7030782 \n",
      "Variable: humedad \n",
      " 76.42564 -0.355133 \n",
      "Variable: ph \n",
      " 52.51199 1.384211 \n"
     ]
    }
   ],
   "source": [
    "#Para todas las variables como hacemos?\n",
    "\n",
    "variablesx <- c(\"temperatura\", \"humedad\", \"ph\")\n",
    "for(var in variablesx){\n",
    "  cat(\"Variable:\",var, \"\\n\",regresiones[[var]]$coefficients,\"\\n\")\n",
    "}\n"
   ]
  },
  {
   "cell_type": "markdown",
   "metadata": {
    "id": "EozaHlbcG8rc"
   },
   "source": [
    "<a name='4.1.7'></a>\n",
    "### 4.1.7) Bucles for anidados\n",
    "\n",
    "Un bucle for anidado es simplemente un for dentro de otro for. Se usa cuando necesitamos recorrer dos dimensiones o hacer comparaciones combinando elementos de dos secuencias (por ejemplo: filas y columnas, combinaciones de variables, pares de valores, etc.)"
   ]
  },
  {
   "cell_type": "code",
   "execution_count": 46,
   "metadata": {
    "colab": {
     "base_uri": "https://localhost:8080/"
    },
    "id": "NCBnQxAcQ3PV",
    "outputId": "c47902aa-a8bd-4dfd-fe47-1eaaf2adb3d0"
   },
   "outputs": [
    {
     "name": "stdout",
     "output_type": "stream",
     "text": [
      "[1] \"Bloque 1-T1\"\n",
      "[1] \"Bloque 1-T2\"\n",
      "[1] \"Bloque 1-T3\"\n",
      "[1] \"Bloque 1-T4\"\n",
      "[1] \"Bloque 2-T1\"\n",
      "[1] \"Bloque 2-T2\"\n",
      "[1] \"Bloque 2-T3\"\n",
      "[1] \"Bloque 2-T4\"\n",
      "[1] \"Bloque 3-T1\"\n",
      "[1] \"Bloque 3-T2\"\n",
      "[1] \"Bloque 3-T3\"\n",
      "[1] \"Bloque 3-T4\"\n"
     ]
    }
   ],
   "source": [
    "#Combinaciones de bloques y tratamientos\n",
    "bloques <-c(\"Bloque 1\",\"Bloque 2\", \"Bloque 3\")\n",
    "tratamientos <- c(\"T1\",\"T2\",\"T3\",\"T4\")\n",
    "\n",
    "for(i in bloques){\n",
    "  for(k in tratamientos){\n",
    "    comb <- paste(i,k, sep=\"-\")\n",
    "    print(comb)\n",
    "  }\n",
    "}"
   ]
  },
  {
   "cell_type": "markdown",
   "metadata": {
    "id": "4QA1GgdVN3ms"
   },
   "source": [
    "Como funciona este bucle anidado:\n",
    "El i externo va de 1 a 3 → habrá 3 vueltas del bucle externo.\n",
    "\n",
    "En cada vuelta del loop externo, se ejecuta el loop interno (k) que va de 1 a 4 → por cada valor de i, se hacen 4 vueltas de k.\n",
    "\n",
    "Total de combinaciones: 3 × 4 = 12 repeticiones.\n",
    "\n",
    "<center>\n",
    "<img src=\"imagenes/for-anidado.jpg\" alt=\"for-anidado\" style=\"width:500px;\"/>\n",
    "</center>\n"
   ]
  },
  {
   "cell_type": "markdown",
   "metadata": {
    "id": "WCaXOQ5cPHNM"
   },
   "source": [
    "Ejemplo con un data frame"
   ]
  },
  {
   "cell_type": "code",
   "execution_count": 47,
   "metadata": {
    "colab": {
     "base_uri": "https://localhost:8080/"
    },
    "id": "aixvxH6TPGzV",
    "outputId": "7966cbde-6a2e-4f75-a81e-aa5c1f3c0c6b"
   },
   "outputs": [
    {
     "name": "stdout",
     "output_type": "stream",
     "text": [
      "[1] \"Fila: 1 Variable: muestreo Valor: 1\"\n",
      "[1] \"Fila: 1 Variable: abundancia Valor: 59\"\n",
      "[1] \"Fila: 1 Variable: temperatura Valor: 21.04\"\n",
      "[1] \"Fila: 1 Variable: humedad Valor: 54\"\n",
      "[1] \"Fila: 1 Variable: ph Valor: 3.67\"\n",
      "[1] \"Fila: 2 Variable: muestreo Valor: 2\"\n",
      "[1] \"Fila: 2 Variable: abundancia Valor: 76\"\n",
      "[1] \"Fila: 2 Variable: temperatura Valor: 31.55\"\n",
      "[1] \"Fila: 2 Variable: humedad Valor: 29.95\"\n",
      "[1] \"Fila: 2 Variable: ph Valor: 8.74\"\n",
      "[1] \"Fila: 3 Variable: muestreo Valor: 3\"\n",
      "[1] \"Fila: 3 Variable: abundancia Valor: 62\"\n",
      "[1] \"Fila: 3 Variable: temperatura Valor: 23.59\"\n",
      "[1] \"Fila: 3 Variable: humedad Valor: 43.98\"\n",
      "[1] \"Fila: 3 Variable: ph Valor: 6.21\"\n"
     ]
    }
   ],
   "source": [
    "#Recorramos las primeras 3 filas del data frame de abundancia\n",
    "\n",
    "for (fila in 1:3) {\n",
    "  for (columna in 1:ncol(datos)) {\n",
    "    nombre <- colnames(datos[columna])\n",
    "    valor <- round(datos[fila, columna],2)\n",
    "    print(paste(\"Fila:\", fila, \"Variable:\", nombre, \"Valor:\", valor))\n",
    "  }\n",
    "}"
   ]
  },
  {
   "cell_type": "markdown",
   "metadata": {
    "id": "845SSWI6WP0I"
   },
   "source": [
    "<a name='4.2'></a>\n",
    "## 4.2) Bucles while\n",
    "\n",
    "Un bucle **while** repite un bloque de código mientras se cumpla una **condición**.\n",
    "\n",
    "A diferencia del for, que recorre una secuencia conocida de antemano (como 1:10), el while sigue ejecutándose hasta que la condición ya no se cumple.\n",
    "\n",
    "Como es la estructura:\n",
    "```\n",
    "while (condición) {\n",
    "  # código que se repite\n",
    "}\n",
    "```\n",
    "```condición``` debe ser TRUE o FALSE\n",
    "\n",
    "<center>\n",
    "<img src=\"imagenes/while.jpg\" alt=\"while\" style=\"width:300px;\"/>\n",
    "</center>\n",
    "\n",
    "\n"
   ]
  },
  {
   "cell_type": "markdown",
   "metadata": {},
   "source": [
    "Mientras la condición sea TRUE, el código dentro de {} se ejecuta.\n",
    "\n",
    "Cuando la condición pasa a ser FALSE, el loop se detiene.\n",
    "\n",
    "Se lo utiliza cuando no sabés cuántas repeticiones vas a necesitar o cuando el bucle debe parar al cumplirse una condición (por ejemplo, cuando un valor supera un umbral, o se cumple un criterio lógico)."
   ]
  },
  {
   "cell_type": "code",
   "execution_count": 48,
   "metadata": {
    "colab": {
     "base_uri": "https://localhost:8080/"
    },
    "id": "9c9Zw8JgYmJk",
    "outputId": "152057c2-54c5-4e26-e75d-4b2f2af4bfaf"
   },
   "outputs": [
    {
     "name": "stdout",
     "output_type": "stream",
     "text": [
      "[1] 1\n",
      "[1] 2\n",
      "[1] 3\n",
      "[1] 4\n"
     ]
    }
   ],
   "source": [
    "# Ejemplo\n",
    "x <- 1\n",
    "\n",
    "while (x < 5) {\n",
    "  print(x)\n",
    "  x <- x + 1\n",
    "}"
   ]
  },
  {
   "cell_type": "markdown",
   "metadata": {
    "id": "8PjEhMEecled"
   },
   "source": [
    "Que hace el código:\n",
    "<center>\n",
    "<img src=\"imagenes/ej-while.jpg\" alt=\"ej-while\" style=\"width:300px;\"/>\n",
    "</center>\n"
   ]
  },
  {
   "cell_type": "markdown",
   "metadata": {},
   "source": [
    "🚨 **Importante**\n",
    "\n",
    "Tenemos que asegurarnos que la condición eventualmente se vuelva FALSE, si no, el bucle puede quedarse corriendo para siempre (bucle infinito 🔄).\n",
    "\n",
    "Ejemplo de loop infinito (⚠️ **NO** ejecutar tal cual):\n",
    "\n",
    "```\n",
    "x <- 1\n",
    "while (x > 0) {\n",
    "  print(x)\n",
    "}\n",
    "\n",
    "```\n",
    "\n",
    "Al no colocar ```x = x + 1``` después de ```print(x)``` x no cambia y siempre vale 1 en cada iteración, por lo tanto el bucle nunca termina porque la condición ```x < 5``` siempre es verdadera.\n",
    "\n",
    "<center>\n",
    "<img src=\"imagenes/ej-while-inf.jpg\" alt=\"ej-while-inf\" style=\"width:300px;\"/>\n",
    "</center>\n"
   ]
  },
  {
   "cell_type": "markdown",
   "metadata": {
    "id": "lKHrvLn7jHDz"
   },
   "source": [
    "Los bucles while son buenas herramientas cuando queremos simular eventos como el crecimiento poblacional.\n",
    "\n",
    "Supongamos una población que crece de forma exponencial a una tasa fija, y queremos saber cuántas generaciones tarda en alcanzar cierta capacidad límite (K).\n",
    "\n",
    "Supuestos:\n",
    "* **Población inicial:** N0 = 10\n",
    "* **Tasa de crecimiento:** r = 0.2 (20%)\n",
    "* **Capacidad de carga (límite):** K = 100\n",
    "* **Crecimiento:** N_t + 1 = N_t * (1 + r)\n",
    "* Queremos saber: **¿cuántas generaciones tardamos en llegar o superar K?**"
   ]
  },
  {
   "cell_type": "code",
   "execution_count": 49,
   "metadata": {
    "colab": {
     "base_uri": "https://localhost:8080/"
    },
    "id": "rJMFrXq-hzH2",
    "outputId": "c3adb2c3-7e59-4671-a30c-e014ee14c388"
   },
   "outputs": [
    {
     "name": "stdout",
     "output_type": "stream",
     "text": [
      "Se alcanzó la capacidad de carga ( 107 ) en 13 generaciones.\n"
     ]
    }
   ],
   "source": [
    "N <- 10      # población inicial\n",
    "r <- 0.2     # tasa de crecimiento\n",
    "K <- 100     # capacidad de carga\n",
    "generacion <- 0 #ajustamos un contador para saber cuantas generaciones lleva llegar al K\n",
    "\n",
    "# Guardamos la historia para graficar después\n",
    "historial <- c(N) # Empezamos con la población inicial\n",
    "\n",
    "# Bucle while: sigue mientras no llegemos al K\n",
    "while (N < K) { # si la población N es menor al K se ejecuta\n",
    "  N <- N * (1 + r) # crecimiento exponencial, N aquí cambia de valor para el siguiente loop\n",
    "  generacion <- generacion + 1 #el contador cambia a una unidad mayor\n",
    "  historial <- c(historial, N)  # guardamos el nuevo valor en el historial\n",
    "}\n",
    "\n",
    "# Resultado\n",
    "cat(\"Se alcanzó la capacidad de carga (\", round(N, 1),\n",
    "    \") en\", generacion, \"generaciones.\\n\")\n"
   ]
  },
  {
   "cell_type": "code",
   "execution_count": 50,
   "metadata": {
    "colab": {
     "base_uri": "https://localhost:8080/",
     "height": 437
    },
    "id": "mcSTVvFFlfA_",
    "outputId": "3138f843-2b3a-42de-8cf6-02f6d48fa5f9"
   },
   "outputs": [
    {
     "data": {
      "image/png": "[encoded data removed]",
      "text/plain": [
       "Plot with title \"Crecimiento poblacional exponencial\""
      ]
     },
     "metadata": {
      "image/png": {
       "height": 420,
       "width": 420
      }
     },
     "output_type": "display_data"
    }
   ],
   "source": [
    "# Graficamos\n",
    "plot(0:generacion, historial, type=\"o\", pch=16, col=\"forestgreen\",\n",
    "     xlab=\"Generación\", ylab=\"Tamaño poblacional\",\n",
    "     main=\"Crecimiento poblacional exponencial\")\n",
    "abline(h=K, col=\"red\", lty=2)"
   ]
  },
  {
   "cell_type": "markdown",
   "metadata": {
    "id": "Yh9GqqGTh0S0"
   },
   "source": [
    "<a name='4.3'></a>\n",
    "## 4.3) 🔁 for vs while en R\n",
    "\n",
    "|Característica\t|for \t| while |\n",
    "|---------------|-----|-------|\n",
    "|🔄 ¿Cuántas veces corre?|\tSabés de antemano cuántas veces se repite|\tNo sabés, se repite mientras una condición sea TRUE|\n",
    "|🧠 Lógica principal\t|Recorre una secuencia\t|Evalúa una condición antes de cada vuelta|\n",
    "|💥 Riesgo de loop infinito|\tNo (si la secuencia está bien)|\tSí (si la condición nunca cambia a FALSE)|\n",
    "|🛠️ ¿Para qué es útil?\t|Para recorrer vectores, listas, secuencias\t|Para repetir procesos hasta que algo pase|\n",
    "|✏️ Sintaxis|\tfor (i in 1:10) { ... }|\twhile (condición) { ... }|"
   ]
  },
  {
   "cell_type": "markdown",
   "metadata": {
    "id": "8V58CwtZJZ3y"
   },
   "source": [
    "<a name='5'></a>\n",
    "# 5) Referencias\n",
    "* Zuur, Alain & Ieno, Elena & Meesters, Erik. (2009). A Beginner’s Guide to R. 10.1007/978-0-387-93837-0.\n",
    "* Matloff, Norman (2011). The Art of R Programming: A Tour of Statistical Software Design. 978-1-59327-384-2.\n",
    "* Crawley, Michael J. (2013). The R book. Chichester, West Sussex, United Kingdom :Wiley."
   ]
  }
 ],
 "metadata": {
  "colab": {
   "provenance": [],
   "toc_visible": true
  },
  "kernelspec": {
   "display_name": "R-4.4.0",
   "language": "R",
   "name": "r-4.4.0"
  },
  "language_info": {
   "codemirror_mode": "r",
   "file_extension": ".r",
   "mimetype": "text/x-r-source",
   "name": "R",
   "pygments_lexer": "r",
   "version": "4.4.0"
  }
 },
 "nbformat": 4,
 "nbformat_minor": 1
}
